{
 "cells": [
  {
   "cell_type": "code",
   "execution_count": 15,
   "metadata": {},
   "outputs": [],
   "source": [
    "# Ignoring warning messages\n",
    "import warnings\n",
    "warnings.filterwarnings('ignore')\n",
    "\n",
    "# Import the required library\n",
    "import numpy as np\n",
    "import pandas as pd\n",
    "import matplotlib.pyplot as plt\n",
    "import seaborn as sns"
   ]
  },
  {
   "cell_type": "code",
   "execution_count": 16,
   "metadata": {},
   "outputs": [
    {
     "data": {
      "text/html": [
       "<div>\n",
       "<style scoped>\n",
       "    .dataframe tbody tr th:only-of-type {\n",
       "        vertical-align: middle;\n",
       "    }\n",
       "\n",
       "    .dataframe tbody tr th {\n",
       "        vertical-align: top;\n",
       "    }\n",
       "\n",
       "    .dataframe thead th {\n",
       "        text-align: right;\n",
       "    }\n",
       "</style>\n",
       "<table border=\"1\" class=\"dataframe\">\n",
       "  <thead>\n",
       "    <tr style=\"text-align: right;\">\n",
       "      <th></th>\n",
       "      <th>mobile_number</th>\n",
       "      <th>circle_id</th>\n",
       "      <th>loc_og_t2o_mou</th>\n",
       "      <th>std_og_t2o_mou</th>\n",
       "      <th>loc_ic_t2o_mou</th>\n",
       "      <th>last_date_of_month_6</th>\n",
       "      <th>last_date_of_month_7</th>\n",
       "      <th>last_date_of_month_8</th>\n",
       "      <th>last_date_of_month_9</th>\n",
       "      <th>arpu_6</th>\n",
       "      <th>...</th>\n",
       "      <th>sachet_3g_9</th>\n",
       "      <th>fb_user_6</th>\n",
       "      <th>fb_user_7</th>\n",
       "      <th>fb_user_8</th>\n",
       "      <th>fb_user_9</th>\n",
       "      <th>aon</th>\n",
       "      <th>aug_vbc_3g</th>\n",
       "      <th>jul_vbc_3g</th>\n",
       "      <th>jun_vbc_3g</th>\n",
       "      <th>sep_vbc_3g</th>\n",
       "    </tr>\n",
       "  </thead>\n",
       "  <tbody>\n",
       "    <tr>\n",
       "      <th>0</th>\n",
       "      <td>7000842753</td>\n",
       "      <td>109</td>\n",
       "      <td>0.0</td>\n",
       "      <td>0.0</td>\n",
       "      <td>0.0</td>\n",
       "      <td>6/30/2014</td>\n",
       "      <td>7/31/2014</td>\n",
       "      <td>8/31/2014</td>\n",
       "      <td>9/30/2014</td>\n",
       "      <td>197.385</td>\n",
       "      <td>...</td>\n",
       "      <td>0</td>\n",
       "      <td>1.0</td>\n",
       "      <td>1.0</td>\n",
       "      <td>1.0</td>\n",
       "      <td>NaN</td>\n",
       "      <td>968</td>\n",
       "      <td>30.4</td>\n",
       "      <td>0.0</td>\n",
       "      <td>101.20</td>\n",
       "      <td>3.58</td>\n",
       "    </tr>\n",
       "    <tr>\n",
       "      <th>1</th>\n",
       "      <td>7001865778</td>\n",
       "      <td>109</td>\n",
       "      <td>0.0</td>\n",
       "      <td>0.0</td>\n",
       "      <td>0.0</td>\n",
       "      <td>6/30/2014</td>\n",
       "      <td>7/31/2014</td>\n",
       "      <td>8/31/2014</td>\n",
       "      <td>9/30/2014</td>\n",
       "      <td>34.047</td>\n",
       "      <td>...</td>\n",
       "      <td>0</td>\n",
       "      <td>NaN</td>\n",
       "      <td>1.0</td>\n",
       "      <td>1.0</td>\n",
       "      <td>NaN</td>\n",
       "      <td>1006</td>\n",
       "      <td>0.0</td>\n",
       "      <td>0.0</td>\n",
       "      <td>0.00</td>\n",
       "      <td>0.00</td>\n",
       "    </tr>\n",
       "    <tr>\n",
       "      <th>2</th>\n",
       "      <td>7001625959</td>\n",
       "      <td>109</td>\n",
       "      <td>0.0</td>\n",
       "      <td>0.0</td>\n",
       "      <td>0.0</td>\n",
       "      <td>6/30/2014</td>\n",
       "      <td>7/31/2014</td>\n",
       "      <td>8/31/2014</td>\n",
       "      <td>9/30/2014</td>\n",
       "      <td>167.690</td>\n",
       "      <td>...</td>\n",
       "      <td>0</td>\n",
       "      <td>NaN</td>\n",
       "      <td>NaN</td>\n",
       "      <td>NaN</td>\n",
       "      <td>1.0</td>\n",
       "      <td>1103</td>\n",
       "      <td>0.0</td>\n",
       "      <td>0.0</td>\n",
       "      <td>4.17</td>\n",
       "      <td>0.00</td>\n",
       "    </tr>\n",
       "    <tr>\n",
       "      <th>3</th>\n",
       "      <td>7001204172</td>\n",
       "      <td>109</td>\n",
       "      <td>0.0</td>\n",
       "      <td>0.0</td>\n",
       "      <td>0.0</td>\n",
       "      <td>6/30/2014</td>\n",
       "      <td>7/31/2014</td>\n",
       "      <td>8/31/2014</td>\n",
       "      <td>9/30/2014</td>\n",
       "      <td>221.338</td>\n",
       "      <td>...</td>\n",
       "      <td>0</td>\n",
       "      <td>NaN</td>\n",
       "      <td>NaN</td>\n",
       "      <td>NaN</td>\n",
       "      <td>NaN</td>\n",
       "      <td>2491</td>\n",
       "      <td>0.0</td>\n",
       "      <td>0.0</td>\n",
       "      <td>0.00</td>\n",
       "      <td>0.00</td>\n",
       "    </tr>\n",
       "    <tr>\n",
       "      <th>4</th>\n",
       "      <td>7000142493</td>\n",
       "      <td>109</td>\n",
       "      <td>0.0</td>\n",
       "      <td>0.0</td>\n",
       "      <td>0.0</td>\n",
       "      <td>6/30/2014</td>\n",
       "      <td>7/31/2014</td>\n",
       "      <td>8/31/2014</td>\n",
       "      <td>9/30/2014</td>\n",
       "      <td>261.636</td>\n",
       "      <td>...</td>\n",
       "      <td>0</td>\n",
       "      <td>0.0</td>\n",
       "      <td>NaN</td>\n",
       "      <td>NaN</td>\n",
       "      <td>NaN</td>\n",
       "      <td>1526</td>\n",
       "      <td>0.0</td>\n",
       "      <td>0.0</td>\n",
       "      <td>0.00</td>\n",
       "      <td>0.00</td>\n",
       "    </tr>\n",
       "  </tbody>\n",
       "</table>\n",
       "<p>5 rows × 226 columns</p>\n",
       "</div>"
      ],
      "text/plain": [
       "   mobile_number  circle_id  loc_og_t2o_mou  std_og_t2o_mou  loc_ic_t2o_mou  \\\n",
       "0     7000842753        109             0.0             0.0             0.0   \n",
       "1     7001865778        109             0.0             0.0             0.0   \n",
       "2     7001625959        109             0.0             0.0             0.0   \n",
       "3     7001204172        109             0.0             0.0             0.0   \n",
       "4     7000142493        109             0.0             0.0             0.0   \n",
       "\n",
       "  last_date_of_month_6 last_date_of_month_7 last_date_of_month_8  \\\n",
       "0            6/30/2014            7/31/2014            8/31/2014   \n",
       "1            6/30/2014            7/31/2014            8/31/2014   \n",
       "2            6/30/2014            7/31/2014            8/31/2014   \n",
       "3            6/30/2014            7/31/2014            8/31/2014   \n",
       "4            6/30/2014            7/31/2014            8/31/2014   \n",
       "\n",
       "  last_date_of_month_9   arpu_6     ...      sachet_3g_9  fb_user_6  \\\n",
       "0            9/30/2014  197.385     ...                0        1.0   \n",
       "1            9/30/2014   34.047     ...                0        NaN   \n",
       "2            9/30/2014  167.690     ...                0        NaN   \n",
       "3            9/30/2014  221.338     ...                0        NaN   \n",
       "4            9/30/2014  261.636     ...                0        0.0   \n",
       "\n",
       "   fb_user_7  fb_user_8  fb_user_9   aon  aug_vbc_3g  jul_vbc_3g  jun_vbc_3g  \\\n",
       "0        1.0        1.0        NaN   968        30.4         0.0      101.20   \n",
       "1        1.0        1.0        NaN  1006         0.0         0.0        0.00   \n",
       "2        NaN        NaN        1.0  1103         0.0         0.0        4.17   \n",
       "3        NaN        NaN        NaN  2491         0.0         0.0        0.00   \n",
       "4        NaN        NaN        NaN  1526         0.0         0.0        0.00   \n",
       "\n",
       "   sep_vbc_3g  \n",
       "0        3.58  \n",
       "1        0.00  \n",
       "2        0.00  \n",
       "3        0.00  \n",
       "4        0.00  \n",
       "\n",
       "[5 rows x 226 columns]"
      ]
     },
     "execution_count": 16,
     "metadata": {},
     "output_type": "execute_result"
    }
   ],
   "source": [
    "# reading the input data and preview\n",
    "churn_data= pd.read_csv(\"C:\\\\Telecom_churn\\\\telecom_churn_data.csv\")\n",
    "churn_data.head()"
   ]
  },
  {
   "cell_type": "code",
   "execution_count": 20,
   "metadata": {},
   "outputs": [
    {
     "data": {
      "text/plain": [
       "(99999, 226)"
      ]
     },
     "execution_count": 20,
     "metadata": {},
     "output_type": "execute_result"
    }
   ],
   "source": [
    "churn_data.shape"
   ]
  },
  {
   "cell_type": "code",
   "execution_count": 21,
   "metadata": {},
   "outputs": [
    {
     "name": "stdout",
     "output_type": "stream",
     "text": [
      "<class 'pandas.core.frame.DataFrame'>\n",
      "RangeIndex: 99999 entries, 0 to 99998\n",
      "Columns: 226 entries, mobile_number to sep_vbc_3g\n",
      "dtypes: float64(179), int64(35), object(12)\n",
      "memory usage: 172.4+ MB\n"
     ]
    }
   ],
   "source": [
    "churn_data.info()"
   ]
  },
  {
   "cell_type": "code",
   "execution_count": 22,
   "metadata": {},
   "outputs": [
    {
     "data": {
      "text/html": [
       "<div>\n",
       "<style scoped>\n",
       "    .dataframe tbody tr th:only-of-type {\n",
       "        vertical-align: middle;\n",
       "    }\n",
       "\n",
       "    .dataframe tbody tr th {\n",
       "        vertical-align: top;\n",
       "    }\n",
       "\n",
       "    .dataframe thead th {\n",
       "        text-align: right;\n",
       "    }\n",
       "</style>\n",
       "<table border=\"1\" class=\"dataframe\">\n",
       "  <thead>\n",
       "    <tr style=\"text-align: right;\">\n",
       "      <th></th>\n",
       "      <th>mobile_number</th>\n",
       "      <th>circle_id</th>\n",
       "      <th>loc_og_t2o_mou</th>\n",
       "      <th>std_og_t2o_mou</th>\n",
       "      <th>loc_ic_t2o_mou</th>\n",
       "      <th>arpu_6</th>\n",
       "      <th>arpu_7</th>\n",
       "      <th>arpu_8</th>\n",
       "      <th>arpu_9</th>\n",
       "      <th>onnet_mou_6</th>\n",
       "      <th>...</th>\n",
       "      <th>sachet_3g_9</th>\n",
       "      <th>fb_user_6</th>\n",
       "      <th>fb_user_7</th>\n",
       "      <th>fb_user_8</th>\n",
       "      <th>fb_user_9</th>\n",
       "      <th>aon</th>\n",
       "      <th>aug_vbc_3g</th>\n",
       "      <th>jul_vbc_3g</th>\n",
       "      <th>jun_vbc_3g</th>\n",
       "      <th>sep_vbc_3g</th>\n",
       "    </tr>\n",
       "  </thead>\n",
       "  <tbody>\n",
       "    <tr>\n",
       "      <th>count</th>\n",
       "      <td>9.999900e+04</td>\n",
       "      <td>99999.0</td>\n",
       "      <td>98981.0</td>\n",
       "      <td>98981.0</td>\n",
       "      <td>98981.0</td>\n",
       "      <td>99999.000000</td>\n",
       "      <td>99999.000000</td>\n",
       "      <td>99999.000000</td>\n",
       "      <td>99999.000000</td>\n",
       "      <td>96062.000000</td>\n",
       "      <td>...</td>\n",
       "      <td>99999.000000</td>\n",
       "      <td>25153.000000</td>\n",
       "      <td>25571.000000</td>\n",
       "      <td>26339.000000</td>\n",
       "      <td>25922.000000</td>\n",
       "      <td>99999.000000</td>\n",
       "      <td>99999.000000</td>\n",
       "      <td>99999.000000</td>\n",
       "      <td>99999.000000</td>\n",
       "      <td>99999.000000</td>\n",
       "    </tr>\n",
       "    <tr>\n",
       "      <th>mean</th>\n",
       "      <td>7.001207e+09</td>\n",
       "      <td>109.0</td>\n",
       "      <td>0.0</td>\n",
       "      <td>0.0</td>\n",
       "      <td>0.0</td>\n",
       "      <td>282.987358</td>\n",
       "      <td>278.536648</td>\n",
       "      <td>279.154731</td>\n",
       "      <td>261.645069</td>\n",
       "      <td>132.395875</td>\n",
       "      <td>...</td>\n",
       "      <td>0.084581</td>\n",
       "      <td>0.914404</td>\n",
       "      <td>0.908764</td>\n",
       "      <td>0.890808</td>\n",
       "      <td>0.860968</td>\n",
       "      <td>1219.854749</td>\n",
       "      <td>68.170248</td>\n",
       "      <td>66.839062</td>\n",
       "      <td>60.021204</td>\n",
       "      <td>3.299373</td>\n",
       "    </tr>\n",
       "    <tr>\n",
       "      <th>std</th>\n",
       "      <td>6.956694e+05</td>\n",
       "      <td>0.0</td>\n",
       "      <td>0.0</td>\n",
       "      <td>0.0</td>\n",
       "      <td>0.0</td>\n",
       "      <td>328.439770</td>\n",
       "      <td>338.156291</td>\n",
       "      <td>344.474791</td>\n",
       "      <td>341.998630</td>\n",
       "      <td>297.207406</td>\n",
       "      <td>...</td>\n",
       "      <td>0.650457</td>\n",
       "      <td>0.279772</td>\n",
       "      <td>0.287950</td>\n",
       "      <td>0.311885</td>\n",
       "      <td>0.345987</td>\n",
       "      <td>954.733842</td>\n",
       "      <td>267.580450</td>\n",
       "      <td>271.201856</td>\n",
       "      <td>253.938223</td>\n",
       "      <td>32.408353</td>\n",
       "    </tr>\n",
       "    <tr>\n",
       "      <th>min</th>\n",
       "      <td>7.000000e+09</td>\n",
       "      <td>109.0</td>\n",
       "      <td>0.0</td>\n",
       "      <td>0.0</td>\n",
       "      <td>0.0</td>\n",
       "      <td>-2258.709000</td>\n",
       "      <td>-2014.045000</td>\n",
       "      <td>-945.808000</td>\n",
       "      <td>-1899.505000</td>\n",
       "      <td>0.000000</td>\n",
       "      <td>...</td>\n",
       "      <td>0.000000</td>\n",
       "      <td>0.000000</td>\n",
       "      <td>0.000000</td>\n",
       "      <td>0.000000</td>\n",
       "      <td>0.000000</td>\n",
       "      <td>180.000000</td>\n",
       "      <td>0.000000</td>\n",
       "      <td>0.000000</td>\n",
       "      <td>0.000000</td>\n",
       "      <td>0.000000</td>\n",
       "    </tr>\n",
       "    <tr>\n",
       "      <th>25%</th>\n",
       "      <td>7.000606e+09</td>\n",
       "      <td>109.0</td>\n",
       "      <td>0.0</td>\n",
       "      <td>0.0</td>\n",
       "      <td>0.0</td>\n",
       "      <td>93.411500</td>\n",
       "      <td>86.980500</td>\n",
       "      <td>84.126000</td>\n",
       "      <td>62.685000</td>\n",
       "      <td>7.380000</td>\n",
       "      <td>...</td>\n",
       "      <td>0.000000</td>\n",
       "      <td>1.000000</td>\n",
       "      <td>1.000000</td>\n",
       "      <td>1.000000</td>\n",
       "      <td>1.000000</td>\n",
       "      <td>467.000000</td>\n",
       "      <td>0.000000</td>\n",
       "      <td>0.000000</td>\n",
       "      <td>0.000000</td>\n",
       "      <td>0.000000</td>\n",
       "    </tr>\n",
       "    <tr>\n",
       "      <th>50%</th>\n",
       "      <td>7.001205e+09</td>\n",
       "      <td>109.0</td>\n",
       "      <td>0.0</td>\n",
       "      <td>0.0</td>\n",
       "      <td>0.0</td>\n",
       "      <td>197.704000</td>\n",
       "      <td>191.640000</td>\n",
       "      <td>192.080000</td>\n",
       "      <td>176.849000</td>\n",
       "      <td>34.310000</td>\n",
       "      <td>...</td>\n",
       "      <td>0.000000</td>\n",
       "      <td>1.000000</td>\n",
       "      <td>1.000000</td>\n",
       "      <td>1.000000</td>\n",
       "      <td>1.000000</td>\n",
       "      <td>863.000000</td>\n",
       "      <td>0.000000</td>\n",
       "      <td>0.000000</td>\n",
       "      <td>0.000000</td>\n",
       "      <td>0.000000</td>\n",
       "    </tr>\n",
       "    <tr>\n",
       "      <th>75%</th>\n",
       "      <td>7.001812e+09</td>\n",
       "      <td>109.0</td>\n",
       "      <td>0.0</td>\n",
       "      <td>0.0</td>\n",
       "      <td>0.0</td>\n",
       "      <td>371.060000</td>\n",
       "      <td>365.344500</td>\n",
       "      <td>369.370500</td>\n",
       "      <td>353.466500</td>\n",
       "      <td>118.740000</td>\n",
       "      <td>...</td>\n",
       "      <td>0.000000</td>\n",
       "      <td>1.000000</td>\n",
       "      <td>1.000000</td>\n",
       "      <td>1.000000</td>\n",
       "      <td>1.000000</td>\n",
       "      <td>1807.500000</td>\n",
       "      <td>0.000000</td>\n",
       "      <td>0.000000</td>\n",
       "      <td>0.000000</td>\n",
       "      <td>0.000000</td>\n",
       "    </tr>\n",
       "    <tr>\n",
       "      <th>max</th>\n",
       "      <td>7.002411e+09</td>\n",
       "      <td>109.0</td>\n",
       "      <td>0.0</td>\n",
       "      <td>0.0</td>\n",
       "      <td>0.0</td>\n",
       "      <td>27731.088000</td>\n",
       "      <td>35145.834000</td>\n",
       "      <td>33543.624000</td>\n",
       "      <td>38805.617000</td>\n",
       "      <td>7376.710000</td>\n",
       "      <td>...</td>\n",
       "      <td>49.000000</td>\n",
       "      <td>1.000000</td>\n",
       "      <td>1.000000</td>\n",
       "      <td>1.000000</td>\n",
       "      <td>1.000000</td>\n",
       "      <td>4337.000000</td>\n",
       "      <td>12916.220000</td>\n",
       "      <td>9165.600000</td>\n",
       "      <td>11166.210000</td>\n",
       "      <td>2618.570000</td>\n",
       "    </tr>\n",
       "  </tbody>\n",
       "</table>\n",
       "<p>8 rows × 214 columns</p>\n",
       "</div>"
      ],
      "text/plain": [
       "       mobile_number  circle_id  loc_og_t2o_mou  std_og_t2o_mou  \\\n",
       "count   9.999900e+04    99999.0         98981.0         98981.0   \n",
       "mean    7.001207e+09      109.0             0.0             0.0   \n",
       "std     6.956694e+05        0.0             0.0             0.0   \n",
       "min     7.000000e+09      109.0             0.0             0.0   \n",
       "25%     7.000606e+09      109.0             0.0             0.0   \n",
       "50%     7.001205e+09      109.0             0.0             0.0   \n",
       "75%     7.001812e+09      109.0             0.0             0.0   \n",
       "max     7.002411e+09      109.0             0.0             0.0   \n",
       "\n",
       "       loc_ic_t2o_mou        arpu_6        arpu_7        arpu_8        arpu_9  \\\n",
       "count         98981.0  99999.000000  99999.000000  99999.000000  99999.000000   \n",
       "mean              0.0    282.987358    278.536648    279.154731    261.645069   \n",
       "std               0.0    328.439770    338.156291    344.474791    341.998630   \n",
       "min               0.0  -2258.709000  -2014.045000   -945.808000  -1899.505000   \n",
       "25%               0.0     93.411500     86.980500     84.126000     62.685000   \n",
       "50%               0.0    197.704000    191.640000    192.080000    176.849000   \n",
       "75%               0.0    371.060000    365.344500    369.370500    353.466500   \n",
       "max               0.0  27731.088000  35145.834000  33543.624000  38805.617000   \n",
       "\n",
       "        onnet_mou_6      ...        sachet_3g_9     fb_user_6     fb_user_7  \\\n",
       "count  96062.000000      ...       99999.000000  25153.000000  25571.000000   \n",
       "mean     132.395875      ...           0.084581      0.914404      0.908764   \n",
       "std      297.207406      ...           0.650457      0.279772      0.287950   \n",
       "min        0.000000      ...           0.000000      0.000000      0.000000   \n",
       "25%        7.380000      ...           0.000000      1.000000      1.000000   \n",
       "50%       34.310000      ...           0.000000      1.000000      1.000000   \n",
       "75%      118.740000      ...           0.000000      1.000000      1.000000   \n",
       "max     7376.710000      ...          49.000000      1.000000      1.000000   \n",
       "\n",
       "          fb_user_8     fb_user_9           aon    aug_vbc_3g    jul_vbc_3g  \\\n",
       "count  26339.000000  25922.000000  99999.000000  99999.000000  99999.000000   \n",
       "mean       0.890808      0.860968   1219.854749     68.170248     66.839062   \n",
       "std        0.311885      0.345987    954.733842    267.580450    271.201856   \n",
       "min        0.000000      0.000000    180.000000      0.000000      0.000000   \n",
       "25%        1.000000      1.000000    467.000000      0.000000      0.000000   \n",
       "50%        1.000000      1.000000    863.000000      0.000000      0.000000   \n",
       "75%        1.000000      1.000000   1807.500000      0.000000      0.000000   \n",
       "max        1.000000      1.000000   4337.000000  12916.220000   9165.600000   \n",
       "\n",
       "         jun_vbc_3g    sep_vbc_3g  \n",
       "count  99999.000000  99999.000000  \n",
       "mean      60.021204      3.299373  \n",
       "std      253.938223     32.408353  \n",
       "min        0.000000      0.000000  \n",
       "25%        0.000000      0.000000  \n",
       "50%        0.000000      0.000000  \n",
       "75%        0.000000      0.000000  \n",
       "max    11166.210000   2618.570000  \n",
       "\n",
       "[8 rows x 214 columns]"
      ]
     },
     "execution_count": 22,
     "metadata": {},
     "output_type": "execute_result"
    }
   ],
   "source": [
    "churn_data.describe()"
   ]
  },
  {
   "cell_type": "code",
   "execution_count": 23,
   "metadata": {},
   "outputs": [
    {
     "data": {
      "text/html": [
       "<div>\n",
       "<style scoped>\n",
       "    .dataframe tbody tr th:only-of-type {\n",
       "        vertical-align: middle;\n",
       "    }\n",
       "\n",
       "    .dataframe tbody tr th {\n",
       "        vertical-align: top;\n",
       "    }\n",
       "\n",
       "    .dataframe thead th {\n",
       "        text-align: right;\n",
       "    }\n",
       "</style>\n",
       "<table border=\"1\" class=\"dataframe\">\n",
       "  <thead>\n",
       "    <tr style=\"text-align: right;\">\n",
       "      <th></th>\n",
       "      <th>0</th>\n",
       "    </tr>\n",
       "  </thead>\n",
       "  <tbody>\n",
       "    <tr>\n",
       "      <th>0</th>\n",
       "      <td>mobile_number</td>\n",
       "    </tr>\n",
       "    <tr>\n",
       "      <th>1</th>\n",
       "      <td>circle_id</td>\n",
       "    </tr>\n",
       "    <tr>\n",
       "      <th>2</th>\n",
       "      <td>loc_og_t2o_mou</td>\n",
       "    </tr>\n",
       "    <tr>\n",
       "      <th>3</th>\n",
       "      <td>std_og_t2o_mou</td>\n",
       "    </tr>\n",
       "    <tr>\n",
       "      <th>4</th>\n",
       "      <td>loc_ic_t2o_mou</td>\n",
       "    </tr>\n",
       "    <tr>\n",
       "      <th>5</th>\n",
       "      <td>last_date_of_month_6</td>\n",
       "    </tr>\n",
       "    <tr>\n",
       "      <th>6</th>\n",
       "      <td>last_date_of_month_7</td>\n",
       "    </tr>\n",
       "    <tr>\n",
       "      <th>7</th>\n",
       "      <td>last_date_of_month_8</td>\n",
       "    </tr>\n",
       "    <tr>\n",
       "      <th>8</th>\n",
       "      <td>last_date_of_month_9</td>\n",
       "    </tr>\n",
       "    <tr>\n",
       "      <th>9</th>\n",
       "      <td>arpu_6</td>\n",
       "    </tr>\n",
       "    <tr>\n",
       "      <th>10</th>\n",
       "      <td>arpu_7</td>\n",
       "    </tr>\n",
       "    <tr>\n",
       "      <th>11</th>\n",
       "      <td>arpu_8</td>\n",
       "    </tr>\n",
       "    <tr>\n",
       "      <th>12</th>\n",
       "      <td>arpu_9</td>\n",
       "    </tr>\n",
       "    <tr>\n",
       "      <th>13</th>\n",
       "      <td>onnet_mou_6</td>\n",
       "    </tr>\n",
       "    <tr>\n",
       "      <th>14</th>\n",
       "      <td>onnet_mou_7</td>\n",
       "    </tr>\n",
       "    <tr>\n",
       "      <th>15</th>\n",
       "      <td>onnet_mou_8</td>\n",
       "    </tr>\n",
       "    <tr>\n",
       "      <th>16</th>\n",
       "      <td>onnet_mou_9</td>\n",
       "    </tr>\n",
       "    <tr>\n",
       "      <th>17</th>\n",
       "      <td>offnet_mou_6</td>\n",
       "    </tr>\n",
       "    <tr>\n",
       "      <th>18</th>\n",
       "      <td>offnet_mou_7</td>\n",
       "    </tr>\n",
       "    <tr>\n",
       "      <th>19</th>\n",
       "      <td>offnet_mou_8</td>\n",
       "    </tr>\n",
       "    <tr>\n",
       "      <th>20</th>\n",
       "      <td>offnet_mou_9</td>\n",
       "    </tr>\n",
       "    <tr>\n",
       "      <th>21</th>\n",
       "      <td>roam_ic_mou_6</td>\n",
       "    </tr>\n",
       "    <tr>\n",
       "      <th>22</th>\n",
       "      <td>roam_ic_mou_7</td>\n",
       "    </tr>\n",
       "    <tr>\n",
       "      <th>23</th>\n",
       "      <td>roam_ic_mou_8</td>\n",
       "    </tr>\n",
       "    <tr>\n",
       "      <th>24</th>\n",
       "      <td>roam_ic_mou_9</td>\n",
       "    </tr>\n",
       "    <tr>\n",
       "      <th>25</th>\n",
       "      <td>roam_og_mou_6</td>\n",
       "    </tr>\n",
       "    <tr>\n",
       "      <th>26</th>\n",
       "      <td>roam_og_mou_7</td>\n",
       "    </tr>\n",
       "    <tr>\n",
       "      <th>27</th>\n",
       "      <td>roam_og_mou_8</td>\n",
       "    </tr>\n",
       "    <tr>\n",
       "      <th>28</th>\n",
       "      <td>roam_og_mou_9</td>\n",
       "    </tr>\n",
       "    <tr>\n",
       "      <th>29</th>\n",
       "      <td>loc_og_t2t_mou_6</td>\n",
       "    </tr>\n",
       "    <tr>\n",
       "      <th>...</th>\n",
       "      <td>...</td>\n",
       "    </tr>\n",
       "    <tr>\n",
       "      <th>196</th>\n",
       "      <td>arpu_2g_9</td>\n",
       "    </tr>\n",
       "    <tr>\n",
       "      <th>197</th>\n",
       "      <td>night_pck_user_6</td>\n",
       "    </tr>\n",
       "    <tr>\n",
       "      <th>198</th>\n",
       "      <td>night_pck_user_7</td>\n",
       "    </tr>\n",
       "    <tr>\n",
       "      <th>199</th>\n",
       "      <td>night_pck_user_8</td>\n",
       "    </tr>\n",
       "    <tr>\n",
       "      <th>200</th>\n",
       "      <td>night_pck_user_9</td>\n",
       "    </tr>\n",
       "    <tr>\n",
       "      <th>201</th>\n",
       "      <td>monthly_2g_6</td>\n",
       "    </tr>\n",
       "    <tr>\n",
       "      <th>202</th>\n",
       "      <td>monthly_2g_7</td>\n",
       "    </tr>\n",
       "    <tr>\n",
       "      <th>203</th>\n",
       "      <td>monthly_2g_8</td>\n",
       "    </tr>\n",
       "    <tr>\n",
       "      <th>204</th>\n",
       "      <td>monthly_2g_9</td>\n",
       "    </tr>\n",
       "    <tr>\n",
       "      <th>205</th>\n",
       "      <td>sachet_2g_6</td>\n",
       "    </tr>\n",
       "    <tr>\n",
       "      <th>206</th>\n",
       "      <td>sachet_2g_7</td>\n",
       "    </tr>\n",
       "    <tr>\n",
       "      <th>207</th>\n",
       "      <td>sachet_2g_8</td>\n",
       "    </tr>\n",
       "    <tr>\n",
       "      <th>208</th>\n",
       "      <td>sachet_2g_9</td>\n",
       "    </tr>\n",
       "    <tr>\n",
       "      <th>209</th>\n",
       "      <td>monthly_3g_6</td>\n",
       "    </tr>\n",
       "    <tr>\n",
       "      <th>210</th>\n",
       "      <td>monthly_3g_7</td>\n",
       "    </tr>\n",
       "    <tr>\n",
       "      <th>211</th>\n",
       "      <td>monthly_3g_8</td>\n",
       "    </tr>\n",
       "    <tr>\n",
       "      <th>212</th>\n",
       "      <td>monthly_3g_9</td>\n",
       "    </tr>\n",
       "    <tr>\n",
       "      <th>213</th>\n",
       "      <td>sachet_3g_6</td>\n",
       "    </tr>\n",
       "    <tr>\n",
       "      <th>214</th>\n",
       "      <td>sachet_3g_7</td>\n",
       "    </tr>\n",
       "    <tr>\n",
       "      <th>215</th>\n",
       "      <td>sachet_3g_8</td>\n",
       "    </tr>\n",
       "    <tr>\n",
       "      <th>216</th>\n",
       "      <td>sachet_3g_9</td>\n",
       "    </tr>\n",
       "    <tr>\n",
       "      <th>217</th>\n",
       "      <td>fb_user_6</td>\n",
       "    </tr>\n",
       "    <tr>\n",
       "      <th>218</th>\n",
       "      <td>fb_user_7</td>\n",
       "    </tr>\n",
       "    <tr>\n",
       "      <th>219</th>\n",
       "      <td>fb_user_8</td>\n",
       "    </tr>\n",
       "    <tr>\n",
       "      <th>220</th>\n",
       "      <td>fb_user_9</td>\n",
       "    </tr>\n",
       "    <tr>\n",
       "      <th>221</th>\n",
       "      <td>aon</td>\n",
       "    </tr>\n",
       "    <tr>\n",
       "      <th>222</th>\n",
       "      <td>aug_vbc_3g</td>\n",
       "    </tr>\n",
       "    <tr>\n",
       "      <th>223</th>\n",
       "      <td>jul_vbc_3g</td>\n",
       "    </tr>\n",
       "    <tr>\n",
       "      <th>224</th>\n",
       "      <td>jun_vbc_3g</td>\n",
       "    </tr>\n",
       "    <tr>\n",
       "      <th>225</th>\n",
       "      <td>sep_vbc_3g</td>\n",
       "    </tr>\n",
       "  </tbody>\n",
       "</table>\n",
       "<p>226 rows × 1 columns</p>\n",
       "</div>"
      ],
      "text/plain": [
       "                        0\n",
       "0           mobile_number\n",
       "1               circle_id\n",
       "2          loc_og_t2o_mou\n",
       "3          std_og_t2o_mou\n",
       "4          loc_ic_t2o_mou\n",
       "5    last_date_of_month_6\n",
       "6    last_date_of_month_7\n",
       "7    last_date_of_month_8\n",
       "8    last_date_of_month_9\n",
       "9                  arpu_6\n",
       "10                 arpu_7\n",
       "11                 arpu_8\n",
       "12                 arpu_9\n",
       "13            onnet_mou_6\n",
       "14            onnet_mou_7\n",
       "15            onnet_mou_8\n",
       "16            onnet_mou_9\n",
       "17           offnet_mou_6\n",
       "18           offnet_mou_7\n",
       "19           offnet_mou_8\n",
       "20           offnet_mou_9\n",
       "21          roam_ic_mou_6\n",
       "22          roam_ic_mou_7\n",
       "23          roam_ic_mou_8\n",
       "24          roam_ic_mou_9\n",
       "25          roam_og_mou_6\n",
       "26          roam_og_mou_7\n",
       "27          roam_og_mou_8\n",
       "28          roam_og_mou_9\n",
       "29       loc_og_t2t_mou_6\n",
       "..                    ...\n",
       "196             arpu_2g_9\n",
       "197      night_pck_user_6\n",
       "198      night_pck_user_7\n",
       "199      night_pck_user_8\n",
       "200      night_pck_user_9\n",
       "201          monthly_2g_6\n",
       "202          monthly_2g_7\n",
       "203          monthly_2g_8\n",
       "204          monthly_2g_9\n",
       "205           sachet_2g_6\n",
       "206           sachet_2g_7\n",
       "207           sachet_2g_8\n",
       "208           sachet_2g_9\n",
       "209          monthly_3g_6\n",
       "210          monthly_3g_7\n",
       "211          monthly_3g_8\n",
       "212          monthly_3g_9\n",
       "213           sachet_3g_6\n",
       "214           sachet_3g_7\n",
       "215           sachet_3g_8\n",
       "216           sachet_3g_9\n",
       "217             fb_user_6\n",
       "218             fb_user_7\n",
       "219             fb_user_8\n",
       "220             fb_user_9\n",
       "221                   aon\n",
       "222            aug_vbc_3g\n",
       "223            jul_vbc_3g\n",
       "224            jun_vbc_3g\n",
       "225            sep_vbc_3g\n",
       "\n",
       "[226 rows x 1 columns]"
      ]
     },
     "execution_count": 23,
     "metadata": {},
     "output_type": "execute_result"
    }
   ],
   "source": [
    "#list of columns\n",
    "pd.DataFrame(churn_data.columns)"
   ]
  },
  {
   "cell_type": "markdown",
   "metadata": {},
   "source": [
    "### Data Cleaning"
   ]
  },
  {
   "cell_type": "code",
   "execution_count": 24,
   "metadata": {},
   "outputs": [
    {
     "data": {
      "text/plain": [
       "mobile_number            0.00\n",
       "circle_id                0.00\n",
       "loc_og_t2o_mou           1.02\n",
       "std_og_t2o_mou           1.02\n",
       "loc_ic_t2o_mou           1.02\n",
       "last_date_of_month_6     0.00\n",
       "last_date_of_month_7     0.60\n",
       "last_date_of_month_8     1.10\n",
       "last_date_of_month_9     1.66\n",
       "arpu_6                   0.00\n",
       "arpu_7                   0.00\n",
       "arpu_8                   0.00\n",
       "arpu_9                   0.00\n",
       "onnet_mou_6              3.94\n",
       "onnet_mou_7              3.86\n",
       "onnet_mou_8              5.38\n",
       "onnet_mou_9              7.75\n",
       "offnet_mou_6             3.94\n",
       "offnet_mou_7             3.86\n",
       "offnet_mou_8             5.38\n",
       "offnet_mou_9             7.75\n",
       "roam_ic_mou_6            3.94\n",
       "roam_ic_mou_7            3.86\n",
       "roam_ic_mou_8            5.38\n",
       "roam_ic_mou_9            7.75\n",
       "roam_og_mou_6            3.94\n",
       "roam_og_mou_7            3.86\n",
       "roam_og_mou_8            5.38\n",
       "roam_og_mou_9            7.75\n",
       "loc_og_t2t_mou_6         3.94\n",
       "                        ...  \n",
       "arpu_2g_9               74.08\n",
       "night_pck_user_6        74.85\n",
       "night_pck_user_7        74.43\n",
       "night_pck_user_8        73.66\n",
       "night_pck_user_9        74.08\n",
       "monthly_2g_6             0.00\n",
       "monthly_2g_7             0.00\n",
       "monthly_2g_8             0.00\n",
       "monthly_2g_9             0.00\n",
       "sachet_2g_6              0.00\n",
       "sachet_2g_7              0.00\n",
       "sachet_2g_8              0.00\n",
       "sachet_2g_9              0.00\n",
       "monthly_3g_6             0.00\n",
       "monthly_3g_7             0.00\n",
       "monthly_3g_8             0.00\n",
       "monthly_3g_9             0.00\n",
       "sachet_3g_6              0.00\n",
       "sachet_3g_7              0.00\n",
       "sachet_3g_8              0.00\n",
       "sachet_3g_9              0.00\n",
       "fb_user_6               74.85\n",
       "fb_user_7               74.43\n",
       "fb_user_8               73.66\n",
       "fb_user_9               74.08\n",
       "aon                      0.00\n",
       "aug_vbc_3g               0.00\n",
       "jul_vbc_3g               0.00\n",
       "jun_vbc_3g               0.00\n",
       "sep_vbc_3g               0.00\n",
       "Length: 226, dtype: float64"
      ]
     },
     "execution_count": 24,
     "metadata": {},
     "output_type": "execute_result"
    }
   ],
   "source": [
    "# Checking missing value percentage\n",
    "round(100*churn_data.isnull().sum()/len(churn_data),2)"
   ]
  },
  {
   "cell_type": "code",
   "execution_count": 25,
   "metadata": {},
   "outputs": [],
   "source": [
    "#Custome function Defination for data cleaning\n",
    "# Function to retun the columns with more than missingCutoff% missing values.\n",
    "# argument: missingCutoff, % values threshold for missing values\n",
    "def getMissingValues(missingCutoff):\n",
    "    missing = round(100*(churn_data.isnull().sum()/churn_data.shape[0]))\n",
    "    print(\"There are {} features having more than {}% missing values/entries\".format(len(missing.loc[missing > missingCutoff]),missingCutoff))\n",
    "    return missing.loc[missing > missingCutoff]"
   ]
  },
  {
   "cell_type": "code",
   "execution_count": 26,
   "metadata": {},
   "outputs": [],
   "source": [
    "# Function impute the NAN with 0\n",
    "# argument: colList, list of columns for which NAN is to be replaced with 0\n",
    "def imputeNan(data,imputeColList=False,missingColList=False):\n",
    "    if imputeColList:\n",
    "        for col in [y + s for s in ['_6','_7','_8','_9'] for y in imputeColList]:\n",
    "            data[col].fillna(0, inplace=True)\n",
    "    else:    \n",
    "        for col in missingColList:\n",
    "            data[col].fillna(0, inplace=True)"
   ]
  },
  {
   "cell_type": "code",
   "execution_count": 27,
   "metadata": {},
   "outputs": [
    {
     "name": "stdout",
     "output_type": "stream",
     "text": [
      "There are 40 features having more than 70% missing values/entries\n"
     ]
    },
    {
     "data": {
      "text/plain": [
       "date_of_last_rech_data_6    75.0\n",
       "date_of_last_rech_data_7    74.0\n",
       "date_of_last_rech_data_8    74.0\n",
       "date_of_last_rech_data_9    74.0\n",
       "total_rech_data_6           75.0\n",
       "total_rech_data_7           74.0\n",
       "total_rech_data_8           74.0\n",
       "total_rech_data_9           74.0\n",
       "max_rech_data_6             75.0\n",
       "max_rech_data_7             74.0\n",
       "max_rech_data_8             74.0\n",
       "max_rech_data_9             74.0\n",
       "count_rech_2g_6             75.0\n",
       "count_rech_2g_7             74.0\n",
       "count_rech_2g_8             74.0\n",
       "count_rech_2g_9             74.0\n",
       "count_rech_3g_6             75.0\n",
       "count_rech_3g_7             74.0\n",
       "count_rech_3g_8             74.0\n",
       "count_rech_3g_9             74.0\n",
       "av_rech_amt_data_6          75.0\n",
       "av_rech_amt_data_7          74.0\n",
       "av_rech_amt_data_8          74.0\n",
       "av_rech_amt_data_9          74.0\n",
       "arpu_3g_6                   75.0\n",
       "arpu_3g_7                   74.0\n",
       "arpu_3g_8                   74.0\n",
       "arpu_3g_9                   74.0\n",
       "arpu_2g_6                   75.0\n",
       "arpu_2g_7                   74.0\n",
       "arpu_2g_8                   74.0\n",
       "arpu_2g_9                   74.0\n",
       "night_pck_user_6            75.0\n",
       "night_pck_user_7            74.0\n",
       "night_pck_user_8            74.0\n",
       "night_pck_user_9            74.0\n",
       "fb_user_6                   75.0\n",
       "fb_user_7                   74.0\n",
       "fb_user_8                   74.0\n",
       "fb_user_9                   74.0\n",
       "dtype: float64"
      ]
     },
     "execution_count": 27,
     "metadata": {},
     "output_type": "execute_result"
    }
   ],
   "source": [
    "# Missing values per column expressed as % of total number of values\n",
    "getMissingValues(70)"
   ]
  },
  {
   "cell_type": "markdown",
   "metadata": {},
   "source": [
    "The missing values for these features seems to suggest that these customers KPI's did not have any value at that month. We can choose to impute these values with 0 to make enable these features to give value to analysis.\n",
    "\n",
    "we can impute the NA values by 0, Considering there were no recharges done by the customer."
   ]
  },
  {
   "cell_type": "code",
   "execution_count": 28,
   "metadata": {},
   "outputs": [],
   "source": [
    "# Since av_rech_amt_data_* features are important for getting the high-value customers,\n",
    "#lets impute the missing av_rech_amt_data_* with 0\n",
    "imputeCol = ['av_rech_amt_data', 'arpu_2g', 'arpu_3g', 'count_rech_2g', 'count_rech_3g',\n",
    "             'max_rech_data', 'total_rech_data','fb_user','night_pck_user']\n",
    "imputeNan(churn_data,imputeCol)"
   ]
  },
  {
   "cell_type": "code",
   "execution_count": 29,
   "metadata": {},
   "outputs": [
    {
     "name": "stdout",
     "output_type": "stream",
     "text": [
      "There are 4 features having more than 70% missing values/entries\n"
     ]
    },
    {
     "data": {
      "text/plain": [
       "date_of_last_rech_data_6    75.0\n",
       "date_of_last_rech_data_7    74.0\n",
       "date_of_last_rech_data_8    74.0\n",
       "date_of_last_rech_data_9    74.0\n",
       "dtype: float64"
      ]
     },
     "execution_count": 29,
     "metadata": {},
     "output_type": "execute_result"
    }
   ],
   "source": [
    "getMissingValues(70)"
   ]
  },
  {
   "cell_type": "code",
   "execution_count": 30,
   "metadata": {},
   "outputs": [
    {
     "name": "stdout",
     "output_type": "stream",
     "text": [
      "There are 4 features having more than 70% missing values/entries\n"
     ]
    },
    {
     "data": {
      "text/plain": [
       "(99999, 222)"
      ]
     },
     "execution_count": 30,
     "metadata": {},
     "output_type": "execute_result"
    }
   ],
   "source": [
    "# dropping the above columns missing values\n",
    "missingcol = list(getMissingValues(70).index)\n",
    "churn_data.drop(missingcol,axis=1,inplace=True)\n",
    "churn_data.shape"
   ]
  },
  {
   "cell_type": "code",
   "execution_count": 31,
   "metadata": {},
   "outputs": [
    {
     "data": {
      "text/plain": [
       "mobile_number           99999\n",
       "circle_id                   1\n",
       "loc_og_t2o_mou              1\n",
       "std_og_t2o_mou              1\n",
       "loc_ic_t2o_mou              1\n",
       "last_date_of_month_6        1\n",
       "last_date_of_month_7        1\n",
       "last_date_of_month_8        1\n",
       "last_date_of_month_9        1\n",
       "arpu_6                  85681\n",
       "arpu_7                  85308\n",
       "arpu_8                  83615\n",
       "arpu_9                  79937\n",
       "onnet_mou_6             24313\n",
       "onnet_mou_7             24336\n",
       "onnet_mou_8             24089\n",
       "onnet_mou_9             23565\n",
       "offnet_mou_6            31140\n",
       "offnet_mou_7            31023\n",
       "offnet_mou_8            30908\n",
       "offnet_mou_9            30077\n",
       "roam_ic_mou_6            6512\n",
       "roam_ic_mou_7            5230\n",
       "roam_ic_mou_8            5315\n",
       "roam_ic_mou_9            4827\n",
       "roam_og_mou_6            8038\n",
       "roam_og_mou_7            6639\n",
       "roam_og_mou_8            6504\n",
       "roam_og_mou_9            5882\n",
       "loc_og_t2t_mou_6        13539\n",
       "                        ...  \n",
       "arpu_2g_9                6795\n",
       "night_pck_user_6            2\n",
       "night_pck_user_7            2\n",
       "night_pck_user_8            2\n",
       "night_pck_user_9            2\n",
       "monthly_2g_6                5\n",
       "monthly_2g_7                6\n",
       "monthly_2g_8                6\n",
       "monthly_2g_9                5\n",
       "sachet_2g_6                32\n",
       "sachet_2g_7                35\n",
       "sachet_2g_8                34\n",
       "sachet_2g_9                32\n",
       "monthly_3g_6               12\n",
       "monthly_3g_7               15\n",
       "monthly_3g_8               12\n",
       "monthly_3g_9               11\n",
       "sachet_3g_6                25\n",
       "sachet_3g_7                27\n",
       "sachet_3g_8                29\n",
       "sachet_3g_9                27\n",
       "fb_user_6                   2\n",
       "fb_user_7                   2\n",
       "fb_user_8                   2\n",
       "fb_user_9                   2\n",
       "aon                      3489\n",
       "aug_vbc_3g              14676\n",
       "jul_vbc_3g              14162\n",
       "jun_vbc_3g              13312\n",
       "sep_vbc_3g               3720\n",
       "Length: 222, dtype: int64"
      ]
     },
     "execution_count": 31,
     "metadata": {},
     "output_type": "execute_result"
    }
   ],
   "source": [
    "#checking no.of unique values\n",
    "churn_data.nunique()"
   ]
  },
  {
   "cell_type": "code",
   "execution_count": 32,
   "metadata": {},
   "outputs": [
    {
     "data": {
      "text/plain": [
       "circle_id               1\n",
       "loc_og_t2o_mou          1\n",
       "std_og_t2o_mou          1\n",
       "loc_ic_t2o_mou          1\n",
       "last_date_of_month_6    1\n",
       "last_date_of_month_7    1\n",
       "last_date_of_month_8    1\n",
       "std_og_t2c_mou_6        1\n",
       "std_og_t2c_mou_7        1\n",
       "std_og_t2c_mou_8        1\n",
       "std_ic_t2o_mou_6        1\n",
       "std_ic_t2o_mou_7        1\n",
       "std_ic_t2o_mou_8        1\n",
       "dtype: int64"
      ]
     },
     "execution_count": 32,
     "metadata": {},
     "output_type": "execute_result"
    }
   ],
   "source": [
    "#check no.of unique values of these columns\n",
    "churn_data[['circle_id', 'loc_og_t2o_mou', 'std_og_t2o_mou', 'loc_ic_t2o_mou', \n",
    "                          'last_date_of_month_6', 'last_date_of_month_7', 'last_date_of_month_8', \n",
    "                          'std_og_t2c_mou_6', 'std_og_t2c_mou_7', \n",
    "                          'std_og_t2c_mou_8',  'std_ic_t2o_mou_6', \n",
    "                          'std_ic_t2o_mou_7', 'std_ic_t2o_mou_8']].nunique()"
   ]
  },
  {
   "cell_type": "markdown",
   "metadata": {},
   "source": [
    "Dropping above features with only **one unique** value as they will not add any value to our model building and analyis"
   ]
  },
  {
   "cell_type": "code",
   "execution_count": 33,
   "metadata": {},
   "outputs": [
    {
     "data": {
      "text/plain": [
       "(99999, 222)"
      ]
     },
     "execution_count": 33,
     "metadata": {},
     "output_type": "execute_result"
    }
   ],
   "source": [
    "drop_columns=churn_data[['circle_id', 'loc_og_t2o_mou', 'std_og_t2o_mou', 'loc_ic_t2o_mou', \n",
    "                          'last_date_of_month_6', 'last_date_of_month_7', 'last_date_of_month_8', \n",
    "                          'std_og_t2c_mou_6', 'std_og_t2c_mou_7', \n",
    "                          'std_og_t2c_mou_8',  'std_ic_t2o_mou_6', \n",
    "                          'std_ic_t2o_mou_7', 'std_ic_t2o_mou_8']]\n",
    "churn_data.shape"
   ]
  },
  {
   "cell_type": "code",
   "execution_count": 34,
   "metadata": {},
   "outputs": [],
   "source": [
    "churn_data.drop(drop_columns,axis=1,inplace=True)"
   ]
  },
  {
   "cell_type": "code",
   "execution_count": 35,
   "metadata": {},
   "outputs": [
    {
     "data": {
      "text/plain": [
       "(99999, 209)"
      ]
     },
     "execution_count": 35,
     "metadata": {},
     "output_type": "execute_result"
    }
   ],
   "source": [
    "churn_data.shape"
   ]
  },
  {
   "cell_type": "code",
   "execution_count": 36,
   "metadata": {},
   "outputs": [
    {
     "name": "stdout",
     "output_type": "stream",
     "text": [
      "There are 29 features having more than 5% missing values/entries\n"
     ]
    },
    {
     "data": {
      "text/plain": [
       "onnet_mou_9         8.0\n",
       "offnet_mou_9        8.0\n",
       "roam_ic_mou_9       8.0\n",
       "roam_og_mou_9       8.0\n",
       "loc_og_t2t_mou_9    8.0\n",
       "loc_og_t2m_mou_9    8.0\n",
       "loc_og_t2f_mou_9    8.0\n",
       "loc_og_t2c_mou_9    8.0\n",
       "loc_og_mou_9        8.0\n",
       "std_og_t2t_mou_9    8.0\n",
       "std_og_t2m_mou_9    8.0\n",
       "std_og_t2f_mou_9    8.0\n",
       "std_og_t2c_mou_9    8.0\n",
       "std_og_mou_9        8.0\n",
       "isd_og_mou_9        8.0\n",
       "spl_og_mou_9        8.0\n",
       "og_others_9         8.0\n",
       "loc_ic_t2t_mou_9    8.0\n",
       "loc_ic_t2m_mou_9    8.0\n",
       "loc_ic_t2f_mou_9    8.0\n",
       "loc_ic_mou_9        8.0\n",
       "std_ic_t2t_mou_9    8.0\n",
       "std_ic_t2m_mou_9    8.0\n",
       "std_ic_t2f_mou_9    8.0\n",
       "std_ic_t2o_mou_9    8.0\n",
       "std_ic_mou_9        8.0\n",
       "spl_ic_mou_9        8.0\n",
       "isd_ic_mou_9        8.0\n",
       "ic_others_9         8.0\n",
       "dtype: float64"
      ]
     },
     "execution_count": 36,
     "metadata": {},
     "output_type": "execute_result"
    }
   ],
   "source": [
    "# Missing values per column expressed as % of total number of values\n",
    "getMissingValues(5)"
   ]
  },
  {
   "cell_type": "markdown",
   "metadata": {},
   "source": [
    "Looks like all these features for the month sep(9) are missing together. Let's check."
   ]
  },
  {
   "cell_type": "code",
   "execution_count": 37,
   "metadata": {},
   "outputs": [
    {
     "name": "stdout",
     "output_type": "stream",
     "text": [
      "There are 29 features having more than 5% missing values/entries\n",
      "There are 7745 customers/MSISDN's having missing values for ['onnet_mou_9', 'offnet_mou_9', 'roam_ic_mou_9', 'roam_og_mou_9', 'loc_og_t2t_mou_9', 'loc_og_t2m_mou_9', 'loc_og_t2f_mou_9', 'loc_og_t2c_mou_9', 'loc_og_mou_9', 'std_og_t2t_mou_9', 'std_og_t2m_mou_9', 'std_og_t2f_mou_9', 'std_og_t2c_mou_9', 'std_og_mou_9', 'isd_og_mou_9', 'spl_og_mou_9', 'og_others_9', 'loc_ic_t2t_mou_9', 'loc_ic_t2m_mou_9', 'loc_ic_t2f_mou_9', 'loc_ic_mou_9', 'std_ic_t2t_mou_9', 'std_ic_t2m_mou_9', 'std_ic_t2f_mou_9', 'std_ic_t2o_mou_9', 'std_ic_mou_9', 'spl_ic_mou_9', 'isd_ic_mou_9', 'ic_others_9'] together\n"
     ]
    },
    {
     "data": {
      "text/html": [
       "<div>\n",
       "<style scoped>\n",
       "    .dataframe tbody tr th:only-of-type {\n",
       "        vertical-align: middle;\n",
       "    }\n",
       "\n",
       "    .dataframe tbody tr th {\n",
       "        vertical-align: top;\n",
       "    }\n",
       "\n",
       "    .dataframe thead th {\n",
       "        text-align: right;\n",
       "    }\n",
       "</style>\n",
       "<table border=\"1\" class=\"dataframe\">\n",
       "  <thead>\n",
       "    <tr style=\"text-align: right;\">\n",
       "      <th></th>\n",
       "      <th>onnet_mou_9</th>\n",
       "      <th>offnet_mou_9</th>\n",
       "      <th>roam_ic_mou_9</th>\n",
       "      <th>roam_og_mou_9</th>\n",
       "      <th>loc_og_t2t_mou_9</th>\n",
       "      <th>loc_og_t2m_mou_9</th>\n",
       "      <th>loc_og_t2f_mou_9</th>\n",
       "      <th>loc_og_t2c_mou_9</th>\n",
       "      <th>loc_og_mou_9</th>\n",
       "      <th>std_og_t2t_mou_9</th>\n",
       "      <th>...</th>\n",
       "      <th>loc_ic_t2f_mou_9</th>\n",
       "      <th>loc_ic_mou_9</th>\n",
       "      <th>std_ic_t2t_mou_9</th>\n",
       "      <th>std_ic_t2m_mou_9</th>\n",
       "      <th>std_ic_t2f_mou_9</th>\n",
       "      <th>std_ic_t2o_mou_9</th>\n",
       "      <th>std_ic_mou_9</th>\n",
       "      <th>spl_ic_mou_9</th>\n",
       "      <th>isd_ic_mou_9</th>\n",
       "      <th>ic_others_9</th>\n",
       "    </tr>\n",
       "  </thead>\n",
       "  <tbody>\n",
       "    <tr>\n",
       "      <th>0</th>\n",
       "      <td>NaN</td>\n",
       "      <td>NaN</td>\n",
       "      <td>NaN</td>\n",
       "      <td>NaN</td>\n",
       "      <td>NaN</td>\n",
       "      <td>NaN</td>\n",
       "      <td>NaN</td>\n",
       "      <td>NaN</td>\n",
       "      <td>NaN</td>\n",
       "      <td>NaN</td>\n",
       "      <td>...</td>\n",
       "      <td>NaN</td>\n",
       "      <td>NaN</td>\n",
       "      <td>NaN</td>\n",
       "      <td>NaN</td>\n",
       "      <td>NaN</td>\n",
       "      <td>NaN</td>\n",
       "      <td>NaN</td>\n",
       "      <td>NaN</td>\n",
       "      <td>NaN</td>\n",
       "      <td>NaN</td>\n",
       "    </tr>\n",
       "    <tr>\n",
       "      <th>7</th>\n",
       "      <td>NaN</td>\n",
       "      <td>NaN</td>\n",
       "      <td>NaN</td>\n",
       "      <td>NaN</td>\n",
       "      <td>NaN</td>\n",
       "      <td>NaN</td>\n",
       "      <td>NaN</td>\n",
       "      <td>NaN</td>\n",
       "      <td>NaN</td>\n",
       "      <td>NaN</td>\n",
       "      <td>...</td>\n",
       "      <td>NaN</td>\n",
       "      <td>NaN</td>\n",
       "      <td>NaN</td>\n",
       "      <td>NaN</td>\n",
       "      <td>NaN</td>\n",
       "      <td>NaN</td>\n",
       "      <td>NaN</td>\n",
       "      <td>NaN</td>\n",
       "      <td>NaN</td>\n",
       "      <td>NaN</td>\n",
       "    </tr>\n",
       "    <tr>\n",
       "      <th>29</th>\n",
       "      <td>NaN</td>\n",
       "      <td>NaN</td>\n",
       "      <td>NaN</td>\n",
       "      <td>NaN</td>\n",
       "      <td>NaN</td>\n",
       "      <td>NaN</td>\n",
       "      <td>NaN</td>\n",
       "      <td>NaN</td>\n",
       "      <td>NaN</td>\n",
       "      <td>NaN</td>\n",
       "      <td>...</td>\n",
       "      <td>NaN</td>\n",
       "      <td>NaN</td>\n",
       "      <td>NaN</td>\n",
       "      <td>NaN</td>\n",
       "      <td>NaN</td>\n",
       "      <td>NaN</td>\n",
       "      <td>NaN</td>\n",
       "      <td>NaN</td>\n",
       "      <td>NaN</td>\n",
       "      <td>NaN</td>\n",
       "    </tr>\n",
       "    <tr>\n",
       "      <th>32</th>\n",
       "      <td>NaN</td>\n",
       "      <td>NaN</td>\n",
       "      <td>NaN</td>\n",
       "      <td>NaN</td>\n",
       "      <td>NaN</td>\n",
       "      <td>NaN</td>\n",
       "      <td>NaN</td>\n",
       "      <td>NaN</td>\n",
       "      <td>NaN</td>\n",
       "      <td>NaN</td>\n",
       "      <td>...</td>\n",
       "      <td>NaN</td>\n",
       "      <td>NaN</td>\n",
       "      <td>NaN</td>\n",
       "      <td>NaN</td>\n",
       "      <td>NaN</td>\n",
       "      <td>NaN</td>\n",
       "      <td>NaN</td>\n",
       "      <td>NaN</td>\n",
       "      <td>NaN</td>\n",
       "      <td>NaN</td>\n",
       "    </tr>\n",
       "    <tr>\n",
       "      <th>35</th>\n",
       "      <td>NaN</td>\n",
       "      <td>NaN</td>\n",
       "      <td>NaN</td>\n",
       "      <td>NaN</td>\n",
       "      <td>NaN</td>\n",
       "      <td>NaN</td>\n",
       "      <td>NaN</td>\n",
       "      <td>NaN</td>\n",
       "      <td>NaN</td>\n",
       "      <td>NaN</td>\n",
       "      <td>...</td>\n",
       "      <td>NaN</td>\n",
       "      <td>NaN</td>\n",
       "      <td>NaN</td>\n",
       "      <td>NaN</td>\n",
       "      <td>NaN</td>\n",
       "      <td>NaN</td>\n",
       "      <td>NaN</td>\n",
       "      <td>NaN</td>\n",
       "      <td>NaN</td>\n",
       "      <td>NaN</td>\n",
       "    </tr>\n",
       "  </tbody>\n",
       "</table>\n",
       "<p>5 rows × 29 columns</p>\n",
       "</div>"
      ],
      "text/plain": [
       "    onnet_mou_9  offnet_mou_9  roam_ic_mou_9  roam_og_mou_9  loc_og_t2t_mou_9  \\\n",
       "0           NaN           NaN            NaN            NaN               NaN   \n",
       "7           NaN           NaN            NaN            NaN               NaN   \n",
       "29          NaN           NaN            NaN            NaN               NaN   \n",
       "32          NaN           NaN            NaN            NaN               NaN   \n",
       "35          NaN           NaN            NaN            NaN               NaN   \n",
       "\n",
       "    loc_og_t2m_mou_9  loc_og_t2f_mou_9  loc_og_t2c_mou_9  loc_og_mou_9  \\\n",
       "0                NaN               NaN               NaN           NaN   \n",
       "7                NaN               NaN               NaN           NaN   \n",
       "29               NaN               NaN               NaN           NaN   \n",
       "32               NaN               NaN               NaN           NaN   \n",
       "35               NaN               NaN               NaN           NaN   \n",
       "\n",
       "    std_og_t2t_mou_9     ...       loc_ic_t2f_mou_9  loc_ic_mou_9  \\\n",
       "0                NaN     ...                    NaN           NaN   \n",
       "7                NaN     ...                    NaN           NaN   \n",
       "29               NaN     ...                    NaN           NaN   \n",
       "32               NaN     ...                    NaN           NaN   \n",
       "35               NaN     ...                    NaN           NaN   \n",
       "\n",
       "    std_ic_t2t_mou_9  std_ic_t2m_mou_9  std_ic_t2f_mou_9  std_ic_t2o_mou_9  \\\n",
       "0                NaN               NaN               NaN               NaN   \n",
       "7                NaN               NaN               NaN               NaN   \n",
       "29               NaN               NaN               NaN               NaN   \n",
       "32               NaN               NaN               NaN               NaN   \n",
       "35               NaN               NaN               NaN               NaN   \n",
       "\n",
       "    std_ic_mou_9  spl_ic_mou_9  isd_ic_mou_9  ic_others_9  \n",
       "0            NaN           NaN           NaN          NaN  \n",
       "7            NaN           NaN           NaN          NaN  \n",
       "29           NaN           NaN           NaN          NaN  \n",
       "32           NaN           NaN           NaN          NaN  \n",
       "35           NaN           NaN           NaN          NaN  \n",
       "\n",
       "[5 rows x 29 columns]"
      ]
     },
     "execution_count": 37,
     "metadata": {},
     "output_type": "execute_result"
    }
   ],
   "source": [
    "# checking if all these above features go missing together since they have the same 8% missing values in each feature.\n",
    "missingcol = list(getMissingValues(5).index)\n",
    "print (\"There are %d customers/MSISDN's having missing values for %s together\"%(len(churn_data[churn_data[missingcol].isnull().all(axis=1)]),missingcol))\n",
    "churn_data[churn_data[missingcol].isnull().all(axis=1)][missingcol].head()"
   ]
  },
  {
   "cell_type": "markdown",
   "metadata": {},
   "source": [
    "all these features are empty together without any value. We can choose to impute these values with 0 also."
   ]
  },
  {
   "cell_type": "code",
   "execution_count": 38,
   "metadata": {},
   "outputs": [],
   "source": [
    "imputeNan(churn_data,missingColList=missingcol)"
   ]
  },
  {
   "cell_type": "code",
   "execution_count": 39,
   "metadata": {},
   "outputs": [
    {
     "data": {
      "text/plain": [
       "(99999, 209)"
      ]
     },
     "execution_count": 39,
     "metadata": {},
     "output_type": "execute_result"
    }
   ],
   "source": [
    "churn_data.shape"
   ]
  },
  {
   "cell_type": "code",
   "execution_count": 40,
   "metadata": {},
   "outputs": [
    {
     "data": {
      "text/plain": [
       "last_date_of_month_9    1.659017\n",
       "date_of_last_rech_6     1.607016\n",
       "date_of_last_rech_7     1.767018\n",
       "date_of_last_rech_8     3.622036\n",
       "date_of_last_rech_9     4.760048\n",
       "dtype: float64"
      ]
     },
     "execution_count": 40,
     "metadata": {},
     "output_type": "execute_result"
    }
   ],
   "source": [
    "# check for null values in all categorical columns\n",
    "100*(churn_data.select_dtypes(include='object').isnull().sum()/len(churn_data))[100*(churn_data.select_dtypes(include='object').isnull().sum()/len(churn_data))>0]"
   ]
  },
  {
   "cell_type": "code",
   "execution_count": 42,
   "metadata": {},
   "outputs": [
    {
     "data": {
      "text/plain": [
       "['last_date_of_month_9',\n",
       " 'date_of_last_rech_6',\n",
       " 'date_of_last_rech_7',\n",
       " 'date_of_last_rech_8',\n",
       " 'date_of_last_rech_9']"
      ]
     },
     "execution_count": 42,
     "metadata": {},
     "output_type": "execute_result"
    }
   ],
   "source": [
    "#columns with date fields\n",
    "date_cols = churn_data.columns[churn_data.columns.str.contains('date')].tolist()\n",
    "date_cols"
   ]
  },
  {
   "cell_type": "code",
   "execution_count": 43,
   "metadata": {},
   "outputs": [
    {
     "data": {
      "text/plain": [
       "(99999, 204)"
      ]
     },
     "execution_count": 43,
     "metadata": {},
     "output_type": "execute_result"
    }
   ],
   "source": [
    "# Removing date columns as they won't play any role in churn prediction\n",
    "churn_data = churn_data.drop(date_cols,axis=1)\n",
    "churn_data.shape"
   ]
  },
  {
   "cell_type": "code",
   "execution_count": 44,
   "metadata": {},
   "outputs": [
    {
     "data": {
      "text/html": [
       "<div>\n",
       "<style scoped>\n",
       "    .dataframe tbody tr th:only-of-type {\n",
       "        vertical-align: middle;\n",
       "    }\n",
       "\n",
       "    .dataframe tbody tr th {\n",
       "        vertical-align: top;\n",
       "    }\n",
       "\n",
       "    .dataframe thead th {\n",
       "        text-align: right;\n",
       "    }\n",
       "</style>\n",
       "<table border=\"1\" class=\"dataframe\">\n",
       "  <thead>\n",
       "    <tr style=\"text-align: right;\">\n",
       "      <th></th>\n",
       "      <th>arpu_6</th>\n",
       "      <th>arpu_7</th>\n",
       "      <th>arpu_8</th>\n",
       "      <th>arpu_9</th>\n",
       "      <th>onnet_mou_6</th>\n",
       "      <th>onnet_mou_7</th>\n",
       "      <th>onnet_mou_8</th>\n",
       "      <th>onnet_mou_9</th>\n",
       "      <th>offnet_mou_6</th>\n",
       "      <th>offnet_mou_7</th>\n",
       "      <th>...</th>\n",
       "      <th>sachet_3g_9</th>\n",
       "      <th>fb_user_6</th>\n",
       "      <th>fb_user_7</th>\n",
       "      <th>fb_user_8</th>\n",
       "      <th>fb_user_9</th>\n",
       "      <th>aon</th>\n",
       "      <th>aug_vbc_3g</th>\n",
       "      <th>jul_vbc_3g</th>\n",
       "      <th>jun_vbc_3g</th>\n",
       "      <th>sep_vbc_3g</th>\n",
       "    </tr>\n",
       "  </thead>\n",
       "  <tbody>\n",
       "    <tr>\n",
       "      <th>0</th>\n",
       "      <td>197.385</td>\n",
       "      <td>214.816</td>\n",
       "      <td>213.803</td>\n",
       "      <td>21.100</td>\n",
       "      <td>NaN</td>\n",
       "      <td>NaN</td>\n",
       "      <td>0.00</td>\n",
       "      <td>0.00</td>\n",
       "      <td>NaN</td>\n",
       "      <td>NaN</td>\n",
       "      <td>...</td>\n",
       "      <td>0</td>\n",
       "      <td>1.0</td>\n",
       "      <td>1.0</td>\n",
       "      <td>1.0</td>\n",
       "      <td>0.0</td>\n",
       "      <td>968</td>\n",
       "      <td>30.4</td>\n",
       "      <td>0.0</td>\n",
       "      <td>101.20</td>\n",
       "      <td>3.58</td>\n",
       "    </tr>\n",
       "    <tr>\n",
       "      <th>1</th>\n",
       "      <td>34.047</td>\n",
       "      <td>355.074</td>\n",
       "      <td>268.321</td>\n",
       "      <td>86.285</td>\n",
       "      <td>24.11</td>\n",
       "      <td>78.68</td>\n",
       "      <td>7.68</td>\n",
       "      <td>18.34</td>\n",
       "      <td>15.74</td>\n",
       "      <td>99.84</td>\n",
       "      <td>...</td>\n",
       "      <td>0</td>\n",
       "      <td>0.0</td>\n",
       "      <td>1.0</td>\n",
       "      <td>1.0</td>\n",
       "      <td>0.0</td>\n",
       "      <td>1006</td>\n",
       "      <td>0.0</td>\n",
       "      <td>0.0</td>\n",
       "      <td>0.00</td>\n",
       "      <td>0.00</td>\n",
       "    </tr>\n",
       "    <tr>\n",
       "      <th>2</th>\n",
       "      <td>167.690</td>\n",
       "      <td>189.058</td>\n",
       "      <td>210.226</td>\n",
       "      <td>290.714</td>\n",
       "      <td>11.54</td>\n",
       "      <td>55.24</td>\n",
       "      <td>37.26</td>\n",
       "      <td>74.81</td>\n",
       "      <td>143.33</td>\n",
       "      <td>220.59</td>\n",
       "      <td>...</td>\n",
       "      <td>0</td>\n",
       "      <td>0.0</td>\n",
       "      <td>0.0</td>\n",
       "      <td>0.0</td>\n",
       "      <td>1.0</td>\n",
       "      <td>1103</td>\n",
       "      <td>0.0</td>\n",
       "      <td>0.0</td>\n",
       "      <td>4.17</td>\n",
       "      <td>0.00</td>\n",
       "    </tr>\n",
       "    <tr>\n",
       "      <th>3</th>\n",
       "      <td>221.338</td>\n",
       "      <td>251.102</td>\n",
       "      <td>508.054</td>\n",
       "      <td>389.500</td>\n",
       "      <td>99.91</td>\n",
       "      <td>54.39</td>\n",
       "      <td>310.98</td>\n",
       "      <td>241.71</td>\n",
       "      <td>123.31</td>\n",
       "      <td>109.01</td>\n",
       "      <td>...</td>\n",
       "      <td>0</td>\n",
       "      <td>0.0</td>\n",
       "      <td>0.0</td>\n",
       "      <td>0.0</td>\n",
       "      <td>0.0</td>\n",
       "      <td>2491</td>\n",
       "      <td>0.0</td>\n",
       "      <td>0.0</td>\n",
       "      <td>0.00</td>\n",
       "      <td>0.00</td>\n",
       "    </tr>\n",
       "    <tr>\n",
       "      <th>4</th>\n",
       "      <td>261.636</td>\n",
       "      <td>309.876</td>\n",
       "      <td>238.174</td>\n",
       "      <td>163.426</td>\n",
       "      <td>50.31</td>\n",
       "      <td>149.44</td>\n",
       "      <td>83.89</td>\n",
       "      <td>58.78</td>\n",
       "      <td>76.96</td>\n",
       "      <td>91.88</td>\n",
       "      <td>...</td>\n",
       "      <td>0</td>\n",
       "      <td>0.0</td>\n",
       "      <td>0.0</td>\n",
       "      <td>0.0</td>\n",
       "      <td>0.0</td>\n",
       "      <td>1526</td>\n",
       "      <td>0.0</td>\n",
       "      <td>0.0</td>\n",
       "      <td>0.00</td>\n",
       "      <td>0.00</td>\n",
       "    </tr>\n",
       "  </tbody>\n",
       "</table>\n",
       "<p>5 rows × 203 columns</p>\n",
       "</div>"
      ],
      "text/plain": [
       "    arpu_6   arpu_7   arpu_8   arpu_9  onnet_mou_6  onnet_mou_7  onnet_mou_8  \\\n",
       "0  197.385  214.816  213.803   21.100          NaN          NaN         0.00   \n",
       "1   34.047  355.074  268.321   86.285        24.11        78.68         7.68   \n",
       "2  167.690  189.058  210.226  290.714        11.54        55.24        37.26   \n",
       "3  221.338  251.102  508.054  389.500        99.91        54.39       310.98   \n",
       "4  261.636  309.876  238.174  163.426        50.31       149.44        83.89   \n",
       "\n",
       "   onnet_mou_9  offnet_mou_6  offnet_mou_7     ...      sachet_3g_9  \\\n",
       "0         0.00           NaN           NaN     ...                0   \n",
       "1        18.34         15.74         99.84     ...                0   \n",
       "2        74.81        143.33        220.59     ...                0   \n",
       "3       241.71        123.31        109.01     ...                0   \n",
       "4        58.78         76.96         91.88     ...                0   \n",
       "\n",
       "   fb_user_6  fb_user_7  fb_user_8  fb_user_9   aon  aug_vbc_3g  jul_vbc_3g  \\\n",
       "0        1.0        1.0        1.0        0.0   968        30.4         0.0   \n",
       "1        0.0        1.0        1.0        0.0  1006         0.0         0.0   \n",
       "2        0.0        0.0        0.0        1.0  1103         0.0         0.0   \n",
       "3        0.0        0.0        0.0        0.0  2491         0.0         0.0   \n",
       "4        0.0        0.0        0.0        0.0  1526         0.0         0.0   \n",
       "\n",
       "   jun_vbc_3g  sep_vbc_3g  \n",
       "0      101.20        3.58  \n",
       "1        0.00        0.00  \n",
       "2        4.17        0.00  \n",
       "3        0.00        0.00  \n",
       "4        0.00        0.00  \n",
       "\n",
       "[5 rows x 203 columns]"
      ]
     },
     "execution_count": 44,
     "metadata": {},
     "output_type": "execute_result"
    }
   ],
   "source": [
    "# Remove mobile_number which have no impact on churn\n",
    "churn_data = churn_data.drop('mobile_number',1)\n",
    "churn_data.head()"
   ]
  },
  {
   "cell_type": "code",
   "execution_count": 45,
   "metadata": {},
   "outputs": [
    {
     "name": "stdout",
     "output_type": "stream",
     "text": [
      "<class 'pandas.core.frame.DataFrame'>\n",
      "RangeIndex: 99999 entries, 0 to 99998\n",
      "Columns: 203 entries, arpu_6 to sep_vbc_3g\n",
      "dtypes: float64(170), int64(33)\n",
      "memory usage: 154.9 MB\n"
     ]
    }
   ],
   "source": [
    "churn_data.info()"
   ]
  },
  {
   "cell_type": "code",
   "execution_count": 46,
   "metadata": {},
   "outputs": [
    {
     "data": {
      "text/plain": [
       "onnet_mou_6         3.937039\n",
       "onnet_mou_7         3.859039\n",
       "onnet_mou_8         5.378054\n",
       "offnet_mou_6        3.937039\n",
       "offnet_mou_7        3.859039\n",
       "offnet_mou_8        5.378054\n",
       "roam_ic_mou_6       3.937039\n",
       "roam_ic_mou_7       3.859039\n",
       "roam_ic_mou_8       5.378054\n",
       "roam_og_mou_6       3.937039\n",
       "roam_og_mou_7       3.859039\n",
       "roam_og_mou_8       5.378054\n",
       "loc_og_t2t_mou_6    3.937039\n",
       "loc_og_t2t_mou_7    3.859039\n",
       "loc_og_t2t_mou_8    5.378054\n",
       "loc_og_t2m_mou_6    3.937039\n",
       "loc_og_t2m_mou_7    3.859039\n",
       "loc_og_t2m_mou_8    5.378054\n",
       "loc_og_t2f_mou_6    3.937039\n",
       "loc_og_t2f_mou_7    3.859039\n",
       "loc_og_t2f_mou_8    5.378054\n",
       "loc_og_t2c_mou_6    3.937039\n",
       "loc_og_t2c_mou_7    3.859039\n",
       "loc_og_t2c_mou_8    5.378054\n",
       "loc_og_mou_6        3.937039\n",
       "loc_og_mou_7        3.859039\n",
       "loc_og_mou_8        5.378054\n",
       "std_og_t2t_mou_6    3.937039\n",
       "std_og_t2t_mou_7    3.859039\n",
       "std_og_t2t_mou_8    5.378054\n",
       "                      ...   \n",
       "loc_ic_t2m_mou_6    3.937039\n",
       "loc_ic_t2m_mou_7    3.859039\n",
       "loc_ic_t2m_mou_8    5.378054\n",
       "loc_ic_t2f_mou_6    3.937039\n",
       "loc_ic_t2f_mou_7    3.859039\n",
       "loc_ic_t2f_mou_8    5.378054\n",
       "loc_ic_mou_6        3.937039\n",
       "loc_ic_mou_7        3.859039\n",
       "loc_ic_mou_8        5.378054\n",
       "std_ic_t2t_mou_6    3.937039\n",
       "std_ic_t2t_mou_7    3.859039\n",
       "std_ic_t2t_mou_8    5.378054\n",
       "std_ic_t2m_mou_6    3.937039\n",
       "std_ic_t2m_mou_7    3.859039\n",
       "std_ic_t2m_mou_8    5.378054\n",
       "std_ic_t2f_mou_6    3.937039\n",
       "std_ic_t2f_mou_7    3.859039\n",
       "std_ic_t2f_mou_8    5.378054\n",
       "std_ic_mou_6        3.937039\n",
       "std_ic_mou_7        3.859039\n",
       "std_ic_mou_8        5.378054\n",
       "spl_ic_mou_6        3.937039\n",
       "spl_ic_mou_7        3.859039\n",
       "spl_ic_mou_8        5.378054\n",
       "isd_ic_mou_6        3.937039\n",
       "isd_ic_mou_7        3.859039\n",
       "isd_ic_mou_8        5.378054\n",
       "ic_others_6         3.937039\n",
       "ic_others_7         3.859039\n",
       "ic_others_8         5.378054\n",
       "Length: 81, dtype: float64"
      ]
     },
     "execution_count": 46,
     "metadata": {},
     "output_type": "execute_result"
    }
   ],
   "source": [
    "# check for null values in all continueous columns\n",
    "100*(churn_data.select_dtypes(include=['int64','float64']).isnull().sum()/len(churn_data))[100*(churn_data.select_dtypes(include=['int64','float64']).isnull().sum()/len(churn_data))>0]"
   ]
  },
  {
   "cell_type": "code",
   "execution_count": 47,
   "metadata": {},
   "outputs": [],
   "source": [
    "# Imputing all these continueous variables with mean.\n",
    "churn_data.fillna(churn_data.mean(),inplace=True)"
   ]
  },
  {
   "cell_type": "code",
   "execution_count": 48,
   "metadata": {},
   "outputs": [
    {
     "data": {
      "text/plain": [
       "arpu_6              0.0\n",
       "arpu_7              0.0\n",
       "arpu_8              0.0\n",
       "arpu_9              0.0\n",
       "onnet_mou_6         0.0\n",
       "onnet_mou_7         0.0\n",
       "onnet_mou_8         0.0\n",
       "onnet_mou_9         0.0\n",
       "offnet_mou_6        0.0\n",
       "offnet_mou_7        0.0\n",
       "offnet_mou_8        0.0\n",
       "offnet_mou_9        0.0\n",
       "roam_ic_mou_6       0.0\n",
       "roam_ic_mou_7       0.0\n",
       "roam_ic_mou_8       0.0\n",
       "roam_ic_mou_9       0.0\n",
       "roam_og_mou_6       0.0\n",
       "roam_og_mou_7       0.0\n",
       "roam_og_mou_8       0.0\n",
       "roam_og_mou_9       0.0\n",
       "loc_og_t2t_mou_6    0.0\n",
       "loc_og_t2t_mou_7    0.0\n",
       "loc_og_t2t_mou_8    0.0\n",
       "loc_og_t2t_mou_9    0.0\n",
       "loc_og_t2m_mou_6    0.0\n",
       "loc_og_t2m_mou_7    0.0\n",
       "loc_og_t2m_mou_8    0.0\n",
       "loc_og_t2m_mou_9    0.0\n",
       "loc_og_t2f_mou_6    0.0\n",
       "loc_og_t2f_mou_7    0.0\n",
       "                   ... \n",
       "arpu_2g_9           0.0\n",
       "night_pck_user_6    0.0\n",
       "night_pck_user_7    0.0\n",
       "night_pck_user_8    0.0\n",
       "night_pck_user_9    0.0\n",
       "monthly_2g_6        0.0\n",
       "monthly_2g_7        0.0\n",
       "monthly_2g_8        0.0\n",
       "monthly_2g_9        0.0\n",
       "sachet_2g_6         0.0\n",
       "sachet_2g_7         0.0\n",
       "sachet_2g_8         0.0\n",
       "sachet_2g_9         0.0\n",
       "monthly_3g_6        0.0\n",
       "monthly_3g_7        0.0\n",
       "monthly_3g_8        0.0\n",
       "monthly_3g_9        0.0\n",
       "sachet_3g_6         0.0\n",
       "sachet_3g_7         0.0\n",
       "sachet_3g_8         0.0\n",
       "sachet_3g_9         0.0\n",
       "fb_user_6           0.0\n",
       "fb_user_7           0.0\n",
       "fb_user_8           0.0\n",
       "fb_user_9           0.0\n",
       "aon                 0.0\n",
       "aug_vbc_3g          0.0\n",
       "jul_vbc_3g          0.0\n",
       "jun_vbc_3g          0.0\n",
       "sep_vbc_3g          0.0\n",
       "Length: 203, dtype: float64"
      ]
     },
     "execution_count": 48,
     "metadata": {},
     "output_type": "execute_result"
    }
   ],
   "source": [
    "# Checking missing value percentage\n",
    "round(100*churn_data.isnull().sum()/len(churn_data),2)"
   ]
  },
  {
   "cell_type": "code",
   "execution_count": 49,
   "metadata": {},
   "outputs": [
    {
     "name": "stdout",
     "output_type": "stream",
     "text": [
      "There are 0 features having more than 0% missing values/entries\n"
     ]
    },
    {
     "data": {
      "text/plain": [
       "Series([], dtype: float64)"
      ]
     },
     "execution_count": 49,
     "metadata": {},
     "output_type": "execute_result"
    }
   ],
   "source": [
    "getMissingValues(0)"
   ]
  },
  {
   "cell_type": "markdown",
   "metadata": {},
   "source": [
    "There is no null values in the data."
   ]
  },
  {
   "cell_type": "markdown",
   "metadata": {},
   "source": [
    "In churn prediction, we assume that there are three phases of customer lifecycle :\n",
    "\n",
    "- The ‘good’ phase [Month 6 & 7]\n",
    "- The ‘action’ phase [Month 8]\n",
    "- The ‘churn’ phase [Month 9]\n",
    "\n",
    "    In this case, since you are working over a four-month window, the first two months are the ‘good’ phase, the third month is the ‘action’ phase, while the fourth month is the ‘churn’ phase."
   ]
  },
  {
   "cell_type": "markdown",
   "metadata": {},
   "source": [
    "#### 1.  Derive new features"
   ]
  },
  {
   "cell_type": "code",
   "execution_count": 50,
   "metadata": {},
   "outputs": [
    {
     "name": "stdout",
     "output_type": "stream",
     "text": [
      "Index(['total_rech_amt_6', 'total_rech_amt_7', 'total_rech_amt_8',\n",
      "       'total_rech_amt_9', 'max_rech_amt_6', 'max_rech_amt_7',\n",
      "       'max_rech_amt_8', 'max_rech_amt_9', 'total_rech_data_6',\n",
      "       'total_rech_data_7', 'total_rech_data_8', 'total_rech_data_9',\n",
      "       'max_rech_data_6', 'max_rech_data_7', 'max_rech_data_8',\n",
      "       'max_rech_data_9', 'av_rech_amt_data_6', 'av_rech_amt_data_7',\n",
      "       'av_rech_amt_data_8', 'av_rech_amt_data_9'],\n",
      "      dtype='object')\n"
     ]
    }
   ],
   "source": [
    "# Let us first extract list of columns containing recharge amount\n",
    "amt_recharge_columns =  churn_data.columns[churn_data.columns.str.contains('rech_amt|rech_data')]\n",
    "print(amt_recharge_columns)"
   ]
  },
  {
   "cell_type": "markdown",
   "metadata": {},
   "source": [
    "From above features we can derive more meaningful information :\n",
    "\n",
    "- Total recharge amount\n",
    "- Total recharge for data\n",
    "- Maximum recharge amount\n",
    "- Last date of Recharging the data\n",
    "- Average recharge amount for data.\n",
    "- Maximum recharge for data</span>"
   ]
  },
  {
   "cell_type": "code",
   "execution_count": 51,
   "metadata": {},
   "outputs": [
    {
     "data": {
      "text/plain": [
       "total_rech_amt_6      0.0\n",
       "total_rech_amt_7      0.0\n",
       "total_rech_amt_8      0.0\n",
       "total_rech_amt_9      0.0\n",
       "max_rech_amt_6        0.0\n",
       "max_rech_amt_7        0.0\n",
       "max_rech_amt_8        0.0\n",
       "max_rech_amt_9        0.0\n",
       "total_rech_data_6     0.0\n",
       "total_rech_data_7     0.0\n",
       "total_rech_data_8     0.0\n",
       "total_rech_data_9     0.0\n",
       "max_rech_data_6       0.0\n",
       "max_rech_data_7       0.0\n",
       "max_rech_data_8       0.0\n",
       "max_rech_data_9       0.0\n",
       "av_rech_amt_data_6    0.0\n",
       "av_rech_amt_data_7    0.0\n",
       "av_rech_amt_data_8    0.0\n",
       "av_rech_amt_data_9    0.0\n",
       "dtype: float64"
      ]
     },
     "execution_count": 51,
     "metadata": {},
     "output_type": "execute_result"
    }
   ],
   "source": [
    "# Checking missing values percentages\n",
    "churn_data_null_check = 100*churn_data.loc[:,amt_recharge_columns].isnull().sum()/len(churn_data)\n",
    "churn_data_null_check"
   ]
  },
  {
   "cell_type": "code",
   "execution_count": 52,
   "metadata": {},
   "outputs": [],
   "source": [
    "# let's adding new column total recharge amount for data: total_rech_amt_data for calculating High Value customer process\n",
    "churn_data['total_rech_amt_data_6'] = churn_data.av_rech_amt_data_6 * churn_data.total_rech_data_6\n",
    "churn_data['total_rech_amt_data_7'] = churn_data.av_rech_amt_data_7 * churn_data.total_rech_data_7\n",
    "churn_data['total_rech_amt_data_8'] = churn_data.av_rech_amt_data_8 * churn_data.total_rech_data_8"
   ]
  },
  {
   "cell_type": "markdown",
   "metadata": {},
   "source": [
    "Defining total average recharge amount for good phase for months 6 and 7 (the good phase)"
   ]
  },
  {
   "cell_type": "code",
   "execution_count": 53,
   "metadata": {},
   "outputs": [],
   "source": [
    "churn_data['total_avg_rech_amnt_6_7_GoodPhase'] = (churn_data.total_rech_amt_6 + churn_data.total_rech_amt_data_6 \\\n",
    "                                               + churn_data.total_rech_amt_7+ churn_data.total_rech_amt_data_7)/2"
   ]
  },
  {
   "cell_type": "markdown",
   "metadata": {},
   "source": [
    "#### 2. Filter high-value customers"
   ]
  },
  {
   "cell_type": "markdown",
   "metadata": {},
   "source": [
    "Define high-value customers as follows:\n",
    "\n",
    "Those who have recharged with an amount more than or equal to X, where X is greater than 70th percentile of the average recharge amount in the first two months (the good phase)\n"
   ]
  },
  {
   "cell_type": "code",
   "execution_count": 54,
   "metadata": {},
   "outputs": [
    {
     "name": "stdout",
     "output_type": "stream",
     "text": [
      "70 percentile of 6th and 7th months avg recharge amount: 478.0\n",
      "Dataframe Shape after Filtering High Value Customers: (29953, 207)\n"
     ]
    }
   ],
   "source": [
    "# create a filter for values greater than 70th percentile of total average recharge amount for good phase \n",
    "high_value_filter = churn_data.total_avg_rech_amnt_6_7_GoodPhase.quantile(0.7)\n",
    "\n",
    "print('70 percentile of 6th and 7th months avg recharge amount: '+str(high_value_filter))\n",
    "\n",
    "churn_data_high_val_cust = churn_data[churn_data.total_avg_rech_amnt_6_7_GoodPhase > high_value_filter]\n",
    "print('Dataframe Shape after Filtering High Value Customers: ' + str(churn_data_high_val_cust.shape))"
   ]
  },
  {
   "cell_type": "markdown",
   "metadata": {},
   "source": [
    "#### 3. Tag churners and remove attributes of the churn phase"
   ]
  },
  {
   "cell_type": "markdown",
   "metadata": {},
   "source": [
    "Tag churners and remove attributes of the churn phase\n",
    "\n",
    "   ***Now tag the churned customers (churn=1, else 0) based on the fourth month as follows: Those who have not made any calls (either incoming or outgoing) AND have not used mobile internet even once in the churn phase***\n",
    "    \n",
    "   ***The attributes you need to use to tag churners are:total_ic_mou_9, total_og_mou_9, vol_2g_mb_9, vol_3g_mb_9***\n",
    "    \n",
    "   ***After tagging churners, remove all the attributes corresponding to the churn phase (all attributes having ‘ _9’, etc. in their names)***"
   ]
  },
  {
   "cell_type": "code",
   "execution_count": 55,
   "metadata": {},
   "outputs": [],
   "source": [
    "high_val_cust_9 = ['total_ic_mou_9', 'total_og_mou_9', 'vol_2g_mb_9','vol_3g_mb_9']"
   ]
  },
  {
   "cell_type": "code",
   "execution_count": 56,
   "metadata": {},
   "outputs": [
    {
     "data": {
      "text/plain": [
       "total_ic_mou_9    0.0\n",
       "total_og_mou_9    0.0\n",
       "vol_2g_mb_9       0.0\n",
       "vol_3g_mb_9       0.0\n",
       "dtype: float64"
      ]
     },
     "execution_count": 56,
     "metadata": {},
     "output_type": "execute_result"
    }
   ],
   "source": [
    "# Checking the NA/Null values are present or Not\n",
    "100*churn_data_high_val_cust.loc[:,high_val_cust_9].isnull().sum()/len(churn_data_high_val_cust)"
   ]
  },
  {
   "cell_type": "code",
   "execution_count": 57,
   "metadata": {},
   "outputs": [],
   "source": [
    "# Initially set all the values as 0\n",
    "churn_data_high_val_cust['churn']= 0"
   ]
  },
  {
   "cell_type": "code",
   "execution_count": 58,
   "metadata": {},
   "outputs": [],
   "source": [
    "#is_churned boolean flag for customers where above values are zero\n",
    "is_churned = (churn_data_high_val_cust.total_ic_mou_9 == 0) & \\\n",
    "             (churn_data_high_val_cust.total_og_mou_9 == 0) & \\\n",
    "             (churn_data_high_val_cust.vol_2g_mb_9 ==0) & \\\n",
    "             (churn_data_high_val_cust.vol_3g_mb_9 ==0)"
   ]
  },
  {
   "cell_type": "code",
   "execution_count": 59,
   "metadata": {},
   "outputs": [],
   "source": [
    "# set all which having is_churned True condition as 1\n",
    "churn_data_high_val_cust.loc[is_churned,'churn']=1"
   ]
  },
  {
   "cell_type": "code",
   "execution_count": 60,
   "metadata": {},
   "outputs": [
    {
     "data": {
      "text/plain": [
       "8.122725603445398"
      ]
     },
     "execution_count": 60,
     "metadata": {},
     "output_type": "execute_result"
    }
   ],
   "source": [
    "# let us check what's the % of churned customers\n",
    "100*churn_data_high_val_cust.churn.sum()/len(churn_data_high_val_cust)"
   ]
  },
  {
   "cell_type": "markdown",
   "metadata": {},
   "source": [
    "***There are just 8.09% churn cases.***\n",
    "***This indicated an highly imbalanced data set where the churn cases are the minority(8.14%) as opposed to the non-churners who are the majority(91.91)***"
   ]
  },
  {
   "cell_type": "markdown",
   "metadata": {},
   "source": [
    "After tagging churners, remove all the attributes corresponding to the churn phase (all attributes having ‘ _9’, etc. in their names)"
   ]
  },
  {
   "cell_type": "code",
   "execution_count": 61,
   "metadata": {},
   "outputs": [],
   "source": [
    "churn_month_columns =  churn_data_high_val_cust.columns[churn_data_high_val_cust.columns.str.contains('_9')]"
   ]
  },
  {
   "cell_type": "code",
   "execution_count": 62,
   "metadata": {},
   "outputs": [],
   "source": [
    "# drop all columns corresponding to the churn phase\n",
    "churn_data_high_val_cust.drop(churn_month_columns,axis=1,inplace=True)"
   ]
  },
  {
   "cell_type": "code",
   "execution_count": 63,
   "metadata": {},
   "outputs": [
    {
     "data": {
      "text/plain": [
       "(29953, 157)"
      ]
     },
     "execution_count": 63,
     "metadata": {},
     "output_type": "execute_result"
    }
   ],
   "source": [
    "churn_data_high_val_cust.shape"
   ]
  },
  {
   "cell_type": "markdown",
   "metadata": {},
   "source": [
    "#### Outlier Treatment"
   ]
  },
  {
   "cell_type": "code",
   "execution_count": 64,
   "metadata": {},
   "outputs": [
    {
     "data": {
      "text/html": [
       "<div>\n",
       "<style scoped>\n",
       "    .dataframe tbody tr th:only-of-type {\n",
       "        vertical-align: middle;\n",
       "    }\n",
       "\n",
       "    .dataframe tbody tr th {\n",
       "        vertical-align: top;\n",
       "    }\n",
       "\n",
       "    .dataframe thead th {\n",
       "        text-align: right;\n",
       "    }\n",
       "</style>\n",
       "<table border=\"1\" class=\"dataframe\">\n",
       "  <thead>\n",
       "    <tr style=\"text-align: right;\">\n",
       "      <th></th>\n",
       "      <th>arpu_6</th>\n",
       "      <th>arpu_7</th>\n",
       "      <th>arpu_8</th>\n",
       "      <th>onnet_mou_6</th>\n",
       "      <th>onnet_mou_7</th>\n",
       "      <th>onnet_mou_8</th>\n",
       "      <th>offnet_mou_6</th>\n",
       "      <th>offnet_mou_7</th>\n",
       "      <th>offnet_mou_8</th>\n",
       "      <th>roam_ic_mou_6</th>\n",
       "      <th>...</th>\n",
       "      <th>aon</th>\n",
       "      <th>aug_vbc_3g</th>\n",
       "      <th>jul_vbc_3g</th>\n",
       "      <th>jun_vbc_3g</th>\n",
       "      <th>sep_vbc_3g</th>\n",
       "      <th>total_rech_amt_data_6</th>\n",
       "      <th>total_rech_amt_data_7</th>\n",
       "      <th>total_rech_amt_data_8</th>\n",
       "      <th>total_avg_rech_amnt_6_7_GoodPhase</th>\n",
       "      <th>churn</th>\n",
       "    </tr>\n",
       "  </thead>\n",
       "  <tbody>\n",
       "    <tr>\n",
       "      <th>count</th>\n",
       "      <td>29953.000000</td>\n",
       "      <td>29953.000000</td>\n",
       "      <td>29953.000000</td>\n",
       "      <td>29953.000000</td>\n",
       "      <td>29953.000000</td>\n",
       "      <td>29953.000000</td>\n",
       "      <td>29953.000000</td>\n",
       "      <td>29953.000000</td>\n",
       "      <td>29953.000000</td>\n",
       "      <td>29953.000000</td>\n",
       "      <td>...</td>\n",
       "      <td>29953.000000</td>\n",
       "      <td>29953.000000</td>\n",
       "      <td>29953.000000</td>\n",
       "      <td>29953.000000</td>\n",
       "      <td>29953.000000</td>\n",
       "      <td>29953.000000</td>\n",
       "      <td>29953.000000</td>\n",
       "      <td>29953.000000</td>\n",
       "      <td>29953.000000</td>\n",
       "      <td>29953.000000</td>\n",
       "    </tr>\n",
       "    <tr>\n",
       "      <th>mean</th>\n",
       "      <td>558.820058</td>\n",
       "      <td>561.160547</td>\n",
       "      <td>508.890301</td>\n",
       "      <td>263.296585</td>\n",
       "      <td>270.443744</td>\n",
       "      <td>239.549980</td>\n",
       "      <td>377.382049</td>\n",
       "      <td>381.759170</td>\n",
       "      <td>342.814581</td>\n",
       "      <td>16.304047</td>\n",
       "      <td>...</td>\n",
       "      <td>1209.280573</td>\n",
       "      <td>169.276670</td>\n",
       "      <td>179.057629</td>\n",
       "      <td>158.731865</td>\n",
       "      <td>8.037804</td>\n",
       "      <td>456.387566</td>\n",
       "      <td>528.958341</td>\n",
       "      <td>463.640890</td>\n",
       "      <td>1153.701715</td>\n",
       "      <td>0.081227</td>\n",
       "    </tr>\n",
       "    <tr>\n",
       "      <th>std</th>\n",
       "      <td>460.868223</td>\n",
       "      <td>480.028497</td>\n",
       "      <td>502.136278</td>\n",
       "      <td>458.831521</td>\n",
       "      <td>479.294093</td>\n",
       "      <td>456.813387</td>\n",
       "      <td>480.655670</td>\n",
       "      <td>497.146528</td>\n",
       "      <td>478.128730</td>\n",
       "      <td>76.317716</td>\n",
       "      <td>...</td>\n",
       "      <td>957.449442</td>\n",
       "      <td>421.128001</td>\n",
       "      <td>443.756247</td>\n",
       "      <td>416.989501</td>\n",
       "      <td>52.413217</td>\n",
       "      <td>1419.713940</td>\n",
       "      <td>1477.097887</td>\n",
       "      <td>1623.839242</td>\n",
       "      <td>1359.533621</td>\n",
       "      <td>0.273188</td>\n",
       "    </tr>\n",
       "    <tr>\n",
       "      <th>min</th>\n",
       "      <td>-2258.709000</td>\n",
       "      <td>-2014.045000</td>\n",
       "      <td>-945.808000</td>\n",
       "      <td>0.000000</td>\n",
       "      <td>0.000000</td>\n",
       "      <td>0.000000</td>\n",
       "      <td>0.000000</td>\n",
       "      <td>0.000000</td>\n",
       "      <td>0.000000</td>\n",
       "      <td>0.000000</td>\n",
       "      <td>...</td>\n",
       "      <td>180.000000</td>\n",
       "      <td>0.000000</td>\n",
       "      <td>0.000000</td>\n",
       "      <td>0.000000</td>\n",
       "      <td>0.000000</td>\n",
       "      <td>0.000000</td>\n",
       "      <td>0.000000</td>\n",
       "      <td>0.000000</td>\n",
       "      <td>478.500000</td>\n",
       "      <td>0.000000</td>\n",
       "    </tr>\n",
       "    <tr>\n",
       "      <th>1%</th>\n",
       "      <td>1.272400</td>\n",
       "      <td>0.726000</td>\n",
       "      <td>0.000000</td>\n",
       "      <td>0.000000</td>\n",
       "      <td>0.000000</td>\n",
       "      <td>0.000000</td>\n",
       "      <td>0.000000</td>\n",
       "      <td>0.000000</td>\n",
       "      <td>0.000000</td>\n",
       "      <td>0.000000</td>\n",
       "      <td>...</td>\n",
       "      <td>188.000000</td>\n",
       "      <td>0.000000</td>\n",
       "      <td>0.000000</td>\n",
       "      <td>0.000000</td>\n",
       "      <td>0.000000</td>\n",
       "      <td>0.000000</td>\n",
       "      <td>0.000000</td>\n",
       "      <td>0.000000</td>\n",
       "      <td>483.000000</td>\n",
       "      <td>0.000000</td>\n",
       "    </tr>\n",
       "    <tr>\n",
       "      <th>10%</th>\n",
       "      <td>171.795000</td>\n",
       "      <td>177.973000</td>\n",
       "      <td>84.302800</td>\n",
       "      <td>1.760000</td>\n",
       "      <td>1.530000</td>\n",
       "      <td>0.810000</td>\n",
       "      <td>17.280000</td>\n",
       "      <td>16.232000</td>\n",
       "      <td>10.098000</td>\n",
       "      <td>0.000000</td>\n",
       "      <td>...</td>\n",
       "      <td>284.000000</td>\n",
       "      <td>0.000000</td>\n",
       "      <td>0.000000</td>\n",
       "      <td>0.000000</td>\n",
       "      <td>0.000000</td>\n",
       "      <td>0.000000</td>\n",
       "      <td>0.000000</td>\n",
       "      <td>0.000000</td>\n",
       "      <td>521.000000</td>\n",
       "      <td>0.000000</td>\n",
       "    </tr>\n",
       "    <tr>\n",
       "      <th>25%</th>\n",
       "      <td>310.142000</td>\n",
       "      <td>310.071000</td>\n",
       "      <td>231.615000</td>\n",
       "      <td>20.010000</td>\n",
       "      <td>18.940000</td>\n",
       "      <td>15.660000</td>\n",
       "      <td>80.690000</td>\n",
       "      <td>78.610000</td>\n",
       "      <td>63.230000</td>\n",
       "      <td>0.000000</td>\n",
       "      <td>...</td>\n",
       "      <td>460.000000</td>\n",
       "      <td>0.000000</td>\n",
       "      <td>0.000000</td>\n",
       "      <td>0.000000</td>\n",
       "      <td>0.000000</td>\n",
       "      <td>0.000000</td>\n",
       "      <td>0.000000</td>\n",
       "      <td>0.000000</td>\n",
       "      <td>604.000000</td>\n",
       "      <td>0.000000</td>\n",
       "    </tr>\n",
       "    <tr>\n",
       "      <th>50%</th>\n",
       "      <td>482.354000</td>\n",
       "      <td>481.496000</td>\n",
       "      <td>427.604000</td>\n",
       "      <td>92.510000</td>\n",
       "      <td>90.840000</td>\n",
       "      <td>80.860000</td>\n",
       "      <td>222.560000</td>\n",
       "      <td>220.040000</td>\n",
       "      <td>196.574803</td>\n",
       "      <td>0.000000</td>\n",
       "      <td>...</td>\n",
       "      <td>846.000000</td>\n",
       "      <td>0.000000</td>\n",
       "      <td>0.000000</td>\n",
       "      <td>0.000000</td>\n",
       "      <td>0.000000</td>\n",
       "      <td>92.000000</td>\n",
       "      <td>100.000000</td>\n",
       "      <td>25.000000</td>\n",
       "      <td>800.500000</td>\n",
       "      <td>0.000000</td>\n",
       "    </tr>\n",
       "    <tr>\n",
       "      <th>75%</th>\n",
       "      <td>700.240000</td>\n",
       "      <td>698.829000</td>\n",
       "      <td>661.753000</td>\n",
       "      <td>290.490000</td>\n",
       "      <td>290.540000</td>\n",
       "      <td>240.630000</td>\n",
       "      <td>487.910000</td>\n",
       "      <td>494.030000</td>\n",
       "      <td>438.860000</td>\n",
       "      <td>0.000000</td>\n",
       "      <td>...</td>\n",
       "      <td>1756.000000</td>\n",
       "      <td>129.130000</td>\n",
       "      <td>137.860000</td>\n",
       "      <td>98.750000</td>\n",
       "      <td>0.000000</td>\n",
       "      <td>400.000000</td>\n",
       "      <td>575.000000</td>\n",
       "      <td>308.000000</td>\n",
       "      <td>1209.000000</td>\n",
       "      <td>0.000000</td>\n",
       "    </tr>\n",
       "    <tr>\n",
       "      <th>90%</th>\n",
       "      <td>994.408600</td>\n",
       "      <td>996.170600</td>\n",
       "      <td>977.546400</td>\n",
       "      <td>754.560000</td>\n",
       "      <td>784.828000</td>\n",
       "      <td>666.266000</td>\n",
       "      <td>896.416000</td>\n",
       "      <td>916.360000</td>\n",
       "      <td>823.880000</td>\n",
       "      <td>27.422000</td>\n",
       "      <td>...</td>\n",
       "      <td>2793.000000</td>\n",
       "      <td>580.998000</td>\n",
       "      <td>611.800000</td>\n",
       "      <td>533.042000</td>\n",
       "      <td>0.910000</td>\n",
       "      <td>1125.000000</td>\n",
       "      <td>1374.000000</td>\n",
       "      <td>1088.000000</td>\n",
       "      <td>1992.000000</td>\n",
       "      <td>0.000000</td>\n",
       "    </tr>\n",
       "    <tr>\n",
       "      <th>95%</th>\n",
       "      <td>1241.649400</td>\n",
       "      <td>1261.885600</td>\n",
       "      <td>1255.086400</td>\n",
       "      <td>1135.808000</td>\n",
       "      <td>1187.712000</td>\n",
       "      <td>1075.384000</td>\n",
       "      <td>1256.662000</td>\n",
       "      <td>1272.430000</td>\n",
       "      <td>1167.620000</td>\n",
       "      <td>84.628000</td>\n",
       "      <td>...</td>\n",
       "      <td>3140.000000</td>\n",
       "      <td>939.224000</td>\n",
       "      <td>985.618000</td>\n",
       "      <td>885.864000</td>\n",
       "      <td>31.342000</td>\n",
       "      <td>2065.000000</td>\n",
       "      <td>2420.000000</td>\n",
       "      <td>2257.600000</td>\n",
       "      <td>2801.200000</td>\n",
       "      <td>1.000000</td>\n",
       "    </tr>\n",
       "    <tr>\n",
       "      <th>99%</th>\n",
       "      <td>1985.394360</td>\n",
       "      <td>1999.521120</td>\n",
       "      <td>1986.739600</td>\n",
       "      <td>2153.717600</td>\n",
       "      <td>2202.857600</td>\n",
       "      <td>2159.676400</td>\n",
       "      <td>2330.358400</td>\n",
       "      <td>2411.139600</td>\n",
       "      <td>2191.731200</td>\n",
       "      <td>343.563200</td>\n",
       "      <td>...</td>\n",
       "      <td>3651.000000</td>\n",
       "      <td>1966.416000</td>\n",
       "      <td>2066.670400</td>\n",
       "      <td>1946.717200</td>\n",
       "      <td>202.420000</td>\n",
       "      <td>5169.800000</td>\n",
       "      <td>6205.440000</td>\n",
       "      <td>5741.171200</td>\n",
       "      <td>6097.940000</td>\n",
       "      <td>1.000000</td>\n",
       "    </tr>\n",
       "    <tr>\n",
       "      <th>max</th>\n",
       "      <td>27731.088000</td>\n",
       "      <td>35145.834000</td>\n",
       "      <td>33543.624000</td>\n",
       "      <td>7376.710000</td>\n",
       "      <td>8157.780000</td>\n",
       "      <td>10752.560000</td>\n",
       "      <td>8362.360000</td>\n",
       "      <td>9667.130000</td>\n",
       "      <td>14007.340000</td>\n",
       "      <td>2613.310000</td>\n",
       "      <td>...</td>\n",
       "      <td>4321.000000</td>\n",
       "      <td>12916.220000</td>\n",
       "      <td>9165.600000</td>\n",
       "      <td>11166.210000</td>\n",
       "      <td>2618.570000</td>\n",
       "      <td>105644.000000</td>\n",
       "      <td>55080.000000</td>\n",
       "      <td>89106.500000</td>\n",
       "      <td>61236.000000</td>\n",
       "      <td>1.000000</td>\n",
       "    </tr>\n",
       "  </tbody>\n",
       "</table>\n",
       "<p>13 rows × 157 columns</p>\n",
       "</div>"
      ],
      "text/plain": [
       "             arpu_6        arpu_7        arpu_8   onnet_mou_6   onnet_mou_7  \\\n",
       "count  29953.000000  29953.000000  29953.000000  29953.000000  29953.000000   \n",
       "mean     558.820058    561.160547    508.890301    263.296585    270.443744   \n",
       "std      460.868223    480.028497    502.136278    458.831521    479.294093   \n",
       "min    -2258.709000  -2014.045000   -945.808000      0.000000      0.000000   \n",
       "1%         1.272400      0.726000      0.000000      0.000000      0.000000   \n",
       "10%      171.795000    177.973000     84.302800      1.760000      1.530000   \n",
       "25%      310.142000    310.071000    231.615000     20.010000     18.940000   \n",
       "50%      482.354000    481.496000    427.604000     92.510000     90.840000   \n",
       "75%      700.240000    698.829000    661.753000    290.490000    290.540000   \n",
       "90%      994.408600    996.170600    977.546400    754.560000    784.828000   \n",
       "95%     1241.649400   1261.885600   1255.086400   1135.808000   1187.712000   \n",
       "99%     1985.394360   1999.521120   1986.739600   2153.717600   2202.857600   \n",
       "max    27731.088000  35145.834000  33543.624000   7376.710000   8157.780000   \n",
       "\n",
       "        onnet_mou_8  offnet_mou_6  offnet_mou_7  offnet_mou_8  roam_ic_mou_6  \\\n",
       "count  29953.000000  29953.000000  29953.000000  29953.000000   29953.000000   \n",
       "mean     239.549980    377.382049    381.759170    342.814581      16.304047   \n",
       "std      456.813387    480.655670    497.146528    478.128730      76.317716   \n",
       "min        0.000000      0.000000      0.000000      0.000000       0.000000   \n",
       "1%         0.000000      0.000000      0.000000      0.000000       0.000000   \n",
       "10%        0.810000     17.280000     16.232000     10.098000       0.000000   \n",
       "25%       15.660000     80.690000     78.610000     63.230000       0.000000   \n",
       "50%       80.860000    222.560000    220.040000    196.574803       0.000000   \n",
       "75%      240.630000    487.910000    494.030000    438.860000       0.000000   \n",
       "90%      666.266000    896.416000    916.360000    823.880000      27.422000   \n",
       "95%     1075.384000   1256.662000   1272.430000   1167.620000      84.628000   \n",
       "99%     2159.676400   2330.358400   2411.139600   2191.731200     343.563200   \n",
       "max    10752.560000   8362.360000   9667.130000  14007.340000    2613.310000   \n",
       "\n",
       "           ...                aon    aug_vbc_3g    jul_vbc_3g    jun_vbc_3g  \\\n",
       "count      ...       29953.000000  29953.000000  29953.000000  29953.000000   \n",
       "mean       ...        1209.280573    169.276670    179.057629    158.731865   \n",
       "std        ...         957.449442    421.128001    443.756247    416.989501   \n",
       "min        ...         180.000000      0.000000      0.000000      0.000000   \n",
       "1%         ...         188.000000      0.000000      0.000000      0.000000   \n",
       "10%        ...         284.000000      0.000000      0.000000      0.000000   \n",
       "25%        ...         460.000000      0.000000      0.000000      0.000000   \n",
       "50%        ...         846.000000      0.000000      0.000000      0.000000   \n",
       "75%        ...        1756.000000    129.130000    137.860000     98.750000   \n",
       "90%        ...        2793.000000    580.998000    611.800000    533.042000   \n",
       "95%        ...        3140.000000    939.224000    985.618000    885.864000   \n",
       "99%        ...        3651.000000   1966.416000   2066.670400   1946.717200   \n",
       "max        ...        4321.000000  12916.220000   9165.600000  11166.210000   \n",
       "\n",
       "         sep_vbc_3g  total_rech_amt_data_6  total_rech_amt_data_7  \\\n",
       "count  29953.000000           29953.000000           29953.000000   \n",
       "mean       8.037804             456.387566             528.958341   \n",
       "std       52.413217            1419.713940            1477.097887   \n",
       "min        0.000000               0.000000               0.000000   \n",
       "1%         0.000000               0.000000               0.000000   \n",
       "10%        0.000000               0.000000               0.000000   \n",
       "25%        0.000000               0.000000               0.000000   \n",
       "50%        0.000000              92.000000             100.000000   \n",
       "75%        0.000000             400.000000             575.000000   \n",
       "90%        0.910000            1125.000000            1374.000000   \n",
       "95%       31.342000            2065.000000            2420.000000   \n",
       "99%      202.420000            5169.800000            6205.440000   \n",
       "max     2618.570000          105644.000000           55080.000000   \n",
       "\n",
       "       total_rech_amt_data_8  total_avg_rech_amnt_6_7_GoodPhase         churn  \n",
       "count           29953.000000                       29953.000000  29953.000000  \n",
       "mean              463.640890                        1153.701715      0.081227  \n",
       "std              1623.839242                        1359.533621      0.273188  \n",
       "min                 0.000000                         478.500000      0.000000  \n",
       "1%                  0.000000                         483.000000      0.000000  \n",
       "10%                 0.000000                         521.000000      0.000000  \n",
       "25%                 0.000000                         604.000000      0.000000  \n",
       "50%                25.000000                         800.500000      0.000000  \n",
       "75%               308.000000                        1209.000000      0.000000  \n",
       "90%              1088.000000                        1992.000000      0.000000  \n",
       "95%              2257.600000                        2801.200000      1.000000  \n",
       "99%              5741.171200                        6097.940000      1.000000  \n",
       "max             89106.500000                       61236.000000      1.000000  \n",
       "\n",
       "[13 rows x 157 columns]"
      ]
     },
     "execution_count": 64,
     "metadata": {},
     "output_type": "execute_result"
    }
   ],
   "source": [
    "churn_data_high_val_cust.describe(percentiles=[0.01, 0.10,.25,.5,.75,.90,.95,.99])\n",
    "#As we can see we have outlier."
   ]
  },
  {
   "cell_type": "code",
   "execution_count": 65,
   "metadata": {},
   "outputs": [],
   "source": [
    "#there some outliers in the data , so we need to fix outliers\n",
    "cont_cols = [col for col in churn_data_high_val_cust.columns if col not in ['churn','mobile_number']]\n",
    "\n",
    "for col in cont_cols:\n",
    "    percentiles = churn_data_high_val_cust[col].quantile([0.01,0.99]).values\n",
    "    churn_data_high_val_cust[col][churn_data_high_val_cust[col] <= percentiles[0]] = percentiles[0]\n",
    "    churn_data_high_val_cust[col][churn_data_high_val_cust[col] >= percentiles[1]] = percentiles[1]"
   ]
  },
  {
   "cell_type": "code",
   "execution_count": 66,
   "metadata": {},
   "outputs": [
    {
     "data": {
      "text/html": [
       "<div>\n",
       "<style scoped>\n",
       "    .dataframe tbody tr th:only-of-type {\n",
       "        vertical-align: middle;\n",
       "    }\n",
       "\n",
       "    .dataframe tbody tr th {\n",
       "        vertical-align: top;\n",
       "    }\n",
       "\n",
       "    .dataframe thead th {\n",
       "        text-align: right;\n",
       "    }\n",
       "</style>\n",
       "<table border=\"1\" class=\"dataframe\">\n",
       "  <thead>\n",
       "    <tr style=\"text-align: right;\">\n",
       "      <th></th>\n",
       "      <th>arpu_6</th>\n",
       "      <th>arpu_7</th>\n",
       "      <th>arpu_8</th>\n",
       "      <th>onnet_mou_6</th>\n",
       "      <th>onnet_mou_7</th>\n",
       "      <th>onnet_mou_8</th>\n",
       "      <th>offnet_mou_6</th>\n",
       "      <th>offnet_mou_7</th>\n",
       "      <th>offnet_mou_8</th>\n",
       "      <th>roam_ic_mou_6</th>\n",
       "      <th>...</th>\n",
       "      <th>aon</th>\n",
       "      <th>aug_vbc_3g</th>\n",
       "      <th>jul_vbc_3g</th>\n",
       "      <th>jun_vbc_3g</th>\n",
       "      <th>sep_vbc_3g</th>\n",
       "      <th>total_rech_amt_data_6</th>\n",
       "      <th>total_rech_amt_data_7</th>\n",
       "      <th>total_rech_amt_data_8</th>\n",
       "      <th>total_avg_rech_amnt_6_7_GoodPhase</th>\n",
       "      <th>churn</th>\n",
       "    </tr>\n",
       "  </thead>\n",
       "  <tbody>\n",
       "    <tr>\n",
       "      <th>count</th>\n",
       "      <td>29953.000000</td>\n",
       "      <td>29953.000000</td>\n",
       "      <td>29953.000000</td>\n",
       "      <td>29953.000000</td>\n",
       "      <td>29953.000000</td>\n",
       "      <td>29953.000000</td>\n",
       "      <td>29953.000000</td>\n",
       "      <td>29953.000000</td>\n",
       "      <td>29953.000000</td>\n",
       "      <td>29953.000000</td>\n",
       "      <td>...</td>\n",
       "      <td>29953.000000</td>\n",
       "      <td>29953.000000</td>\n",
       "      <td>29953.000000</td>\n",
       "      <td>29953.000000</td>\n",
       "      <td>29953.000000</td>\n",
       "      <td>29953.000000</td>\n",
       "      <td>29953.000000</td>\n",
       "      <td>29953.000000</td>\n",
       "      <td>29953.000000</td>\n",
       "      <td>29953.000000</td>\n",
       "    </tr>\n",
       "    <tr>\n",
       "      <th>mean</th>\n",
       "      <td>549.128498</td>\n",
       "      <td>551.447995</td>\n",
       "      <td>498.520032</td>\n",
       "      <td>254.675578</td>\n",
       "      <td>261.242359</td>\n",
       "      <td>230.323915</td>\n",
       "      <td>369.608713</td>\n",
       "      <td>373.161736</td>\n",
       "      <td>332.787318</td>\n",
       "      <td>13.773803</td>\n",
       "      <td>...</td>\n",
       "      <td>1208.647448</td>\n",
       "      <td>160.635446</td>\n",
       "      <td>169.862622</td>\n",
       "      <td>149.661492</td>\n",
       "      <td>5.920990</td>\n",
       "      <td>411.032102</td>\n",
       "      <td>481.357116</td>\n",
       "      <td>408.026050</td>\n",
       "      <td>1107.961619</td>\n",
       "      <td>0.081227</td>\n",
       "    </tr>\n",
       "    <tr>\n",
       "      <th>std</th>\n",
       "      <td>358.251942</td>\n",
       "      <td>360.555664</td>\n",
       "      <td>383.316042</td>\n",
       "      <td>402.634589</td>\n",
       "      <td>417.356434</td>\n",
       "      <td>388.976430</td>\n",
       "      <td>432.290053</td>\n",
       "      <td>441.909425</td>\n",
       "      <td>405.368560</td>\n",
       "      <td>49.390914</td>\n",
       "      <td>...</td>\n",
       "      <td>955.538462</td>\n",
       "      <td>356.003716</td>\n",
       "      <td>376.417819</td>\n",
       "      <td>346.701288</td>\n",
       "      <td>27.056444</td>\n",
       "      <td>843.145848</td>\n",
       "      <td>983.689039</td>\n",
       "      <td>919.099617</td>\n",
       "      <td>902.289873</td>\n",
       "      <td>0.273188</td>\n",
       "    </tr>\n",
       "    <tr>\n",
       "      <th>min</th>\n",
       "      <td>1.272400</td>\n",
       "      <td>0.726000</td>\n",
       "      <td>0.000000</td>\n",
       "      <td>0.000000</td>\n",
       "      <td>0.000000</td>\n",
       "      <td>0.000000</td>\n",
       "      <td>0.000000</td>\n",
       "      <td>0.000000</td>\n",
       "      <td>0.000000</td>\n",
       "      <td>0.000000</td>\n",
       "      <td>...</td>\n",
       "      <td>188.000000</td>\n",
       "      <td>0.000000</td>\n",
       "      <td>0.000000</td>\n",
       "      <td>0.000000</td>\n",
       "      <td>0.000000</td>\n",
       "      <td>0.000000</td>\n",
       "      <td>0.000000</td>\n",
       "      <td>0.000000</td>\n",
       "      <td>483.000000</td>\n",
       "      <td>0.000000</td>\n",
       "    </tr>\n",
       "    <tr>\n",
       "      <th>1%</th>\n",
       "      <td>1.364752</td>\n",
       "      <td>0.738480</td>\n",
       "      <td>0.000000</td>\n",
       "      <td>0.000000</td>\n",
       "      <td>0.000000</td>\n",
       "      <td>0.000000</td>\n",
       "      <td>0.000000</td>\n",
       "      <td>0.000000</td>\n",
       "      <td>0.000000</td>\n",
       "      <td>0.000000</td>\n",
       "      <td>...</td>\n",
       "      <td>188.000000</td>\n",
       "      <td>0.000000</td>\n",
       "      <td>0.000000</td>\n",
       "      <td>0.000000</td>\n",
       "      <td>0.000000</td>\n",
       "      <td>0.000000</td>\n",
       "      <td>0.000000</td>\n",
       "      <td>0.000000</td>\n",
       "      <td>483.000000</td>\n",
       "      <td>0.000000</td>\n",
       "    </tr>\n",
       "    <tr>\n",
       "      <th>10%</th>\n",
       "      <td>171.795000</td>\n",
       "      <td>177.973000</td>\n",
       "      <td>84.302800</td>\n",
       "      <td>1.760000</td>\n",
       "      <td>1.530000</td>\n",
       "      <td>0.810000</td>\n",
       "      <td>17.280000</td>\n",
       "      <td>16.232000</td>\n",
       "      <td>10.098000</td>\n",
       "      <td>0.000000</td>\n",
       "      <td>...</td>\n",
       "      <td>284.000000</td>\n",
       "      <td>0.000000</td>\n",
       "      <td>0.000000</td>\n",
       "      <td>0.000000</td>\n",
       "      <td>0.000000</td>\n",
       "      <td>0.000000</td>\n",
       "      <td>0.000000</td>\n",
       "      <td>0.000000</td>\n",
       "      <td>521.000000</td>\n",
       "      <td>0.000000</td>\n",
       "    </tr>\n",
       "    <tr>\n",
       "      <th>25%</th>\n",
       "      <td>310.142000</td>\n",
       "      <td>310.071000</td>\n",
       "      <td>231.615000</td>\n",
       "      <td>20.010000</td>\n",
       "      <td>18.940000</td>\n",
       "      <td>15.660000</td>\n",
       "      <td>80.690000</td>\n",
       "      <td>78.610000</td>\n",
       "      <td>63.230000</td>\n",
       "      <td>0.000000</td>\n",
       "      <td>...</td>\n",
       "      <td>460.000000</td>\n",
       "      <td>0.000000</td>\n",
       "      <td>0.000000</td>\n",
       "      <td>0.000000</td>\n",
       "      <td>0.000000</td>\n",
       "      <td>0.000000</td>\n",
       "      <td>0.000000</td>\n",
       "      <td>0.000000</td>\n",
       "      <td>604.000000</td>\n",
       "      <td>0.000000</td>\n",
       "    </tr>\n",
       "    <tr>\n",
       "      <th>50%</th>\n",
       "      <td>482.354000</td>\n",
       "      <td>481.496000</td>\n",
       "      <td>427.604000</td>\n",
       "      <td>92.510000</td>\n",
       "      <td>90.840000</td>\n",
       "      <td>80.860000</td>\n",
       "      <td>222.560000</td>\n",
       "      <td>220.040000</td>\n",
       "      <td>196.574803</td>\n",
       "      <td>0.000000</td>\n",
       "      <td>...</td>\n",
       "      <td>846.000000</td>\n",
       "      <td>0.000000</td>\n",
       "      <td>0.000000</td>\n",
       "      <td>0.000000</td>\n",
       "      <td>0.000000</td>\n",
       "      <td>92.000000</td>\n",
       "      <td>100.000000</td>\n",
       "      <td>25.000000</td>\n",
       "      <td>800.500000</td>\n",
       "      <td>0.000000</td>\n",
       "    </tr>\n",
       "    <tr>\n",
       "      <th>75%</th>\n",
       "      <td>700.240000</td>\n",
       "      <td>698.829000</td>\n",
       "      <td>661.753000</td>\n",
       "      <td>290.490000</td>\n",
       "      <td>290.540000</td>\n",
       "      <td>240.630000</td>\n",
       "      <td>487.910000</td>\n",
       "      <td>494.030000</td>\n",
       "      <td>438.860000</td>\n",
       "      <td>0.000000</td>\n",
       "      <td>...</td>\n",
       "      <td>1756.000000</td>\n",
       "      <td>129.130000</td>\n",
       "      <td>137.860000</td>\n",
       "      <td>98.750000</td>\n",
       "      <td>0.000000</td>\n",
       "      <td>400.000000</td>\n",
       "      <td>575.000000</td>\n",
       "      <td>308.000000</td>\n",
       "      <td>1209.000000</td>\n",
       "      <td>0.000000</td>\n",
       "    </tr>\n",
       "    <tr>\n",
       "      <th>90%</th>\n",
       "      <td>994.408600</td>\n",
       "      <td>996.170600</td>\n",
       "      <td>977.546400</td>\n",
       "      <td>754.560000</td>\n",
       "      <td>784.828000</td>\n",
       "      <td>666.266000</td>\n",
       "      <td>896.416000</td>\n",
       "      <td>916.360000</td>\n",
       "      <td>823.880000</td>\n",
       "      <td>27.422000</td>\n",
       "      <td>...</td>\n",
       "      <td>2793.000000</td>\n",
       "      <td>580.998000</td>\n",
       "      <td>611.800000</td>\n",
       "      <td>533.042000</td>\n",
       "      <td>0.910000</td>\n",
       "      <td>1125.000000</td>\n",
       "      <td>1374.000000</td>\n",
       "      <td>1088.000000</td>\n",
       "      <td>1992.000000</td>\n",
       "      <td>0.000000</td>\n",
       "    </tr>\n",
       "    <tr>\n",
       "      <th>95%</th>\n",
       "      <td>1241.649400</td>\n",
       "      <td>1261.885600</td>\n",
       "      <td>1255.086400</td>\n",
       "      <td>1135.808000</td>\n",
       "      <td>1187.712000</td>\n",
       "      <td>1075.384000</td>\n",
       "      <td>1256.662000</td>\n",
       "      <td>1272.430000</td>\n",
       "      <td>1167.620000</td>\n",
       "      <td>84.628000</td>\n",
       "      <td>...</td>\n",
       "      <td>3140.000000</td>\n",
       "      <td>939.224000</td>\n",
       "      <td>985.618000</td>\n",
       "      <td>885.864000</td>\n",
       "      <td>31.342000</td>\n",
       "      <td>2065.000000</td>\n",
       "      <td>2420.000000</td>\n",
       "      <td>2257.600000</td>\n",
       "      <td>2801.200000</td>\n",
       "      <td>1.000000</td>\n",
       "    </tr>\n",
       "    <tr>\n",
       "      <th>99%</th>\n",
       "      <td>1985.249093</td>\n",
       "      <td>1999.510138</td>\n",
       "      <td>1986.678448</td>\n",
       "      <td>2152.689248</td>\n",
       "      <td>2202.390848</td>\n",
       "      <td>2159.381872</td>\n",
       "      <td>2328.279232</td>\n",
       "      <td>2411.009808</td>\n",
       "      <td>2191.059776</td>\n",
       "      <td>342.979136</td>\n",
       "      <td>...</td>\n",
       "      <td>3651.000000</td>\n",
       "      <td>1965.679680</td>\n",
       "      <td>2066.550592</td>\n",
       "      <td>1946.495056</td>\n",
       "      <td>202.295200</td>\n",
       "      <td>5167.304000</td>\n",
       "      <td>6198.451200</td>\n",
       "      <td>5739.813376</td>\n",
       "      <td>6094.071200</td>\n",
       "      <td>1.000000</td>\n",
       "    </tr>\n",
       "    <tr>\n",
       "      <th>max</th>\n",
       "      <td>1985.394360</td>\n",
       "      <td>1999.521120</td>\n",
       "      <td>1986.739600</td>\n",
       "      <td>2153.717600</td>\n",
       "      <td>2202.857600</td>\n",
       "      <td>2159.676400</td>\n",
       "      <td>2330.358400</td>\n",
       "      <td>2411.139600</td>\n",
       "      <td>2191.731200</td>\n",
       "      <td>343.563200</td>\n",
       "      <td>...</td>\n",
       "      <td>3651.000000</td>\n",
       "      <td>1966.416000</td>\n",
       "      <td>2066.670400</td>\n",
       "      <td>1946.717200</td>\n",
       "      <td>202.420000</td>\n",
       "      <td>5169.800000</td>\n",
       "      <td>6205.440000</td>\n",
       "      <td>5741.171200</td>\n",
       "      <td>6097.940000</td>\n",
       "      <td>1.000000</td>\n",
       "    </tr>\n",
       "  </tbody>\n",
       "</table>\n",
       "<p>13 rows × 157 columns</p>\n",
       "</div>"
      ],
      "text/plain": [
       "             arpu_6        arpu_7        arpu_8   onnet_mou_6   onnet_mou_7  \\\n",
       "count  29953.000000  29953.000000  29953.000000  29953.000000  29953.000000   \n",
       "mean     549.128498    551.447995    498.520032    254.675578    261.242359   \n",
       "std      358.251942    360.555664    383.316042    402.634589    417.356434   \n",
       "min        1.272400      0.726000      0.000000      0.000000      0.000000   \n",
       "1%         1.364752      0.738480      0.000000      0.000000      0.000000   \n",
       "10%      171.795000    177.973000     84.302800      1.760000      1.530000   \n",
       "25%      310.142000    310.071000    231.615000     20.010000     18.940000   \n",
       "50%      482.354000    481.496000    427.604000     92.510000     90.840000   \n",
       "75%      700.240000    698.829000    661.753000    290.490000    290.540000   \n",
       "90%      994.408600    996.170600    977.546400    754.560000    784.828000   \n",
       "95%     1241.649400   1261.885600   1255.086400   1135.808000   1187.712000   \n",
       "99%     1985.249093   1999.510138   1986.678448   2152.689248   2202.390848   \n",
       "max     1985.394360   1999.521120   1986.739600   2153.717600   2202.857600   \n",
       "\n",
       "        onnet_mou_8  offnet_mou_6  offnet_mou_7  offnet_mou_8  roam_ic_mou_6  \\\n",
       "count  29953.000000  29953.000000  29953.000000  29953.000000   29953.000000   \n",
       "mean     230.323915    369.608713    373.161736    332.787318      13.773803   \n",
       "std      388.976430    432.290053    441.909425    405.368560      49.390914   \n",
       "min        0.000000      0.000000      0.000000      0.000000       0.000000   \n",
       "1%         0.000000      0.000000      0.000000      0.000000       0.000000   \n",
       "10%        0.810000     17.280000     16.232000     10.098000       0.000000   \n",
       "25%       15.660000     80.690000     78.610000     63.230000       0.000000   \n",
       "50%       80.860000    222.560000    220.040000    196.574803       0.000000   \n",
       "75%      240.630000    487.910000    494.030000    438.860000       0.000000   \n",
       "90%      666.266000    896.416000    916.360000    823.880000      27.422000   \n",
       "95%     1075.384000   1256.662000   1272.430000   1167.620000      84.628000   \n",
       "99%     2159.381872   2328.279232   2411.009808   2191.059776     342.979136   \n",
       "max     2159.676400   2330.358400   2411.139600   2191.731200     343.563200   \n",
       "\n",
       "           ...                aon    aug_vbc_3g    jul_vbc_3g    jun_vbc_3g  \\\n",
       "count      ...       29953.000000  29953.000000  29953.000000  29953.000000   \n",
       "mean       ...        1208.647448    160.635446    169.862622    149.661492   \n",
       "std        ...         955.538462    356.003716    376.417819    346.701288   \n",
       "min        ...         188.000000      0.000000      0.000000      0.000000   \n",
       "1%         ...         188.000000      0.000000      0.000000      0.000000   \n",
       "10%        ...         284.000000      0.000000      0.000000      0.000000   \n",
       "25%        ...         460.000000      0.000000      0.000000      0.000000   \n",
       "50%        ...         846.000000      0.000000      0.000000      0.000000   \n",
       "75%        ...        1756.000000    129.130000    137.860000     98.750000   \n",
       "90%        ...        2793.000000    580.998000    611.800000    533.042000   \n",
       "95%        ...        3140.000000    939.224000    985.618000    885.864000   \n",
       "99%        ...        3651.000000   1965.679680   2066.550592   1946.495056   \n",
       "max        ...        3651.000000   1966.416000   2066.670400   1946.717200   \n",
       "\n",
       "         sep_vbc_3g  total_rech_amt_data_6  total_rech_amt_data_7  \\\n",
       "count  29953.000000           29953.000000           29953.000000   \n",
       "mean       5.920990             411.032102             481.357116   \n",
       "std       27.056444             843.145848             983.689039   \n",
       "min        0.000000               0.000000               0.000000   \n",
       "1%         0.000000               0.000000               0.000000   \n",
       "10%        0.000000               0.000000               0.000000   \n",
       "25%        0.000000               0.000000               0.000000   \n",
       "50%        0.000000              92.000000             100.000000   \n",
       "75%        0.000000             400.000000             575.000000   \n",
       "90%        0.910000            1125.000000            1374.000000   \n",
       "95%       31.342000            2065.000000            2420.000000   \n",
       "99%      202.295200            5167.304000            6198.451200   \n",
       "max      202.420000            5169.800000            6205.440000   \n",
       "\n",
       "       total_rech_amt_data_8  total_avg_rech_amnt_6_7_GoodPhase         churn  \n",
       "count           29953.000000                       29953.000000  29953.000000  \n",
       "mean              408.026050                        1107.961619      0.081227  \n",
       "std               919.099617                         902.289873      0.273188  \n",
       "min                 0.000000                         483.000000      0.000000  \n",
       "1%                  0.000000                         483.000000      0.000000  \n",
       "10%                 0.000000                         521.000000      0.000000  \n",
       "25%                 0.000000                         604.000000      0.000000  \n",
       "50%                25.000000                         800.500000      0.000000  \n",
       "75%               308.000000                        1209.000000      0.000000  \n",
       "90%              1088.000000                        1992.000000      0.000000  \n",
       "95%              2257.600000                        2801.200000      1.000000  \n",
       "99%              5739.813376                        6094.071200      1.000000  \n",
       "max              5741.171200                        6097.940000      1.000000  \n",
       "\n",
       "[13 rows x 157 columns]"
      ]
     },
     "execution_count": 66,
     "metadata": {},
     "output_type": "execute_result"
    }
   ],
   "source": [
    "#check if there is any outliers in the data\n",
    "churn_data_high_val_cust.describe(percentiles=[0.01, 0.10,.25,.5,.75,.90,.95,.99])"
   ]
  },
  {
   "cell_type": "markdown",
   "metadata": {},
   "source": [
    "### Exploratory data analysis"
   ]
  },
  {
   "cell_type": "markdown",
   "metadata": {},
   "source": [
    "#### feature: churn"
   ]
  },
  {
   "cell_type": "code",
   "execution_count": 67,
   "metadata": {},
   "outputs": [
    {
     "data": {
      "text/plain": [
       "count    29953.000000\n",
       "mean         0.081227\n",
       "std          0.273188\n",
       "min          0.000000\n",
       "25%          0.000000\n",
       "50%          0.000000\n",
       "75%          0.000000\n",
       "max          1.000000\n",
       "Name: churn, dtype: float64"
      ]
     },
     "execution_count": 67,
     "metadata": {},
     "output_type": "execute_result"
    }
   ],
   "source": [
    "churn_data_high_val_cust.churn.describe()"
   ]
  },
  {
   "cell_type": "code",
   "execution_count": 68,
   "metadata": {},
   "outputs": [
    {
     "data": {
      "image/png": "[encoded data removed]",
      "text/plain": [
       "<Figure size 1080x360 with 2 Axes>"
      ]
     },
     "metadata": {
      "needs_background": "light"
     },
     "output_type": "display_data"
    }
   ],
   "source": [
    "fig, axs = plt.subplots(1,2, figsize = (15,5))\n",
    "plt1 = sns.countplot(churn_data_high_val_cust['churn'], ax = axs[0])\n",
    "\n",
    "pie_churn = pd.DataFrame(churn_data_high_val_cust['churn'].value_counts())\n",
    "pie_churn.plot.pie( subplots=True,labels = pie_churn.index.values, autopct='%1.1f%%', figsize = (15,5), startangle= 50, ax = axs[1])\n",
    "# Unsquish the pie.\n",
    "plt.gca().set_aspect('equal')\n",
    "\n",
    "plt.show()"
   ]
  },
  {
   "cell_type": "markdown",
   "metadata": {},
   "source": [
    " We have a data with 8.1% churn rate."
   ]
  },
  {
   "cell_type": "code",
   "execution_count": 69,
   "metadata": {},
   "outputs": [],
   "source": [
    "# create box plot for  6th, 7th and 8th month\n",
    "def plot_box_chart(attribute):\n",
    "    plt.figure(figsize=(20,15))\n",
    "    df = churn_data_high_val_cust\n",
    "    plt.subplot(2,3,1)\n",
    "    sns.boxplot(data=df, y=attribute+\"_6\",x=\"churn\",hue=\"churn\",\n",
    "                showfliers=False)\n",
    "    plt.subplot(2,3,2)\n",
    "    sns.boxplot(data=df, y=attribute+\"_7\",x=\"churn\",hue=\"churn\",\n",
    "                showfliers=False)\n",
    "    plt.subplot(2,3,3)\n",
    "    sns.boxplot(data=df, y=attribute+\"_8\",x=\"churn\",hue=\"churn\",\n",
    "                showfliers=False)\n",
    "    plt.show()"
   ]
  },
  {
   "cell_type": "markdown",
   "metadata": {},
   "source": [
    "#### a. Recharge amount related variables"
   ]
  },
  {
   "cell_type": "code",
   "execution_count": 70,
   "metadata": {},
   "outputs": [
    {
     "data": {
      "text/plain": [
       "['total_rech_amt_6',\n",
       " 'total_rech_amt_7',\n",
       " 'total_rech_amt_8',\n",
       " 'max_rech_amt_6',\n",
       " 'max_rech_amt_7',\n",
       " 'max_rech_amt_8',\n",
       " 'av_rech_amt_data_6',\n",
       " 'av_rech_amt_data_7',\n",
       " 'av_rech_amt_data_8',\n",
       " 'total_rech_amt_data_6',\n",
       " 'total_rech_amt_data_7',\n",
       " 'total_rech_amt_data_8']"
      ]
     },
     "execution_count": 70,
     "metadata": {},
     "output_type": "execute_result"
    }
   ],
   "source": [
    "recharge_amnt_columns =  churn_data_high_val_cust.columns[churn_data_high_val_cust.columns.str.contains('rech_amt')]\n",
    "recharge_amnt_columns.tolist()"
   ]
  },
  {
   "cell_type": "code",
   "execution_count": 71,
   "metadata": {},
   "outputs": [
    {
     "data": {
      "image/png": "[encoded data removed]",
      "text/plain": [
       "<Figure size 1440x1080 with 3 Axes>"
      ]
     },
     "metadata": {
      "needs_background": "light"
     },
     "output_type": "display_data"
    }
   ],
   "source": [
    "# Ploting for total recharge amount:\n",
    "plot_box_chart('total_rech_amt')"
   ]
  },
  {
   "cell_type": "markdown",
   "metadata": {},
   "source": [
    "We can see a drop in the total recharge amount for churned customers in the 8th Month (Action Phase).increase in Total recharge amount then churned rate is low.\n",
    "\n",
    "Total recharge amounts are low for customers who have churned."
   ]
  },
  {
   "cell_type": "code",
   "execution_count": 72,
   "metadata": {},
   "outputs": [
    {
     "data": {
      "image/png": "[encoded data removed]",
      "text/plain": [
       "<Figure size 1440x1080 with 3 Axes>"
      ]
     },
     "metadata": {
      "needs_background": "light"
     },
     "output_type": "display_data"
    }
   ],
   "source": [
    "# Ploting for maximum recharge amount for data:\n",
    "plot_box_chart('max_rech_amt')"
   ]
  },
  {
   "cell_type": "markdown",
   "metadata": {},
   "source": [
    "We can see that there is a huge drop in maximum recharge amount for data in the 8th month (action phase) for churned customers.\n",
    "\n",
    "maximum recharge amounts are low for customers who have churned."
   ]
  },
  {
   "cell_type": "markdown",
   "metadata": {},
   "source": [
    "#### b. 2G and 3G usage related attributes"
   ]
  },
  {
   "cell_type": "code",
   "execution_count": 73,
   "metadata": {},
   "outputs": [],
   "source": [
    "usage_2g_and_3g = churn_data_high_val_cust.columns[churn_data_high_val_cust.columns.str.contains('2g|3g')]"
   ]
  },
  {
   "cell_type": "code",
   "execution_count": 74,
   "metadata": {},
   "outputs": [
    {
     "data": {
      "image/png": "[encoded data removed]",
      "text/plain": [
       "<Figure size 1440x1080 with 3 Axes>"
      ]
     },
     "metadata": {
      "needs_background": "light"
     },
     "output_type": "display_data"
    }
   ],
   "source": [
    "# Ploting for volume of 2G and 3G usage columns:\n",
    "plot_box_chart('vol_2g_mb')"
   ]
  },
  {
   "cell_type": "code",
   "execution_count": 75,
   "metadata": {},
   "outputs": [
    {
     "data": {
      "image/png": "[encoded data removed]",
      "text/plain": [
       "<Figure size 1440x1080 with 3 Axes>"
      ]
     },
     "metadata": {
      "needs_background": "light"
     },
     "output_type": "display_data"
    }
   ],
   "source": [
    "plot_box_chart('vol_3g_mb')"
   ]
  },
  {
   "cell_type": "markdown",
   "metadata": {},
   "source": [
    "We have two observations from above:\n",
    "\n",
    "1) 2G and 3G usage for churned customers drops in 8th month\n",
    "\n",
    "2) We also see that 2G/3G usage is higher for non-churned customers indicating that churn rate is low."
   ]
  },
  {
   "cell_type": "markdown",
   "metadata": {},
   "source": [
    "#### c. Average Revenue Per User"
   ]
  },
  {
   "cell_type": "code",
   "execution_count": 76,
   "metadata": {},
   "outputs": [
    {
     "data": {
      "image/png": "[encoded data removed]",
      "text/plain": [
       "<Figure size 1440x1080 with 3 Axes>"
      ]
     },
     "metadata": {
      "needs_background": "light"
     },
     "output_type": "display_data"
    }
   ],
   "source": [
    "# Plotting arpu\n",
    "plot_box_chart('arpu')"
   ]
  },
  {
   "cell_type": "markdown",
   "metadata": {},
   "source": [
    "We can see that huge drops for Arpu in 8th month for churned customers.\n",
    "\n",
    "If the revenue generated by the user decreases, they are more likely to churn"
   ]
  },
  {
   "cell_type": "markdown",
   "metadata": {},
   "source": [
    "#### Feature: aon(age on network)"
   ]
  },
  {
   "cell_type": "code",
   "execution_count": 77,
   "metadata": {},
   "outputs": [],
   "source": [
    "####Average roaming minutes of usage across 3 months\n",
    "churn_data_high_val_cust['avg_roam_mou']= (churn_data_high_val_cust.roam_ic_mou_6 + churn_data_high_val_cust.roam_ic_mou_7 + \n",
    "                               churn_data_high_val_cust.roam_ic_mou_8 + churn_data_high_val_cust.roam_og_mou_6 + \n",
    "                               churn_data_high_val_cust.roam_og_mou_7 + churn_data_high_val_cust.roam_og_mou_8)/3"
   ]
  },
  {
   "cell_type": "code",
   "execution_count": 78,
   "metadata": {},
   "outputs": [
    {
     "data": {
      "image/png": "[encoded data removed]",
      "text/plain": [
       "<Figure size 864x432 with 2 Axes>"
      ]
     },
     "metadata": {
      "needs_background": "light"
     },
     "output_type": "display_data"
    }
   ],
   "source": [
    "plt.figure(figsize=(12,6))\n",
    "\n",
    "# subplot 1\n",
    "plt.subplot(1, 2, 1)\n",
    "plt.title('Age on network')\n",
    "ax=sns.barplot(y=churn_data_high_val_cust.aon,x='churn',data=churn_data_high_val_cust)\n",
    "\n",
    "# subplot 2\n",
    "plt.subplot(1, 2, 2)\n",
    "plt.title('Average Roaming')\n",
    "ax1=sns.barplot(y=churn_data_high_val_cust.avg_roam_mou,x='churn',data=churn_data_high_val_cust)"
   ]
  },
  {
   "cell_type": "markdown",
   "metadata": {},
   "source": [
    "Longer the user use the network the lesser the tendency to churn \n",
    "\n",
    "More the Roaming service used, higher the tendency to churn "
   ]
  },
  {
   "cell_type": "code",
   "execution_count": 79,
   "metadata": {},
   "outputs": [],
   "source": [
    "####Check if the user uses incoming calls or outgoing calls more\n",
    "churn_data_high_val_cust['total_ic_og_diff']= (churn_data_high_val_cust['total_ic_mou_6']-churn_data_high_val_cust['total_og_mou_6']) + (churn_data_high_val_cust['total_ic_mou_7']-churn_data_high_val_cust['total_og_mou_7']) + (churn_data_high_val_cust['total_ic_mou_8']-churn_data_high_val_cust['total_og_mou_8'])\n",
    "churn_data_high_val_cust['customer_ic_og']=0\n",
    "churn_data_high_val_cust.loc[churn_data_high_val_cust['total_ic_og_diff'] < 0.0,'customer_ic_og'] = 1"
   ]
  },
  {
   "cell_type": "code",
   "execution_count": 80,
   "metadata": {},
   "outputs": [],
   "source": [
    "####Check if the user uses STD calls or ISD calls more\n",
    "churn_data_high_val_cust['total_og_std_isd_diff']= (churn_data_high_val_cust['std_og_mou_6']-churn_data_high_val_cust['isd_og_mou_6']) + (churn_data_high_val_cust['std_og_mou_7']-churn_data_high_val_cust['isd_og_mou_7']) + (churn_data_high_val_cust['std_og_mou_8']-churn_data_high_val_cust['isd_og_mou_8'])\n",
    "churn_data_high_val_cust['customer_og_std_isd']=0\n",
    "churn_data_high_val_cust.loc[churn_data_high_val_cust['total_og_std_isd_diff'] < 0.0,'customer_og_std_isd'] = 1"
   ]
  },
  {
   "cell_type": "code",
   "execution_count": 81,
   "metadata": {},
   "outputs": [],
   "source": [
    "####Check if the user uses 3G or 2G services more\n",
    "churn_data_high_val_cust['total_2g_3g_mb_diff']= (churn_data_high_val_cust['vol_2g_mb_6']-churn_data_high_val_cust['vol_3g_mb_6']) + (churn_data_high_val_cust['vol_2g_mb_7']-churn_data_high_val_cust['vol_3g_mb_7']) + (churn_data_high_val_cust['vol_2g_mb_8']-churn_data_high_val_cust['vol_3g_mb_8'])\n",
    "churn_data_high_val_cust['customer_2g_3g']=0\n",
    "churn_data_high_val_cust.loc[churn_data_high_val_cust['total_2g_3g_mb_diff'] < 0.0,'customer_2g_3g'] = 1"
   ]
  },
  {
   "cell_type": "code",
   "execution_count": 82,
   "metadata": {},
   "outputs": [],
   "source": [
    "####Tagging corrsponding categorical values\n",
    "churn_data_high_val_cust['customer_2g_3g_data']='2G'\n",
    "churn_data_high_val_cust['customer_og_std_isd_data']='STD'\n",
    "churn_data_high_val_cust['churned_data'] = 'Not Churned'\n",
    "churn_data_high_val_cust['customer_ic_og_data'] = 'Incoming'\n",
    "\n",
    "churn_data_high_val_cust.loc[churn_data_high_val_cust['churn'] == 1,'churned_data'] = 'Churned'\n",
    "churn_data_high_val_cust.loc[churn_data_high_val_cust['customer_ic_og'] == 1,'customer_ic_og_data'] = 'Outgoing'\n",
    "churn_data_high_val_cust.loc[churn_data_high_val_cust['customer_2g_3g'] == 1,'customer_2g_3g_data'] = '3G'\n",
    "churn_data_high_val_cust.loc[churn_data_high_val_cust['customer_og_std_isd'] == 1,'customer_og_std_isd_data'] = 'ISD'"
   ]
  },
  {
   "cell_type": "code",
   "execution_count": 83,
   "metadata": {},
   "outputs": [
    {
     "data": {
      "text/plain": [
       "<function matplotlib.pyplot.show(*args, **kw)>"
      ]
     },
     "execution_count": 83,
     "metadata": {},
     "output_type": "execute_result"
    },
    {
     "data": {
      "image/png": "[encoded data removed]",
      "text/plain": [
       "<Figure size 432x288 with 1 Axes>"
      ]
     },
     "metadata": {
      "needs_background": "light"
     },
     "output_type": "display_data"
    }
   ],
   "source": [
    "#Segmented plot by Incoming/Outgoing by Churn\n",
    "incoming_outgoing_services = churn_data_high_val_cust[['customer_ic_og_data','churned_data']].groupby(['customer_ic_og_data','churned_data'])['churned_data'].count()\n",
    "plt1 = incoming_outgoing_services.plot(x = 'Churned', kind='bar')\n",
    "plt.show"
   ]
  },
  {
   "cell_type": "markdown",
   "metadata": {},
   "source": [
    "Customers who use outgoing services more tend to churn more"
   ]
  },
  {
   "cell_type": "code",
   "execution_count": 84,
   "metadata": {},
   "outputs": [
    {
     "data": {
      "text/plain": [
       "<function matplotlib.pyplot.show(*args, **kw)>"
      ]
     },
     "execution_count": 84,
     "metadata": {},
     "output_type": "execute_result"
    },
    {
     "data": {
      "image/png": "[encoded data removed]",
      "text/plain": [
       "<Figure size 432x288 with 1 Axes>"
      ]
     },
     "metadata": {
      "needs_background": "light"
     },
     "output_type": "display_data"
    }
   ],
   "source": [
    "#Segmented plot by 2g/3g by Churn\n",
    "#Segmented plot by Incoming/Outgoing by Churn\n",
    "incoming_outgoing_services = churn_data_high_val_cust[['customer_2g_3g_data','churned_data']].groupby(['customer_2g_3g_data','churned_data'])['churned_data'].count()\n",
    "plt1 = incoming_outgoing_services.plot(x = 'Churned', kind='bar')\n",
    "plt.show"
   ]
  },
  {
   "cell_type": "markdown",
   "metadata": {},
   "source": [
    "Customers who use 2G services more tend to churn more than users who use 3G services"
   ]
  },
  {
   "cell_type": "markdown",
   "metadata": {},
   "source": [
    "#### Correlation Analysis"
   ]
  },
  {
   "cell_type": "code",
   "execution_count": 85,
   "metadata": {},
   "outputs": [],
   "source": [
    "# Create correlation matrix\n",
    "corr_matrix = churn_data_high_val_cust.corr().abs()\n",
    "\n",
    "# Select upper triangle of correlation matrix\n",
    "upper = corr_matrix.where(np.triu(np.ones(corr_matrix.shape), k=1).astype(np.bool))\n",
    "\n",
    "# Find index of feature columns with correlation greater than 0.85\n",
    "to_drop = [column for column in upper.columns if any(upper[column] > 0.85)]\n",
    "to_drop\n",
    "\n",
    "churn_data_high_val_cust = churn_data_high_val_cust.drop(to_drop, 1)"
   ]
  },
  {
   "cell_type": "code",
   "execution_count": 86,
   "metadata": {},
   "outputs": [
    {
     "data": {
      "text/plain": [
       "(29953, 137)"
      ]
     },
     "execution_count": 86,
     "metadata": {},
     "output_type": "execute_result"
    }
   ],
   "source": [
    "churn_data_high_val_cust.shape"
   ]
  },
  {
   "cell_type": "markdown",
   "metadata": {},
   "source": [
    "## Modeling"
   ]
  },
  {
   "cell_type": "markdown",
   "metadata": {},
   "source": [
    "### Data preparation"
   ]
  },
  {
   "cell_type": "code",
   "execution_count": 87,
   "metadata": {},
   "outputs": [],
   "source": [
    "from sklearn import metrics\n",
    "from sklearn.metrics import classification_report,confusion_matrix, accuracy_score\n",
    "from sklearn.model_selection import StratifiedKFold\n",
    "from sklearn.model_selection import GridSearchCV"
   ]
  },
  {
   "cell_type": "code",
   "execution_count": 88,
   "metadata": {},
   "outputs": [],
   "source": [
    "# change churn to numeric\n",
    "churn_data_high_val_cust['churn'] = pd.to_numeric(churn_data_high_val_cust['churn'])"
   ]
  },
  {
   "cell_type": "code",
   "execution_count": 89,
   "metadata": {},
   "outputs": [],
   "source": [
    "# Drop the features that are created for EDA.\n",
    "churn_data_high_val_cust = churn_data_high_val_cust.drop(['customer_2g_3g_data','customer_og_std_isd_data','churned_data',\n",
    "                      'customer_ic_og_data','customer_ic_og','customer_og_std_isd',\n",
    "                      'customer_2g_3g'], axis =1)"
   ]
  },
  {
   "cell_type": "code",
   "execution_count": 90,
   "metadata": {},
   "outputs": [
    {
     "data": {
      "text/plain": [
       "Index([], dtype='object')"
      ]
     },
     "execution_count": 90,
     "metadata": {},
     "output_type": "execute_result"
    }
   ],
   "source": [
    "# check for null values in all categorical columns\n",
    "churn_data_high_val_cust.select_dtypes(include='object').columns"
   ]
  },
  {
   "cell_type": "markdown",
   "metadata": {},
   "source": [
    "### Train Test split"
   ]
  },
  {
   "cell_type": "code",
   "execution_count": 91,
   "metadata": {},
   "outputs": [],
   "source": [
    "from sklearn.model_selection import train_test_split"
   ]
  },
  {
   "cell_type": "code",
   "execution_count": 92,
   "metadata": {},
   "outputs": [
    {
     "data": {
      "text/html": [
       "<div>\n",
       "<style scoped>\n",
       "    .dataframe tbody tr th:only-of-type {\n",
       "        vertical-align: middle;\n",
       "    }\n",
       "\n",
       "    .dataframe tbody tr th {\n",
       "        vertical-align: top;\n",
       "    }\n",
       "\n",
       "    .dataframe thead th {\n",
       "        text-align: right;\n",
       "    }\n",
       "</style>\n",
       "<table border=\"1\" class=\"dataframe\">\n",
       "  <thead>\n",
       "    <tr style=\"text-align: right;\">\n",
       "      <th></th>\n",
       "      <th>arpu_6</th>\n",
       "      <th>arpu_7</th>\n",
       "      <th>arpu_8</th>\n",
       "      <th>onnet_mou_6</th>\n",
       "      <th>onnet_mou_7</th>\n",
       "      <th>onnet_mou_8</th>\n",
       "      <th>offnet_mou_6</th>\n",
       "      <th>offnet_mou_7</th>\n",
       "      <th>offnet_mou_8</th>\n",
       "      <th>roam_ic_mou_6</th>\n",
       "      <th>...</th>\n",
       "      <th>aug_vbc_3g</th>\n",
       "      <th>jul_vbc_3g</th>\n",
       "      <th>jun_vbc_3g</th>\n",
       "      <th>sep_vbc_3g</th>\n",
       "      <th>total_rech_amt_data_6</th>\n",
       "      <th>total_rech_amt_data_7</th>\n",
       "      <th>total_rech_amt_data_8</th>\n",
       "      <th>total_avg_rech_amnt_6_7_GoodPhase</th>\n",
       "      <th>avg_roam_mou</th>\n",
       "      <th>total_ic_og_diff</th>\n",
       "    </tr>\n",
       "  </thead>\n",
       "  <tbody>\n",
       "    <tr>\n",
       "      <th>0</th>\n",
       "      <td>197.385</td>\n",
       "      <td>214.816</td>\n",
       "      <td>213.8030</td>\n",
       "      <td>132.395875</td>\n",
       "      <td>133.670805</td>\n",
       "      <td>0.00</td>\n",
       "      <td>197.935577</td>\n",
       "      <td>197.045133</td>\n",
       "      <td>0.00</td>\n",
       "      <td>9.950013</td>\n",
       "      <td>...</td>\n",
       "      <td>30.40</td>\n",
       "      <td>0.00</td>\n",
       "      <td>101.20</td>\n",
       "      <td>3.58</td>\n",
       "      <td>252.0</td>\n",
       "      <td>252.0</td>\n",
       "      <td>252.0</td>\n",
       "      <td>559.0</td>\n",
       "      <td>13.609994</td>\n",
       "      <td>5.44</td>\n",
       "    </tr>\n",
       "    <tr>\n",
       "      <th>7</th>\n",
       "      <td>1069.180</td>\n",
       "      <td>1349.850</td>\n",
       "      <td>1986.7396</td>\n",
       "      <td>57.840000</td>\n",
       "      <td>54.680000</td>\n",
       "      <td>52.29</td>\n",
       "      <td>453.430000</td>\n",
       "      <td>567.160000</td>\n",
       "      <td>325.91</td>\n",
       "      <td>16.230000</td>\n",
       "      <td>...</td>\n",
       "      <td>57.74</td>\n",
       "      <td>19.38</td>\n",
       "      <td>18.74</td>\n",
       "      <td>0.00</td>\n",
       "      <td>0.0</td>\n",
       "      <td>0.0</td>\n",
       "      <td>0.0</td>\n",
       "      <td>1185.0</td>\n",
       "      <td>51.916667</td>\n",
       "      <td>166.31</td>\n",
       "    </tr>\n",
       "    <tr>\n",
       "      <th>8</th>\n",
       "      <td>378.721</td>\n",
       "      <td>492.223</td>\n",
       "      <td>137.3620</td>\n",
       "      <td>413.690000</td>\n",
       "      <td>351.030000</td>\n",
       "      <td>35.08</td>\n",
       "      <td>94.660000</td>\n",
       "      <td>80.630000</td>\n",
       "      <td>136.48</td>\n",
       "      <td>0.000000</td>\n",
       "      <td>...</td>\n",
       "      <td>21.03</td>\n",
       "      <td>910.65</td>\n",
       "      <td>122.16</td>\n",
       "      <td>0.00</td>\n",
       "      <td>0.0</td>\n",
       "      <td>354.0</td>\n",
       "      <td>207.0</td>\n",
       "      <td>696.0</td>\n",
       "      <td>0.000000</td>\n",
       "      <td>-962.69</td>\n",
       "    </tr>\n",
       "    <tr>\n",
       "      <th>21</th>\n",
       "      <td>514.453</td>\n",
       "      <td>597.753</td>\n",
       "      <td>637.7600</td>\n",
       "      <td>102.410000</td>\n",
       "      <td>132.110000</td>\n",
       "      <td>85.14</td>\n",
       "      <td>757.930000</td>\n",
       "      <td>896.680000</td>\n",
       "      <td>983.39</td>\n",
       "      <td>0.000000</td>\n",
       "      <td>...</td>\n",
       "      <td>0.00</td>\n",
       "      <td>0.00</td>\n",
       "      <td>0.00</td>\n",
       "      <td>0.00</td>\n",
       "      <td>0.0</td>\n",
       "      <td>0.0</td>\n",
       "      <td>0.0</td>\n",
       "      <td>640.0</td>\n",
       "      <td>0.000000</td>\n",
       "      <td>-2357.65</td>\n",
       "    </tr>\n",
       "    <tr>\n",
       "      <th>23</th>\n",
       "      <td>74.350</td>\n",
       "      <td>193.897</td>\n",
       "      <td>366.9660</td>\n",
       "      <td>48.960000</td>\n",
       "      <td>50.660000</td>\n",
       "      <td>33.58</td>\n",
       "      <td>85.410000</td>\n",
       "      <td>89.360000</td>\n",
       "      <td>205.89</td>\n",
       "      <td>0.000000</td>\n",
       "      <td>...</td>\n",
       "      <td>40.45</td>\n",
       "      <td>51.86</td>\n",
       "      <td>0.00</td>\n",
       "      <td>0.00</td>\n",
       "      <td>0.0</td>\n",
       "      <td>712.0</td>\n",
       "      <td>540.0</td>\n",
       "      <td>583.0</td>\n",
       "      <td>0.000000</td>\n",
       "      <td>126.90</td>\n",
       "    </tr>\n",
       "  </tbody>\n",
       "</table>\n",
       "<p>5 rows × 129 columns</p>\n",
       "</div>"
      ],
      "text/plain": [
       "      arpu_6    arpu_7     arpu_8  onnet_mou_6  onnet_mou_7  onnet_mou_8  \\\n",
       "0    197.385   214.816   213.8030   132.395875   133.670805         0.00   \n",
       "7   1069.180  1349.850  1986.7396    57.840000    54.680000        52.29   \n",
       "8    378.721   492.223   137.3620   413.690000   351.030000        35.08   \n",
       "21   514.453   597.753   637.7600   102.410000   132.110000        85.14   \n",
       "23    74.350   193.897   366.9660    48.960000    50.660000        33.58   \n",
       "\n",
       "    offnet_mou_6  offnet_mou_7  offnet_mou_8  roam_ic_mou_6        ...         \\\n",
       "0     197.935577    197.045133          0.00       9.950013        ...          \n",
       "7     453.430000    567.160000        325.91      16.230000        ...          \n",
       "8      94.660000     80.630000        136.48       0.000000        ...          \n",
       "21    757.930000    896.680000        983.39       0.000000        ...          \n",
       "23     85.410000     89.360000        205.89       0.000000        ...          \n",
       "\n",
       "    aug_vbc_3g  jul_vbc_3g  jun_vbc_3g  sep_vbc_3g  total_rech_amt_data_6  \\\n",
       "0        30.40        0.00      101.20        3.58                  252.0   \n",
       "7        57.74       19.38       18.74        0.00                    0.0   \n",
       "8        21.03      910.65      122.16        0.00                    0.0   \n",
       "21        0.00        0.00        0.00        0.00                    0.0   \n",
       "23       40.45       51.86        0.00        0.00                    0.0   \n",
       "\n",
       "    total_rech_amt_data_7  total_rech_amt_data_8  \\\n",
       "0                   252.0                  252.0   \n",
       "7                     0.0                    0.0   \n",
       "8                   354.0                  207.0   \n",
       "21                    0.0                    0.0   \n",
       "23                  712.0                  540.0   \n",
       "\n",
       "    total_avg_rech_amnt_6_7_GoodPhase  avg_roam_mou  total_ic_og_diff  \n",
       "0                               559.0     13.609994              5.44  \n",
       "7                              1185.0     51.916667            166.31  \n",
       "8                               696.0      0.000000           -962.69  \n",
       "21                              640.0      0.000000          -2357.65  \n",
       "23                              583.0      0.000000            126.90  \n",
       "\n",
       "[5 rows x 129 columns]"
      ]
     },
     "execution_count": 92,
     "metadata": {},
     "output_type": "execute_result"
    }
   ],
   "source": [
    "# Putting feature variable to X\n",
    "X = churn_data_high_val_cust.drop(['churn'], axis=1)\n",
    "\n",
    "X.head()"
   ]
  },
  {
   "cell_type": "code",
   "execution_count": 93,
   "metadata": {},
   "outputs": [
    {
     "data": {
      "text/plain": [
       "0     1\n",
       "7     1\n",
       "8     0\n",
       "21    0\n",
       "23    0\n",
       "Name: churn, dtype: int64"
      ]
     },
     "execution_count": 93,
     "metadata": {},
     "output_type": "execute_result"
    }
   ],
   "source": [
    "# Putting response variable to y\n",
    "y = churn_data_high_val_cust['churn']\n",
    "\n",
    "y.head()"
   ]
  },
  {
   "cell_type": "code",
   "execution_count": 94,
   "metadata": {},
   "outputs": [],
   "source": [
    "# Splitting the data into train and testy_train\n",
    "X_train, X_test,y_train , y_test = train_test_split(X, y, train_size=0.7, test_size=0.3, random_state=100)"
   ]
  },
  {
   "cell_type": "code",
   "execution_count": 95,
   "metadata": {},
   "outputs": [],
   "source": [
    "#Feature Scaling\n",
    "from sklearn.preprocessing import StandardScaler\n",
    "sc=StandardScaler()\n",
    "X_train=pd.DataFrame(sc.fit_transform(X_train),columns=X.columns)\n",
    "X_test=pd.DataFrame(sc.transform(X_test),columns=X.columns)"
   ]
  },
  {
   "cell_type": "code",
   "execution_count": 96,
   "metadata": {},
   "outputs": [
    {
     "data": {
      "text/html": [
       "<div>\n",
       "<style scoped>\n",
       "    .dataframe tbody tr th:only-of-type {\n",
       "        vertical-align: middle;\n",
       "    }\n",
       "\n",
       "    .dataframe tbody tr th {\n",
       "        vertical-align: top;\n",
       "    }\n",
       "\n",
       "    .dataframe thead th {\n",
       "        text-align: right;\n",
       "    }\n",
       "</style>\n",
       "<table border=\"1\" class=\"dataframe\">\n",
       "  <thead>\n",
       "    <tr style=\"text-align: right;\">\n",
       "      <th></th>\n",
       "      <th>arpu_6</th>\n",
       "      <th>arpu_7</th>\n",
       "      <th>arpu_8</th>\n",
       "      <th>onnet_mou_6</th>\n",
       "      <th>onnet_mou_7</th>\n",
       "      <th>onnet_mou_8</th>\n",
       "      <th>offnet_mou_6</th>\n",
       "      <th>offnet_mou_7</th>\n",
       "      <th>offnet_mou_8</th>\n",
       "      <th>roam_ic_mou_6</th>\n",
       "      <th>...</th>\n",
       "      <th>aug_vbc_3g</th>\n",
       "      <th>jul_vbc_3g</th>\n",
       "      <th>jun_vbc_3g</th>\n",
       "      <th>sep_vbc_3g</th>\n",
       "      <th>total_rech_amt_data_6</th>\n",
       "      <th>total_rech_amt_data_7</th>\n",
       "      <th>total_rech_amt_data_8</th>\n",
       "      <th>total_avg_rech_amnt_6_7_GoodPhase</th>\n",
       "      <th>avg_roam_mou</th>\n",
       "      <th>total_ic_og_diff</th>\n",
       "    </tr>\n",
       "  </thead>\n",
       "  <tbody>\n",
       "    <tr>\n",
       "      <th>0</th>\n",
       "      <td>0.060025</td>\n",
       "      <td>0.893212</td>\n",
       "      <td>0.415240</td>\n",
       "      <td>-0.098050</td>\n",
       "      <td>-0.147320</td>\n",
       "      <td>-0.213021</td>\n",
       "      <td>0.476413</td>\n",
       "      <td>0.892018</td>\n",
       "      <td>2.155692</td>\n",
       "      <td>5.073518</td>\n",
       "      <td>...</td>\n",
       "      <td>-0.457293</td>\n",
       "      <td>-0.452006</td>\n",
       "      <td>-0.434515</td>\n",
       "      <td>-0.218895</td>\n",
       "      <td>-0.489025</td>\n",
       "      <td>-0.491555</td>\n",
       "      <td>-0.445153</td>\n",
       "      <td>-0.278609</td>\n",
       "      <td>5.098436</td>\n",
       "      <td>-0.161125</td>\n",
       "    </tr>\n",
       "    <tr>\n",
       "      <th>1</th>\n",
       "      <td>0.609152</td>\n",
       "      <td>-1.117662</td>\n",
       "      <td>-1.225378</td>\n",
       "      <td>0.299589</td>\n",
       "      <td>-0.475400</td>\n",
       "      <td>-0.580186</td>\n",
       "      <td>0.943485</td>\n",
       "      <td>-0.510197</td>\n",
       "      <td>-0.809454</td>\n",
       "      <td>-0.275935</td>\n",
       "      <td>...</td>\n",
       "      <td>-0.457293</td>\n",
       "      <td>-0.452006</td>\n",
       "      <td>-0.434515</td>\n",
       "      <td>-0.218895</td>\n",
       "      <td>-0.489025</td>\n",
       "      <td>-0.491555</td>\n",
       "      <td>-0.445153</td>\n",
       "      <td>-0.683355</td>\n",
       "      <td>-0.282160</td>\n",
       "      <td>0.232652</td>\n",
       "    </tr>\n",
       "    <tr>\n",
       "      <th>2</th>\n",
       "      <td>-1.034221</td>\n",
       "      <td>-1.209577</td>\n",
       "      <td>-0.858485</td>\n",
       "      <td>-0.631403</td>\n",
       "      <td>-0.623908</td>\n",
       "      <td>-0.577650</td>\n",
       "      <td>-0.768121</td>\n",
       "      <td>-0.822120</td>\n",
       "      <td>-0.637904</td>\n",
       "      <td>-0.275935</td>\n",
       "      <td>...</td>\n",
       "      <td>-0.457293</td>\n",
       "      <td>-0.452006</td>\n",
       "      <td>-0.434515</td>\n",
       "      <td>-0.218895</td>\n",
       "      <td>1.079077</td>\n",
       "      <td>0.353522</td>\n",
       "      <td>0.228795</td>\n",
       "      <td>0.155443</td>\n",
       "      <td>-0.348771</td>\n",
       "      <td>0.670564</td>\n",
       "    </tr>\n",
       "    <tr>\n",
       "      <th>3</th>\n",
       "      <td>1.286457</td>\n",
       "      <td>0.683641</td>\n",
       "      <td>0.940773</td>\n",
       "      <td>3.196132</td>\n",
       "      <td>2.989809</td>\n",
       "      <td>3.217786</td>\n",
       "      <td>0.061330</td>\n",
       "      <td>-0.396137</td>\n",
       "      <td>0.025119</td>\n",
       "      <td>-0.275935</td>\n",
       "      <td>...</td>\n",
       "      <td>-0.457293</td>\n",
       "      <td>-0.452006</td>\n",
       "      <td>-0.434515</td>\n",
       "      <td>-0.218895</td>\n",
       "      <td>-0.489025</td>\n",
       "      <td>-0.491555</td>\n",
       "      <td>-0.445153</td>\n",
       "      <td>-0.013201</td>\n",
       "      <td>-0.348771</td>\n",
       "      <td>-1.866178</td>\n",
       "    </tr>\n",
       "    <tr>\n",
       "      <th>4</th>\n",
       "      <td>-1.141267</td>\n",
       "      <td>-1.347387</td>\n",
       "      <td>-0.821042</td>\n",
       "      <td>-0.581920</td>\n",
       "      <td>-0.603569</td>\n",
       "      <td>-0.523552</td>\n",
       "      <td>-0.588441</td>\n",
       "      <td>-0.717837</td>\n",
       "      <td>-0.352984</td>\n",
       "      <td>-0.275935</td>\n",
       "      <td>...</td>\n",
       "      <td>3.336554</td>\n",
       "      <td>0.284160</td>\n",
       "      <td>-0.434515</td>\n",
       "      <td>7.266503</td>\n",
       "      <td>0.241097</td>\n",
       "      <td>0.133376</td>\n",
       "      <td>-0.279092</td>\n",
       "      <td>-0.431771</td>\n",
       "      <td>-0.348771</td>\n",
       "      <td>0.502337</td>\n",
       "    </tr>\n",
       "  </tbody>\n",
       "</table>\n",
       "<p>5 rows × 129 columns</p>\n",
       "</div>"
      ],
      "text/plain": [
       "     arpu_6    arpu_7    arpu_8  onnet_mou_6  onnet_mou_7  onnet_mou_8  \\\n",
       "0  0.060025  0.893212  0.415240    -0.098050    -0.147320    -0.213021   \n",
       "1  0.609152 -1.117662 -1.225378     0.299589    -0.475400    -0.580186   \n",
       "2 -1.034221 -1.209577 -0.858485    -0.631403    -0.623908    -0.577650   \n",
       "3  1.286457  0.683641  0.940773     3.196132     2.989809     3.217786   \n",
       "4 -1.141267 -1.347387 -0.821042    -0.581920    -0.603569    -0.523552   \n",
       "\n",
       "   offnet_mou_6  offnet_mou_7  offnet_mou_8  roam_ic_mou_6        ...         \\\n",
       "0      0.476413      0.892018      2.155692       5.073518        ...          \n",
       "1      0.943485     -0.510197     -0.809454      -0.275935        ...          \n",
       "2     -0.768121     -0.822120     -0.637904      -0.275935        ...          \n",
       "3      0.061330     -0.396137      0.025119      -0.275935        ...          \n",
       "4     -0.588441     -0.717837     -0.352984      -0.275935        ...          \n",
       "\n",
       "   aug_vbc_3g  jul_vbc_3g  jun_vbc_3g  sep_vbc_3g  total_rech_amt_data_6  \\\n",
       "0   -0.457293   -0.452006   -0.434515   -0.218895              -0.489025   \n",
       "1   -0.457293   -0.452006   -0.434515   -0.218895              -0.489025   \n",
       "2   -0.457293   -0.452006   -0.434515   -0.218895               1.079077   \n",
       "3   -0.457293   -0.452006   -0.434515   -0.218895              -0.489025   \n",
       "4    3.336554    0.284160   -0.434515    7.266503               0.241097   \n",
       "\n",
       "   total_rech_amt_data_7  total_rech_amt_data_8  \\\n",
       "0              -0.491555              -0.445153   \n",
       "1              -0.491555              -0.445153   \n",
       "2               0.353522               0.228795   \n",
       "3              -0.491555              -0.445153   \n",
       "4               0.133376              -0.279092   \n",
       "\n",
       "   total_avg_rech_amnt_6_7_GoodPhase  avg_roam_mou  total_ic_og_diff  \n",
       "0                          -0.278609      5.098436         -0.161125  \n",
       "1                          -0.683355     -0.282160          0.232652  \n",
       "2                           0.155443     -0.348771          0.670564  \n",
       "3                          -0.013201     -0.348771         -1.866178  \n",
       "4                          -0.431771     -0.348771          0.502337  \n",
       "\n",
       "[5 rows x 129 columns]"
      ]
     },
     "execution_count": 96,
     "metadata": {},
     "output_type": "execute_result"
    }
   ],
   "source": [
    "X_train.head()"
   ]
  },
  {
   "cell_type": "code",
   "execution_count": 97,
   "metadata": {},
   "outputs": [
    {
     "data": {
      "text/plain": [
       "8.122725603445398"
      ]
     },
     "execution_count": 97,
     "metadata": {},
     "output_type": "execute_result"
    }
   ],
   "source": [
    "### Checking the Churn Rate\n",
    "churn = (sum(churn_data_high_val_cust['churn'])/len(churn_data_high_val_cust['churn'].index))*100\n",
    "churn"
   ]
  },
  {
   "cell_type": "markdown",
   "metadata": {},
   "source": [
    "## 1. LogistcRegression model with RFE"
   ]
  },
  {
   "cell_type": "code",
   "execution_count": 158,
   "metadata": {},
   "outputs": [
    {
     "name": "stdout",
     "output_type": "stream",
     "text": [
      "[False False False  True False False  True False False False False False\n",
      " False False False False False False False False False False False False\n",
      " False False False False False False False False False False False False\n",
      "  True False False False False False False False False  True  True False\n",
      "  True False False  True False  True  True False False False False False\n",
      " False False False False False False False False False  True False False\n",
      " False False False False False  True  True False False False False False\n",
      " False False False  True False False  True False False False False False\n",
      " False False False False False False False False False False False False\n",
      " False False False False False False False False False False False False\n",
      " False False  True False False False False False False]\n",
      "[ 49  46   2   1  66   5   1  10   4  71  37  98  97 112   6  27  23  20\n",
      "  94   9  52 110  24  34 104  78  53  22  26 101  11  88  57  33  15   8\n",
      "   1  83  82 111 107  93 102  81 108   1   1   7   1 106  13   1  16   1\n",
      "   1  40  41  42 100  38  39  32  61  31 114  59  58  70 113   1  25  86\n",
      "  85  79  91 115  87   1   1  92  50  21 109  51   3  45  48   1  74  65\n",
      "   1  60  76  67  62  64  28  63  35  36  44  56  55  43  77  84  99 103\n",
      "  69  80  72  14  96  30  68  89  54  29  12  18  19  75   1  73 105  90\n",
      "  47  95  17]\n"
     ]
    }
   ],
   "source": [
    "from sklearn.linear_model import LogisticRegression\n",
    "logreg = LogisticRegression(class_weight='balanced')\n",
    "from sklearn.feature_selection import RFE\n",
    "rfe = RFE(logreg, 15)             \n",
    "rfe = rfe.fit(X_train,y_train)\n",
    "print(rfe.support_)         \n",
    "print(rfe.ranking_)           "
   ]
  },
  {
   "cell_type": "code",
   "execution_count": 159,
   "metadata": {},
   "outputs": [
    {
     "data": {
      "text/plain": [
       "Index(['onnet_mou_6', 'offnet_mou_6', 'std_og_mou_8', 'og_others_8',\n",
       "       'total_og_mou_6', 'total_og_mou_8', 'loc_ic_t2t_mou_8',\n",
       "       'loc_ic_t2m_mou_7', 'loc_ic_t2m_mou_8', 'spl_ic_mou_8',\n",
       "       'total_rech_num_7', 'total_rech_num_8', 'total_rech_data_8',\n",
       "       'max_rech_data_8', 'sep_vbc_3g'],\n",
       "      dtype='object')"
      ]
     },
     "execution_count": 159,
     "metadata": {},
     "output_type": "execute_result"
    }
   ],
   "source": [
    "cols_rfe=X_train.columns[rfe.support_]\n",
    "cols_rfe"
   ]
  },
  {
   "cell_type": "code",
   "execution_count": 160,
   "metadata": {},
   "outputs": [],
   "source": [
    "import statsmodels.api as sm"
   ]
  },
  {
   "cell_type": "code",
   "execution_count": 161,
   "metadata": {},
   "outputs": [
    {
     "data": {
      "text/html": [
       "<table class=\"simpletable\">\n",
       "<caption>Generalized Linear Model Regression Results</caption>\n",
       "<tr>\n",
       "  <th>Dep. Variable:</th>          <td>y</td>        <th>  No. Observations:  </th>  <td> 20967</td>  \n",
       "</tr>\n",
       "<tr>\n",
       "  <th>Model:</th>                 <td>GLM</td>       <th>  Df Residuals:      </th>  <td> 20951</td>  \n",
       "</tr>\n",
       "<tr>\n",
       "  <th>Model Family:</th>       <td>Binomial</td>     <th>  Df Model:          </th>  <td>    15</td>  \n",
       "</tr>\n",
       "<tr>\n",
       "  <th>Link Function:</th>        <td>logit</td>      <th>  Scale:             </th> <td>  1.0000</td> \n",
       "</tr>\n",
       "<tr>\n",
       "  <th>Method:</th>               <td>IRLS</td>       <th>  Log-Likelihood:    </th> <td> -3765.8</td> \n",
       "</tr>\n",
       "<tr>\n",
       "  <th>Date:</th>           <td>Tue, 25 Aug 2020</td> <th>  Deviance:          </th> <td>  7531.7</td> \n",
       "</tr>\n",
       "<tr>\n",
       "  <th>Time:</th>               <td>21:12:05</td>     <th>  Pearson chi2:      </th> <td>3.99e+06</td> \n",
       "</tr>\n",
       "<tr>\n",
       "  <th>No. Iterations:</th>        <td>10</td>        <th>  Covariance Type:   </th> <td>nonrobust</td>\n",
       "</tr>\n",
       "</table>\n",
       "<table class=\"simpletable\">\n",
       "<tr>\n",
       "          <td></td>             <th>coef</th>     <th>std err</th>      <th>z</th>      <th>P>|z|</th>  <th>[0.025</th>    <th>0.975]</th>  \n",
       "</tr>\n",
       "<tr>\n",
       "  <th>const</th>             <td>   -4.0607</td> <td>    0.082</td> <td>  -49.342</td> <td> 0.000</td> <td>   -4.222</td> <td>   -3.899</td>\n",
       "</tr>\n",
       "<tr>\n",
       "  <th>onnet_mou_6</th>       <td>    0.4995</td> <td>    0.069</td> <td>    7.201</td> <td> 0.000</td> <td>    0.364</td> <td>    0.635</td>\n",
       "</tr>\n",
       "<tr>\n",
       "  <th>offnet_mou_6</th>      <td>    0.5784</td> <td>    0.073</td> <td>    7.954</td> <td> 0.000</td> <td>    0.436</td> <td>    0.721</td>\n",
       "</tr>\n",
       "<tr>\n",
       "  <th>std_og_mou_8</th>      <td>    1.0114</td> <td>    0.163</td> <td>    6.190</td> <td> 0.000</td> <td>    0.691</td> <td>    1.332</td>\n",
       "</tr>\n",
       "<tr>\n",
       "  <th>og_others_8</th>       <td>    0.6012</td> <td>    0.028</td> <td>   21.782</td> <td> 0.000</td> <td>    0.547</td> <td>    0.655</td>\n",
       "</tr>\n",
       "<tr>\n",
       "  <th>total_og_mou_6</th>    <td>   -0.4905</td> <td>    0.101</td> <td>   -4.877</td> <td> 0.000</td> <td>   -0.688</td> <td>   -0.293</td>\n",
       "</tr>\n",
       "<tr>\n",
       "  <th>total_og_mou_8</th>    <td>   -1.7641</td> <td>    0.186</td> <td>   -9.480</td> <td> 0.000</td> <td>   -2.129</td> <td>   -1.399</td>\n",
       "</tr>\n",
       "<tr>\n",
       "  <th>loc_ic_t2t_mou_8</th>  <td>   -0.4144</td> <td>    0.096</td> <td>   -4.324</td> <td> 0.000</td> <td>   -0.602</td> <td>   -0.227</td>\n",
       "</tr>\n",
       "<tr>\n",
       "  <th>loc_ic_t2m_mou_7</th>  <td>    0.4437</td> <td>    0.062</td> <td>    7.177</td> <td> 0.000</td> <td>    0.323</td> <td>    0.565</td>\n",
       "</tr>\n",
       "<tr>\n",
       "  <th>loc_ic_t2m_mou_8</th>  <td>   -1.2656</td> <td>    0.124</td> <td>  -10.227</td> <td> 0.000</td> <td>   -1.508</td> <td>   -1.023</td>\n",
       "</tr>\n",
       "<tr>\n",
       "  <th>spl_ic_mou_8</th>      <td>   -0.5666</td> <td>    0.088</td> <td>   -6.415</td> <td> 0.000</td> <td>   -0.740</td> <td>   -0.393</td>\n",
       "</tr>\n",
       "<tr>\n",
       "  <th>total_rech_num_7</th>  <td>    0.3515</td> <td>    0.041</td> <td>    8.597</td> <td> 0.000</td> <td>    0.271</td> <td>    0.432</td>\n",
       "</tr>\n",
       "<tr>\n",
       "  <th>total_rech_num_8</th>  <td>   -0.4651</td> <td>    0.062</td> <td>   -7.453</td> <td> 0.000</td> <td>   -0.587</td> <td>   -0.343</td>\n",
       "</tr>\n",
       "<tr>\n",
       "  <th>total_rech_data_8</th> <td>   -0.5461</td> <td>    0.064</td> <td>   -8.569</td> <td> 0.000</td> <td>   -0.671</td> <td>   -0.421</td>\n",
       "</tr>\n",
       "<tr>\n",
       "  <th>max_rech_data_8</th>   <td>   -0.6262</td> <td>    0.048</td> <td>  -12.949</td> <td> 0.000</td> <td>   -0.721</td> <td>   -0.531</td>\n",
       "</tr>\n",
       "<tr>\n",
       "  <th>sep_vbc_3g</th>        <td>   -0.9597</td> <td>    0.237</td> <td>   -4.055</td> <td> 0.000</td> <td>   -1.424</td> <td>   -0.496</td>\n",
       "</tr>\n",
       "</table>"
      ],
      "text/plain": [
       "<class 'statsmodels.iolib.summary.Summary'>\n",
       "\"\"\"\n",
       "                 Generalized Linear Model Regression Results                  \n",
       "==============================================================================\n",
       "Dep. Variable:                      y   No. Observations:                20967\n",
       "Model:                            GLM   Df Residuals:                    20951\n",
       "Model Family:                Binomial   Df Model:                           15\n",
       "Link Function:                  logit   Scale:                          1.0000\n",
       "Method:                          IRLS   Log-Likelihood:                -3765.8\n",
       "Date:                Tue, 25 Aug 2020   Deviance:                       7531.7\n",
       "Time:                        21:12:05   Pearson chi2:                 3.99e+06\n",
       "No. Iterations:                    10   Covariance Type:             nonrobust\n",
       "=====================================================================================\n",
       "                        coef    std err          z      P>|z|      [0.025      0.975]\n",
       "-------------------------------------------------------------------------------------\n",
       "const                -4.0607      0.082    -49.342      0.000      -4.222      -3.899\n",
       "onnet_mou_6           0.4995      0.069      7.201      0.000       0.364       0.635\n",
       "offnet_mou_6          0.5784      0.073      7.954      0.000       0.436       0.721\n",
       "std_og_mou_8          1.0114      0.163      6.190      0.000       0.691       1.332\n",
       "og_others_8           0.6012      0.028     21.782      0.000       0.547       0.655\n",
       "total_og_mou_6       -0.4905      0.101     -4.877      0.000      -0.688      -0.293\n",
       "total_og_mou_8       -1.7641      0.186     -9.480      0.000      -2.129      -1.399\n",
       "loc_ic_t2t_mou_8     -0.4144      0.096     -4.324      0.000      -0.602      -0.227\n",
       "loc_ic_t2m_mou_7      0.4437      0.062      7.177      0.000       0.323       0.565\n",
       "loc_ic_t2m_mou_8     -1.2656      0.124    -10.227      0.000      -1.508      -1.023\n",
       "spl_ic_mou_8         -0.5666      0.088     -6.415      0.000      -0.740      -0.393\n",
       "total_rech_num_7      0.3515      0.041      8.597      0.000       0.271       0.432\n",
       "total_rech_num_8     -0.4651      0.062     -7.453      0.000      -0.587      -0.343\n",
       "total_rech_data_8    -0.5461      0.064     -8.569      0.000      -0.671      -0.421\n",
       "max_rech_data_8      -0.6262      0.048    -12.949      0.000      -0.721      -0.531\n",
       "sep_vbc_3g           -0.9597      0.237     -4.055      0.000      -1.424      -0.496\n",
       "=====================================================================================\n",
       "\"\"\""
      ]
     },
     "execution_count": 161,
     "metadata": {},
     "output_type": "execute_result"
    }
   ],
   "source": [
    "# Logistic regression model\n",
    "y_train = list(y_train)\n",
    "logm1 = sm.GLM(y_train,(sm.add_constant(X_train[cols_rfe])), family = sm.families.Binomial())\n",
    "logm1.fit().summary()"
   ]
  },
  {
   "cell_type": "code",
   "execution_count": 162,
   "metadata": {},
   "outputs": [],
   "source": [
    "# Check for the VIF values of the feature variables. \n",
    "from statsmodels.stats.outliers_influence import variance_inflation_factor"
   ]
  },
  {
   "cell_type": "code",
   "execution_count": 163,
   "metadata": {},
   "outputs": [],
   "source": [
    "####Function to calculate VIF\n",
    "def vif_cal(input_data):\n",
    "    vif_df = pd.DataFrame( columns = ['Var', 'Vif'])\n",
    "    x_vars=input_data\n",
    "    xvar_names=x_vars.columns\n",
    "    for i in range(0,xvar_names.shape[0]):\n",
    "        y=x_vars[xvar_names[i]] \n",
    "        x=x_vars[xvar_names.drop(xvar_names[i])]\n",
    "        x_withC = sm.add_constant(x)\n",
    "        rsq=sm.OLS(y,x_withC).fit().rsquared  \n",
    "        if rsq==1: rsq=0.99999\n",
    "        vif=round(1/(1-rsq),2)\n",
    "        vif_df.loc[i] = [xvar_names[i], vif]\n",
    "    return vif_df.sort_values(by = 'Vif', axis=0, ascending=False, inplace=False)"
   ]
  },
  {
   "cell_type": "code",
   "execution_count": 164,
   "metadata": {},
   "outputs": [
    {
     "data": {
      "text/html": [
       "<div>\n",
       "<style scoped>\n",
       "    .dataframe tbody tr th:only-of-type {\n",
       "        vertical-align: middle;\n",
       "    }\n",
       "\n",
       "    .dataframe tbody tr th {\n",
       "        vertical-align: top;\n",
       "    }\n",
       "\n",
       "    .dataframe thead th {\n",
       "        text-align: right;\n",
       "    }\n",
       "</style>\n",
       "<table border=\"1\" class=\"dataframe\">\n",
       "  <thead>\n",
       "    <tr style=\"text-align: right;\">\n",
       "      <th></th>\n",
       "      <th>Var</th>\n",
       "      <th>Vif</th>\n",
       "    </tr>\n",
       "  </thead>\n",
       "  <tbody>\n",
       "    <tr>\n",
       "      <th>4</th>\n",
       "      <td>total_og_mou_6</td>\n",
       "      <td>19.75</td>\n",
       "    </tr>\n",
       "    <tr>\n",
       "      <th>1</th>\n",
       "      <td>offnet_mou_6</td>\n",
       "      <td>10.31</td>\n",
       "    </tr>\n",
       "    <tr>\n",
       "      <th>0</th>\n",
       "      <td>onnet_mou_6</td>\n",
       "      <td>9.28</td>\n",
       "    </tr>\n",
       "    <tr>\n",
       "      <th>5</th>\n",
       "      <td>total_og_mou_8</td>\n",
       "      <td>5.86</td>\n",
       "    </tr>\n",
       "    <tr>\n",
       "      <th>2</th>\n",
       "      <td>std_og_mou_8</td>\n",
       "      <td>4.78</td>\n",
       "    </tr>\n",
       "    <tr>\n",
       "      <th>8</th>\n",
       "      <td>loc_ic_t2m_mou_8</td>\n",
       "      <td>3.68</td>\n",
       "    </tr>\n",
       "    <tr>\n",
       "      <th>7</th>\n",
       "      <td>loc_ic_t2m_mou_7</td>\n",
       "      <td>3.47</td>\n",
       "    </tr>\n",
       "    <tr>\n",
       "      <th>11</th>\n",
       "      <td>total_rech_num_8</td>\n",
       "      <td>3.22</td>\n",
       "    </tr>\n",
       "    <tr>\n",
       "      <th>10</th>\n",
       "      <td>total_rech_num_7</td>\n",
       "      <td>2.52</td>\n",
       "    </tr>\n",
       "    <tr>\n",
       "      <th>12</th>\n",
       "      <td>total_rech_data_8</td>\n",
       "      <td>1.38</td>\n",
       "    </tr>\n",
       "    <tr>\n",
       "      <th>6</th>\n",
       "      <td>loc_ic_t2t_mou_8</td>\n",
       "      <td>1.27</td>\n",
       "    </tr>\n",
       "    <tr>\n",
       "      <th>13</th>\n",
       "      <td>max_rech_data_8</td>\n",
       "      <td>1.16</td>\n",
       "    </tr>\n",
       "    <tr>\n",
       "      <th>3</th>\n",
       "      <td>og_others_8</td>\n",
       "      <td>1.11</td>\n",
       "    </tr>\n",
       "    <tr>\n",
       "      <th>9</th>\n",
       "      <td>spl_ic_mou_8</td>\n",
       "      <td>1.03</td>\n",
       "    </tr>\n",
       "    <tr>\n",
       "      <th>14</th>\n",
       "      <td>sep_vbc_3g</td>\n",
       "      <td>1.03</td>\n",
       "    </tr>\n",
       "  </tbody>\n",
       "</table>\n",
       "</div>"
      ],
      "text/plain": [
       "                  Var    Vif\n",
       "4      total_og_mou_6  19.75\n",
       "1        offnet_mou_6  10.31\n",
       "0         onnet_mou_6   9.28\n",
       "5      total_og_mou_8   5.86\n",
       "2        std_og_mou_8   4.78\n",
       "8    loc_ic_t2m_mou_8   3.68\n",
       "7    loc_ic_t2m_mou_7   3.47\n",
       "11   total_rech_num_8   3.22\n",
       "10   total_rech_num_7   2.52\n",
       "12  total_rech_data_8   1.38\n",
       "6    loc_ic_t2t_mou_8   1.27\n",
       "13    max_rech_data_8   1.16\n",
       "3         og_others_8   1.11\n",
       "9        spl_ic_mou_8   1.03\n",
       "14         sep_vbc_3g   1.03"
      ]
     },
     "execution_count": 164,
     "metadata": {},
     "output_type": "execute_result"
    }
   ],
   "source": [
    "#checking VIF\n",
    "vif_cal(X_train[cols_rfe])"
   ]
  },
  {
   "cell_type": "code",
   "execution_count": 165,
   "metadata": {},
   "outputs": [
    {
     "data": {
      "text/plain": [
       "Index(['onnet_mou_6', 'offnet_mou_6', 'std_og_mou_8', 'og_others_8',\n",
       "       'total_og_mou_8', 'loc_ic_t2t_mou_8', 'loc_ic_t2m_mou_7',\n",
       "       'loc_ic_t2m_mou_8', 'spl_ic_mou_8', 'total_rech_num_7',\n",
       "       'total_rech_num_8', 'total_rech_data_8', 'max_rech_data_8',\n",
       "       'sep_vbc_3g'],\n",
       "      dtype='object')"
      ]
     },
     "execution_count": 165,
     "metadata": {},
     "output_type": "execute_result"
    }
   ],
   "source": [
    "## Let us drop total_og_mou_6 has it's has high VIF\n",
    "cols_rfe = cols_rfe.drop('total_og_mou_6', 1)\n",
    "cols_rfe"
   ]
  },
  {
   "cell_type": "code",
   "execution_count": 166,
   "metadata": {},
   "outputs": [
    {
     "name": "stdout",
     "output_type": "stream",
     "text": [
      "                 Generalized Linear Model Regression Results                  \n",
      "==============================================================================\n",
      "Dep. Variable:                      y   No. Observations:                20967\n",
      "Model:                            GLM   Df Residuals:                    20952\n",
      "Model Family:                Binomial   Df Model:                           14\n",
      "Link Function:                  logit   Scale:                          1.0000\n",
      "Method:                          IRLS   Log-Likelihood:                -3777.3\n",
      "Date:                Tue, 25 Aug 2020   Deviance:                       7554.6\n",
      "Time:                        21:12:20   Pearson chi2:                 4.45e+06\n",
      "No. Iterations:                    10   Covariance Type:             nonrobust\n",
      "=====================================================================================\n",
      "                        coef    std err          z      P>|z|      [0.025      0.975]\n",
      "-------------------------------------------------------------------------------------\n",
      "const                -4.0533      0.082    -49.206      0.000      -4.215      -3.892\n",
      "onnet_mou_6           0.1895      0.028      6.666      0.000       0.134       0.245\n",
      "offnet_mou_6          0.2505      0.029      8.786      0.000       0.195       0.306\n",
      "std_og_mou_8          1.0181      0.163      6.236      0.000       0.698       1.338\n",
      "og_others_8           0.6095      0.028     22.126      0.000       0.556       0.663\n",
      "total_og_mou_8       -1.7893      0.186     -9.605      0.000      -2.154      -1.424\n",
      "loc_ic_t2t_mou_8     -0.4078      0.095     -4.282      0.000      -0.594      -0.221\n",
      "loc_ic_t2m_mou_7      0.4401      0.062      7.107      0.000       0.319       0.561\n",
      "loc_ic_t2m_mou_8     -1.2716      0.124    -10.247      0.000      -1.515      -1.028\n",
      "spl_ic_mou_8         -0.5692      0.088     -6.463      0.000      -0.742      -0.397\n",
      "total_rech_num_7      0.3367      0.041      8.252      0.000       0.257       0.417\n",
      "total_rech_num_8     -0.4386      0.062     -7.080      0.000      -0.560      -0.317\n",
      "total_rech_data_8    -0.5615      0.064     -8.796      0.000      -0.687      -0.436\n",
      "max_rech_data_8      -0.6083      0.048    -12.644      0.000      -0.703      -0.514\n",
      "sep_vbc_3g           -0.9660      0.238     -4.063      0.000      -1.432      -0.500\n",
      "=====================================================================================\n",
      "                  Var   Vif\n",
      "4      total_og_mou_8  5.85\n",
      "2        std_og_mou_8  4.77\n",
      "7    loc_ic_t2m_mou_8  3.68\n",
      "6    loc_ic_t2m_mou_7  3.46\n",
      "10   total_rech_num_8  3.22\n",
      "9    total_rech_num_7  2.51\n",
      "11  total_rech_data_8  1.38\n",
      "1        offnet_mou_6  1.35\n",
      "0         onnet_mou_6  1.33\n",
      "5    loc_ic_t2t_mou_8  1.27\n",
      "12    max_rech_data_8  1.16\n",
      "3         og_others_8  1.10\n",
      "8        spl_ic_mou_8  1.03\n",
      "13         sep_vbc_3g  1.03\n"
     ]
    }
   ],
   "source": [
    "y_train=list(y_train)\n",
    "logm2 = sm.GLM(list(y_train),(sm.add_constant(X_train[cols_rfe])), family = sm.families.Binomial())\n",
    "logm2.fit().summary()\n",
    "print(logm2.fit().summary())\n",
    "print(vif_cal(X_train[cols_rfe]))"
   ]
  },
  {
   "cell_type": "code",
   "execution_count": 167,
   "metadata": {},
   "outputs": [
    {
     "data": {
      "text/plain": [
       "Index(['onnet_mou_6', 'offnet_mou_6', 'std_og_mou_8', 'og_others_8',\n",
       "       'loc_ic_t2t_mou_8', 'loc_ic_t2m_mou_7', 'loc_ic_t2m_mou_8',\n",
       "       'spl_ic_mou_8', 'total_rech_num_7', 'total_rech_num_8',\n",
       "       'total_rech_data_8', 'max_rech_data_8', 'sep_vbc_3g'],\n",
       "      dtype='object')"
      ]
     },
     "execution_count": 167,
     "metadata": {},
     "output_type": "execute_result"
    }
   ],
   "source": [
    "## Let us drop total_og_mou_6 has it's has high VIF\n",
    "cols_rfe = cols_rfe.drop('total_og_mou_8', 1)\n",
    "cols_rfe"
   ]
  },
  {
   "cell_type": "code",
   "execution_count": 168,
   "metadata": {},
   "outputs": [
    {
     "name": "stdout",
     "output_type": "stream",
     "text": [
      "                 Generalized Linear Model Regression Results                  \n",
      "==============================================================================\n",
      "Dep. Variable:                      y   No. Observations:                20967\n",
      "Model:                            GLM   Df Residuals:                    20953\n",
      "Model Family:                Binomial   Df Model:                           13\n",
      "Link Function:                  logit   Scale:                          1.0000\n",
      "Method:                          IRLS   Log-Likelihood:                -3850.3\n",
      "Date:                Tue, 25 Aug 2020   Deviance:                       7700.5\n",
      "Time:                        21:12:26   Pearson chi2:                 1.25e+05\n",
      "No. Iterations:                    10   Covariance Type:             nonrobust\n",
      "=====================================================================================\n",
      "                        coef    std err          z      P>|z|      [0.025      0.975]\n",
      "-------------------------------------------------------------------------------------\n",
      "const                -4.0372      0.082    -49.201      0.000      -4.198      -3.876\n",
      "onnet_mou_6           0.1602      0.027      5.844      0.000       0.106       0.214\n",
      "offnet_mou_6          0.2052      0.028      7.371      0.000       0.151       0.260\n",
      "std_og_mou_8         -0.4360      0.049     -8.878      0.000      -0.532      -0.340\n",
      "og_others_8           0.7828      0.022     36.017      0.000       0.740       0.825\n",
      "loc_ic_t2t_mou_8     -0.6996      0.101     -6.952      0.000      -0.897      -0.502\n",
      "loc_ic_t2m_mou_7      0.4530      0.063      7.227      0.000       0.330       0.576\n",
      "loc_ic_t2m_mou_8     -1.7910      0.121    -14.841      0.000      -2.028      -1.554\n",
      "spl_ic_mou_8         -0.5117      0.081     -6.293      0.000      -0.671      -0.352\n",
      "total_rech_num_7      0.3915      0.041      9.628      0.000       0.312       0.471\n",
      "total_rech_num_8     -0.5898      0.062     -9.557      0.000      -0.711      -0.469\n",
      "total_rech_data_8    -0.5313      0.065     -8.213      0.000      -0.658      -0.404\n",
      "max_rech_data_8      -0.6009      0.048    -12.481      0.000      -0.695      -0.507\n",
      "sep_vbc_3g           -0.9917      0.241     -4.123      0.000      -1.463      -0.520\n",
      "=====================================================================================\n",
      "                  Var   Vif\n",
      "6    loc_ic_t2m_mou_8  3.50\n",
      "5    loc_ic_t2m_mou_7  3.46\n",
      "9    total_rech_num_8  3.07\n",
      "8    total_rech_num_7  2.48\n",
      "2        std_og_mou_8  1.66\n",
      "10  total_rech_data_8  1.36\n",
      "0         onnet_mou_6  1.26\n",
      "1        offnet_mou_6  1.25\n",
      "4    loc_ic_t2t_mou_8  1.19\n",
      "11    max_rech_data_8  1.16\n",
      "3         og_others_8  1.05\n",
      "7        spl_ic_mou_8  1.03\n",
      "12         sep_vbc_3g  1.03\n"
     ]
    }
   ],
   "source": [
    "y_train=list(y_train)\n",
    "logm2 = sm.GLM(list(y_train),(sm.add_constant(X_train[cols_rfe])), family = sm.families.Binomial())\n",
    "logm2.fit().summary()\n",
    "print(logm2.fit().summary())\n",
    "print(vif_cal(X_train[cols_rfe]))"
   ]
  },
  {
   "cell_type": "markdown",
   "metadata": {},
   "source": [
    "All variables have a good value of VIF. So we need not drop any more variables and we can proceed with making predictions using this model only"
   ]
  },
  {
   "cell_type": "code",
   "execution_count": 109,
   "metadata": {},
   "outputs": [
    {
     "data": {
      "text/plain": [
       "<matplotlib.axes._subplots.AxesSubplot at 0x60d8217f0>"
      ]
     },
     "execution_count": 109,
     "metadata": {},
     "output_type": "execute_result"
    },
    {
     "data": {
      "image/png": "[encoded data removed]",
      "text/plain": [
       "<Figure size 1440x720 with 2 Axes>"
      ]
     },
     "metadata": {
      "needs_background": "light"
     },
     "output_type": "display_data"
    }
   ],
   "source": [
    "# Let's see the correlation matrix \n",
    "plt.figure(figsize = (20,10))        # Size of the figure\n",
    "sns.heatmap(X_train[cols_rfe].corr(),annot = True)"
   ]
  },
  {
   "cell_type": "markdown",
   "metadata": {},
   "source": [
    "### Logistic Regression Model Evaluation"
   ]
  },
  {
   "cell_type": "code",
   "execution_count": 169,
   "metadata": {},
   "outputs": [
    {
     "name": "stdout",
     "output_type": "stream",
     "text": [
      "             precision    recall  f1-score   support\n",
      "\n",
      "          0       0.95      0.99      0.97      8305\n",
      "          1       0.73      0.33      0.45       681\n",
      "\n",
      "avg / total       0.93      0.94      0.93      8986\n",
      "\n",
      "[[8223   82]\n",
      " [ 457  224]]\n",
      "Accuracy-> 0.9400178054751837\n",
      "AUC-> 0.888742605917388\n"
     ]
    }
   ],
   "source": [
    "# LR without hyperparameter tunning\n",
    "log_updated= LogisticRegression()\n",
    "log_updated.fit(X_train[cols_rfe], (y_train))\n",
    "predictions = log_updated.predict(X_test[cols_rfe])\n",
    "probas=log_updated.predict_proba(X_test[cols_rfe])\n",
    "print(classification_report(y_test,predictions))\n",
    "print(confusion_matrix(y_test,predictions))\n",
    "print(\"Accuracy->\" ,accuracy_score(y_test,predictions))\n",
    "print(\"AUC->\",metrics.roc_auc_score(y_test,probas[:, 1]))"
   ]
  },
  {
   "cell_type": "markdown",
   "metadata": {},
   "source": [
    "### Hyper-parameter Tuning"
   ]
  },
  {
   "cell_type": "code",
   "execution_count": 170,
   "metadata": {},
   "outputs": [
    {
     "name": "stdout",
     "output_type": "stream",
     "text": [
      "Fitting 5 folds for each of 10 candidates, totalling 50 fits\n"
     ]
    },
    {
     "name": "stderr",
     "output_type": "stream",
     "text": [
      "[Parallel(n_jobs=1)]: Done  50 out of  50 | elapsed:    8.4s finished\n"
     ]
    },
    {
     "name": "stdout",
     "output_type": "stream",
     "text": [
      "             precision    recall  f1-score   support\n",
      "\n",
      "          0       0.99      0.69      0.81      8305\n",
      "          1       0.19      0.88      0.31       681\n",
      "\n",
      "avg / total       0.92      0.70      0.77      8986\n",
      "\n",
      "[[5696 2609]\n",
      " [  85  596]]\n",
      "Accuracy-> 0.7002003115958157\n",
      "AUC-> 0.889311588917739\n"
     ]
    }
   ],
   "source": [
    "#Evaluation Metric - Recall\n",
    "weights = np.linspace(0.05, 0.95, 10)\n",
    "parameters = {'class_weight': [{0: x, 1: 1.0-x} for x in weights]}\n",
    "\n",
    "log1 = LogisticRegression()\n",
    "\n",
    "cv1= GridSearchCV(log1, \n",
    "                   parameters, \n",
    "                   cv=StratifiedKFold(n_splits=5), \n",
    "                   scoring=\"recall\",\n",
    "                   verbose = 1)\n",
    "cv1.fit(X_train[cols_rfe], y_train)\n",
    "\n",
    "log_updated= LogisticRegression(class_weight= cv1.best_params_['class_weight'])\n",
    "log_updated.fit(X_train[cols_rfe], (y_train))\n",
    "predictions = log_updated.predict(X_test[cols_rfe])\n",
    "probas=log_updated.predict_proba(X_test[cols_rfe])\n",
    "print(classification_report(y_test,predictions))\n",
    "print(confusion_matrix(y_test,predictions))\n",
    "print(\"Accuracy->\" ,accuracy_score(y_test,predictions))\n",
    "print(\"AUC->\",metrics.roc_auc_score(y_test,probas[:, 1]))"
   ]
  },
  {
   "cell_type": "code",
   "execution_count": 92,
   "metadata": {},
   "outputs": [
    {
     "name": "stdout",
     "output_type": "stream",
     "text": [
      "Fitting 5 folds for each of 10 candidates, totalling 50 fits\n"
     ]
    },
    {
     "name": "stderr",
     "output_type": "stream",
     "text": [
      "[Parallel(n_jobs=1)]: Using backend SequentialBackend with 1 concurrent workers.\n",
      "[Parallel(n_jobs=1)]: Done  50 out of  50 | elapsed:   13.2s finished\n"
     ]
    },
    {
     "name": "stdout",
     "output_type": "stream",
     "text": [
      "              precision    recall  f1-score   support\n",
      "\n",
      "           0       0.96      0.96      0.96      8305\n",
      "           1       0.53      0.56      0.54       681\n",
      "\n",
      "    accuracy                           0.93      8986\n",
      "   macro avg       0.74      0.76      0.75      8986\n",
      "weighted avg       0.93      0.93      0.93      8986\n",
      "\n",
      "[[7962  343]\n",
      " [ 301  380]]\n",
      "Accuracy-> 0.9283329623859337\n",
      "AUC-> 0.8895612483324359\n"
     ]
    }
   ],
   "source": [
    "# Evaluation Metric - F1\n",
    "weights = np.linspace(0.05, 0.95, 10)\n",
    "parameters = {'class_weight': [{0: x, 1: 1.0-x} for x in weights]}\n",
    "\n",
    "log1 = LogisticRegression()\n",
    "\n",
    "cv1= GridSearchCV(log1, \n",
    "                   parameters, \n",
    "                   cv=StratifiedKFold(n_splits=5), \n",
    "                   scoring=\"f1\",\n",
    "                   verbose = 1)\n",
    "cv1.fit(X_train[cols_rfe], y_train)\n",
    "\n",
    "log_updated= LogisticRegression(class_weight= cv1.best_params_['class_weight'])\n",
    "log_updated.fit(X_train[cols_rfe], (y_train))\n",
    "predictions = log_updated.predict(X_test[cols_rfe])\n",
    "probas=log_updated.predict_proba(X_test[cols_rfe])\n",
    "print(classification_report(y_test,predictions))\n",
    "print(confusion_matrix(y_test,predictions))\n",
    "print(\"Accuracy->\" ,accuracy_score(y_test,predictions))\n",
    "print(\"AUC->\",metrics.roc_auc_score(y_test,probas[:, 1]))"
   ]
  },
  {
   "cell_type": "code",
   "execution_count": 172,
   "metadata": {},
   "outputs": [],
   "source": [
    "#Making prediction on the test data\n",
    "logreg.fit(X_train[cols_rfe], y_train)\n",
    "pred_test = logreg.predict_proba(X_test[cols_rfe])\n",
    "y_pred_default = logreg.predict(X_test[cols_rfe])"
   ]
  },
  {
   "cell_type": "code",
   "execution_count": 173,
   "metadata": {},
   "outputs": [],
   "source": [
    "# Converting y_pred to a dataframe which is an array\n",
    "y_pred_df = pd.DataFrame(pred_test)\n",
    "# Converting to column dataframe\n",
    "y_pred_1 = y_pred_df.iloc[:,[1]]\n",
    "\n",
    "# Removing index for both dataframes to append them side by side \n",
    "y_pred_1.reset_index(drop=True, inplace=True)\n",
    "y_test.reset_index(drop=True, inplace=True)\n",
    "# Appending y_test_df and y_pred_1\n",
    "y_pred_final = pd.concat([y_test,y_pred_1],axis=1)\n",
    "\n",
    "# Renaming the column \n",
    "y_pred_final= y_pred_final.rename(columns={ 1 : 'churn_prob'})"
   ]
  },
  {
   "cell_type": "code",
   "execution_count": 174,
   "metadata": {},
   "outputs": [
    {
     "name": "stdout",
     "output_type": "stream",
     "text": [
      "ROC_AUC Score:  0.889706588303315\n"
     ]
    }
   ],
   "source": [
    "from sklearn.metrics import roc_curve, auc\n",
    "fpr, tpr, thresholds =roc_curve(y_pred_final.churn,y_pred_final.churn_prob)\n",
    "roc_auc = auc(fpr, tpr)\n",
    "print('ROC_AUC Score: ',roc_auc)"
   ]
  },
  {
   "cell_type": "code",
   "execution_count": 175,
   "metadata": {},
   "outputs": [
    {
     "data": {
      "image/png": "[encoded data removed]",
      "text/plain": [
       "<Figure size 432x432 with 1 Axes>"
      ]
     },
     "metadata": {
      "needs_background": "light"
     },
     "output_type": "display_data"
    },
    {
     "data": {
      "text/plain": [
       "(array([0.00000000e+00, 1.20409392e-04, 1.20409392e-04, ...,\n",
       "        9.99759181e-01, 9.99879591e-01, 1.00000000e+00]),\n",
       " array([0.00146843, 0.00146843, 0.00293686, ..., 1.        , 1.        ,\n",
       "        1.        ]),\n",
       " array([9.98794671e-01, 9.97836154e-01, 9.96993698e-01, ...,\n",
       "        3.28814398e-06, 2.47744079e-06, 9.36102478e-07]))"
      ]
     },
     "execution_count": 175,
     "metadata": {},
     "output_type": "execute_result"
    }
   ],
   "source": [
    "#ROC Curve\n",
    "def draw_roc( actual, probs ):\n",
    "    fpr, tpr, thresholds = metrics.roc_curve( actual, probs,\n",
    "                                              drop_intermediate = False )\n",
    "    auc_score = metrics.roc_auc_score( actual, probs )\n",
    "    plt.figure(figsize=(6, 6))\n",
    "    plt.plot( fpr, tpr, label='ROC curve (area = %0.2f)' % auc_score )\n",
    "    plt.plot([0, 1], [0, 1], 'k--')\n",
    "    plt.xlim([0.0, 1.0])\n",
    "    plt.ylim([0.0, 1.05])\n",
    "    plt.xlabel('False Positive Rate or [1 - True Negative Rate]')\n",
    "    plt.ylabel('True Positive Rate')\n",
    "    plt.title('Receiver operating characteristic example')\n",
    "    plt.legend(loc=\"lower right\")\n",
    "    plt.show()\n",
    "\n",
    "    return fpr, tpr, thresholds\n",
    "draw_roc(y_pred_final.churn, y_pred_final.churn_prob)"
   ]
  },
  {
   "cell_type": "code",
   "execution_count": 176,
   "metadata": {},
   "outputs": [
    {
     "data": {
      "text/html": [
       "<div>\n",
       "<style scoped>\n",
       "    .dataframe tbody tr th:only-of-type {\n",
       "        vertical-align: middle;\n",
       "    }\n",
       "\n",
       "    .dataframe tbody tr th {\n",
       "        vertical-align: top;\n",
       "    }\n",
       "\n",
       "    .dataframe thead th {\n",
       "        text-align: right;\n",
       "    }\n",
       "</style>\n",
       "<table border=\"1\" class=\"dataframe\">\n",
       "  <thead>\n",
       "    <tr style=\"text-align: right;\">\n",
       "      <th></th>\n",
       "      <th>churn</th>\n",
       "      <th>churn_prob</th>\n",
       "      <th>0.0</th>\n",
       "      <th>0.1</th>\n",
       "      <th>0.2</th>\n",
       "      <th>0.3</th>\n",
       "      <th>0.4</th>\n",
       "      <th>0.5</th>\n",
       "      <th>0.6</th>\n",
       "      <th>0.7</th>\n",
       "      <th>0.8</th>\n",
       "      <th>0.9</th>\n",
       "    </tr>\n",
       "  </thead>\n",
       "  <tbody>\n",
       "    <tr>\n",
       "      <th>0</th>\n",
       "      <td>0</td>\n",
       "      <td>0.001152</td>\n",
       "      <td>1</td>\n",
       "      <td>0</td>\n",
       "      <td>0</td>\n",
       "      <td>0</td>\n",
       "      <td>0</td>\n",
       "      <td>0</td>\n",
       "      <td>0</td>\n",
       "      <td>0</td>\n",
       "      <td>0</td>\n",
       "      <td>0</td>\n",
       "    </tr>\n",
       "    <tr>\n",
       "      <th>1</th>\n",
       "      <td>0</td>\n",
       "      <td>0.011027</td>\n",
       "      <td>1</td>\n",
       "      <td>0</td>\n",
       "      <td>0</td>\n",
       "      <td>0</td>\n",
       "      <td>0</td>\n",
       "      <td>0</td>\n",
       "      <td>0</td>\n",
       "      <td>0</td>\n",
       "      <td>0</td>\n",
       "      <td>0</td>\n",
       "    </tr>\n",
       "    <tr>\n",
       "      <th>2</th>\n",
       "      <td>0</td>\n",
       "      <td>0.002443</td>\n",
       "      <td>1</td>\n",
       "      <td>0</td>\n",
       "      <td>0</td>\n",
       "      <td>0</td>\n",
       "      <td>0</td>\n",
       "      <td>0</td>\n",
       "      <td>0</td>\n",
       "      <td>0</td>\n",
       "      <td>0</td>\n",
       "      <td>0</td>\n",
       "    </tr>\n",
       "    <tr>\n",
       "      <th>3</th>\n",
       "      <td>0</td>\n",
       "      <td>0.318605</td>\n",
       "      <td>1</td>\n",
       "      <td>1</td>\n",
       "      <td>1</td>\n",
       "      <td>1</td>\n",
       "      <td>0</td>\n",
       "      <td>0</td>\n",
       "      <td>0</td>\n",
       "      <td>0</td>\n",
       "      <td>0</td>\n",
       "      <td>0</td>\n",
       "    </tr>\n",
       "    <tr>\n",
       "      <th>4</th>\n",
       "      <td>0</td>\n",
       "      <td>0.359124</td>\n",
       "      <td>1</td>\n",
       "      <td>1</td>\n",
       "      <td>1</td>\n",
       "      <td>1</td>\n",
       "      <td>0</td>\n",
       "      <td>0</td>\n",
       "      <td>0</td>\n",
       "      <td>0</td>\n",
       "      <td>0</td>\n",
       "      <td>0</td>\n",
       "    </tr>\n",
       "  </tbody>\n",
       "</table>\n",
       "</div>"
      ],
      "text/plain": [
       "   churn  churn_prob  0.0  0.1  0.2  0.3  0.4  0.5  0.6  0.7  0.8  0.9\n",
       "0      0    0.001152    1    0    0    0    0    0    0    0    0    0\n",
       "1      0    0.011027    1    0    0    0    0    0    0    0    0    0\n",
       "2      0    0.002443    1    0    0    0    0    0    0    0    0    0\n",
       "3      0    0.318605    1    1    1    1    0    0    0    0    0    0\n",
       "4      0    0.359124    1    1    1    1    0    0    0    0    0    0"
      ]
     },
     "execution_count": 176,
     "metadata": {},
     "output_type": "execute_result"
    }
   ],
   "source": [
    "# Let's create columns with different probability cutoffs \n",
    "numbers = [float(x)/10 for x in range(10)]\n",
    "for i in numbers:\n",
    "    y_pred_final[i]= y_pred_final.churn_prob.map(lambda x: 1 if x > i else 0)\n",
    "y_pred_final.head()"
   ]
  },
  {
   "cell_type": "code",
   "execution_count": 177,
   "metadata": {},
   "outputs": [
    {
     "name": "stdout",
     "output_type": "stream",
     "text": [
      "     prob  accuracy     sensi     speci\n",
      "0.0   0.0  0.075785  0.000000  1.000000\n",
      "0.1   0.1  0.366904  0.317760  0.966226\n",
      "0.2   0.2  0.519363  0.484166  0.948605\n",
      "0.3   0.3  0.640997  0.619747  0.900147\n",
      "0.4   0.4  0.736256  0.725948  0.861968\n",
      "0.5   0.5  0.814155  0.812884  0.829662\n",
      "0.6   0.6  0.874917  0.884166  0.762115\n",
      "0.7   0.7  0.914756  0.936544  0.649046\n",
      "0.8   0.8  0.931449  0.967610  0.490455\n",
      "0.9   0.9  0.938460  0.987959  0.334802\n"
     ]
    }
   ],
   "source": [
    "# Now let's calculate accuracy sensitivity and specificity for various probability cutoffs.\n",
    "cutoff_df = pd.DataFrame( columns = ['prob','accuracy','sensi','speci'])\n",
    "from sklearn.metrics import confusion_matrix\n",
    "num = [0.0,0.1,0.2,0.3,0.4,0.5,0.6,0.7,0.8,0.9]\n",
    "for i in num:\n",
    "    cm1 = metrics.confusion_matrix( y_pred_final.churn, y_pred_final[i] )\n",
    "    total1=sum(sum(cm1))\n",
    "    accuracy = (cm1[0,0]+cm1[1,1])/total1\n",
    "    sensi = cm1[0,0]/(cm1[0,0]+cm1[0,1])\n",
    "    speci = cm1[1,1]/(cm1[1,0]+cm1[1,1])\n",
    "    cutoff_df.loc[i] =[ i ,accuracy,sensi,speci]\n",
    "print(cutoff_df)"
   ]
  },
  {
   "cell_type": "code",
   "execution_count": 178,
   "metadata": {},
   "outputs": [
    {
     "data": {
      "image/png": "[encoded data removed]",
      "text/plain": [
       "<Figure size 432x288 with 1 Axes>"
      ]
     },
     "metadata": {
      "needs_background": "light"
     },
     "output_type": "display_data"
    }
   ],
   "source": [
    "# Let's plot accuracy sensitivity and specificity for various probabilities.\n",
    "cutoff_df.plot.line(x='prob', y=['accuracy','sensi','speci'])\n",
    "plt.show()"
   ]
  },
  {
   "cell_type": "code",
   "execution_count": 179,
   "metadata": {},
   "outputs": [
    {
     "name": "stdout",
     "output_type": "stream",
     "text": [
      "Threshold:  [0.5113205617859724]\n"
     ]
    }
   ],
   "source": [
    "## Finidng the optimal cutoff\n",
    "import sys\n",
    "def Find_Optimal_Cutoff(target, predicted):\n",
    "\n",
    "    fpr, tpr, threshold = roc_curve(target, predicted)\n",
    "    i = np.arange(len(tpr)) \n",
    "    roc = pd.DataFrame({'tf' : pd.Series(tpr-(1-fpr), index=i), 'threshold' : pd.Series(threshold, index=i)})\n",
    "    roc_t = roc.iloc[(roc.tf-0).abs().argsort()[:1]]\n",
    "\n",
    "    return list(roc_t['threshold'])\n",
    "\n",
    "# Find optimal probability threshold\n",
    "threshold = Find_Optimal_Cutoff(y_pred_final.churn,y_pred_final.churn_prob)\n",
    "print('Threshold: ',threshold)"
   ]
  },
  {
   "cell_type": "markdown",
   "metadata": {},
   "source": [
    "Creating new column 'predicted' with 1 if Churn_Prob>0.51 else 0"
   ]
  },
  {
   "cell_type": "code",
   "execution_count": 180,
   "metadata": {},
   "outputs": [
    {
     "data": {
      "text/plain": [
       "0    8305\n",
       "1     681\n",
       "Name: churn, dtype: int64"
      ]
     },
     "execution_count": 180,
     "metadata": {},
     "output_type": "execute_result"
    }
   ],
   "source": [
    "# Creating new column 'predicted' with 1 if Churn_Prob>0.49 else 0\n",
    "y_pred_final['pred_churn'] = y_pred_final.churn_prob.map( lambda x: 1 if x > 0.49 else 0)\n",
    "\n",
    "y_pred_final.churn.value_counts()"
   ]
  },
  {
   "cell_type": "markdown",
   "metadata": {},
   "source": [
    "### Confusion matrix"
   ]
  },
  {
   "cell_type": "code",
   "execution_count": 182,
   "metadata": {},
   "outputs": [
    {
     "data": {
      "text/plain": [
       "array([[6683, 1622],\n",
       "       [ 112,  569]], dtype=int64)"
      ]
     },
     "execution_count": 182,
     "metadata": {},
     "output_type": "execute_result"
    }
   ],
   "source": [
    "# Confusion matrix \n",
    "confusion = metrics.confusion_matrix( y_pred_final.churn, y_pred_final.pred_churn )\n",
    "confusion"
   ]
  },
  {
   "cell_type": "code",
   "execution_count": 184,
   "metadata": {},
   "outputs": [
    {
     "name": "stdout",
     "output_type": "stream",
     "text": [
      "Accuracy Score :  0.8141553527709771\n",
      "Sensitivity:  0.8355359765051396\n",
      "Specificity:  0.8046959662853702\n",
      "false postive rate:  0.19530403371462973\n",
      "positive predictive value:  0.25969876768598815\n",
      "Negative predictive value:  0.9835172921265637\n"
     ]
    }
   ],
   "source": [
    "TP = confusion[1,1] # true positive \n",
    "TN = confusion[0,0] # true negatives\n",
    "FP = confusion[0,1] # false positives\n",
    "FN = confusion[1,0] # false negatives\n",
    "\n",
    "print('Accuracy Score : ',accuracy_score(y_test,y_pred_default))\n",
    "\n",
    "# Let's see the sensitivity of our logistic regression model\n",
    "print('Sensitivity: ', TP / float(TP+FN))\n",
    "\n",
    "# Let us calculate specificity\n",
    "print('Specificity: ',TN / float(TN+FP))\n",
    "\n",
    "# Calculate false postive rate - predicting churn when customer does not have churned\n",
    "print('false postive rate: ',FP/ float(TN+FP))\n",
    "\n",
    "# positive predictive value \n",
    "print('positive predictive value: ', TP / float(TP+FP))\n",
    "\n",
    "# Negative predictive value\n",
    "print('Negative predictive value: ',TN / float(TN+ FN))"
   ]
  },
  {
   "cell_type": "markdown",
   "metadata": {},
   "source": [
    "As we can see Above LogisticRegression giving good Accuracy with RFE"
   ]
  },
  {
   "cell_type": "markdown",
   "metadata": {},
   "source": [
    "## PCA"
   ]
  },
  {
   "cell_type": "markdown",
   "metadata": {},
   "source": [
    "Seems There is a class imbalance in curn event rate \n",
    "\n",
    "- We can add class_weight = 'balanced'\n",
    "- Lets do PCA"
   ]
  },
  {
   "cell_type": "code",
   "execution_count": 185,
   "metadata": {},
   "outputs": [],
   "source": [
    "#Improting the PCA module\n",
    "from sklearn.decomposition import PCA\n",
    "pca = PCA(svd_solver='randomized', random_state=42)"
   ]
  },
  {
   "cell_type": "code",
   "execution_count": 186,
   "metadata": {},
   "outputs": [
    {
     "data": {
      "text/plain": [
       "PCA(copy=True, iterated_power='auto', n_components=None, random_state=42,\n",
       "  svd_solver='randomized', tol=0.0, whiten=False)"
      ]
     },
     "execution_count": 186,
     "metadata": {},
     "output_type": "execute_result"
    }
   ],
   "source": [
    "#Doing the PCA on the train data\n",
    "pca.fit(X_train)"
   ]
  },
  {
   "cell_type": "code",
   "execution_count": 187,
   "metadata": {},
   "outputs": [
    {
     "name": "stdout",
     "output_type": "stream",
     "text": [
      "[[-7.16082329e-02 -7.58476912e-02 -5.49981692e-02 ...  1.05050469e-01\n",
      "  -3.23327882e-02  1.59044819e-01]\n",
      " [ 1.81649180e-01  2.03329378e-01  2.10972178e-01 ...  1.10194993e-01\n",
      "   3.56770562e-02 -4.97269756e-02]\n",
      " [ 7.33882825e-02  1.01500289e-01  8.89454455e-02 ...  1.70773099e-01\n",
      "   2.39241078e-02 -1.92846387e-01]\n",
      " ...\n",
      " [-3.72322101e-03  1.64035896e-03  6.43927197e-03 ... -1.38768276e-02\n",
      "  -1.03899072e-03  5.13953056e-02]\n",
      " [-2.44773222e-04 -1.09687011e-03 -1.63546124e-03 ... -1.44040729e-03\n",
      "  -1.07442955e-03  2.33927961e-02]\n",
      " [-4.14881344e-16 -1.13512278e-17  1.80548984e-16 ...  4.44089210e-16\n",
      "   8.77870718e-01 -9.88792381e-17]]\n"
     ]
    },
    {
     "data": {
      "text/html": [
       "<div>\n",
       "<style scoped>\n",
       "    .dataframe tbody tr th:only-of-type {\n",
       "        vertical-align: middle;\n",
       "    }\n",
       "\n",
       "    .dataframe tbody tr th {\n",
       "        vertical-align: top;\n",
       "    }\n",
       "\n",
       "    .dataframe thead th {\n",
       "        text-align: right;\n",
       "    }\n",
       "</style>\n",
       "<table border=\"1\" class=\"dataframe\">\n",
       "  <thead>\n",
       "    <tr style=\"text-align: right;\">\n",
       "      <th></th>\n",
       "      <th>PC1</th>\n",
       "      <th>PC2</th>\n",
       "      <th>PC3</th>\n",
       "      <th>PC4</th>\n",
       "      <th>PC5</th>\n",
       "      <th>PC6</th>\n",
       "      <th>PC7</th>\n",
       "      <th>PC8</th>\n",
       "      <th>PC9</th>\n",
       "      <th>PC10</th>\n",
       "      <th>PC11</th>\n",
       "      <th>PC12</th>\n",
       "      <th>PC13</th>\n",
       "      <th>PC14</th>\n",
       "      <th>PC15</th>\n",
       "      <th>PC16</th>\n",
       "      <th>Feature</th>\n",
       "    </tr>\n",
       "  </thead>\n",
       "  <tbody>\n",
       "    <tr>\n",
       "      <th>0</th>\n",
       "      <td>-0.071608</td>\n",
       "      <td>0.181649</td>\n",
       "      <td>0.073388</td>\n",
       "      <td>0.023440</td>\n",
       "      <td>0.029876</td>\n",
       "      <td>-0.011283</td>\n",
       "      <td>-0.053877</td>\n",
       "      <td>0.003440</td>\n",
       "      <td>0.069421</td>\n",
       "      <td>0.124842</td>\n",
       "      <td>0.121830</td>\n",
       "      <td>0.178930</td>\n",
       "      <td>0.050723</td>\n",
       "      <td>-0.144494</td>\n",
       "      <td>0.008711</td>\n",
       "      <td>0.009645</td>\n",
       "      <td>arpu_6</td>\n",
       "    </tr>\n",
       "    <tr>\n",
       "      <th>1</th>\n",
       "      <td>-0.075848</td>\n",
       "      <td>0.203329</td>\n",
       "      <td>0.101500</td>\n",
       "      <td>0.027376</td>\n",
       "      <td>0.031417</td>\n",
       "      <td>-0.004705</td>\n",
       "      <td>0.020146</td>\n",
       "      <td>-0.002850</td>\n",
       "      <td>0.086122</td>\n",
       "      <td>-0.073414</td>\n",
       "      <td>0.009772</td>\n",
       "      <td>-0.006150</td>\n",
       "      <td>0.008098</td>\n",
       "      <td>-0.092961</td>\n",
       "      <td>-0.007768</td>\n",
       "      <td>0.029356</td>\n",
       "      <td>arpu_7</td>\n",
       "    </tr>\n",
       "    <tr>\n",
       "      <th>2</th>\n",
       "      <td>-0.054998</td>\n",
       "      <td>0.210972</td>\n",
       "      <td>0.088945</td>\n",
       "      <td>0.015902</td>\n",
       "      <td>0.030417</td>\n",
       "      <td>0.001962</td>\n",
       "      <td>0.067316</td>\n",
       "      <td>-0.012433</td>\n",
       "      <td>0.094224</td>\n",
       "      <td>-0.156234</td>\n",
       "      <td>-0.037602</td>\n",
       "      <td>-0.086543</td>\n",
       "      <td>0.021781</td>\n",
       "      <td>-0.064453</td>\n",
       "      <td>-0.021618</td>\n",
       "      <td>0.022136</td>\n",
       "      <td>arpu_8</td>\n",
       "    </tr>\n",
       "    <tr>\n",
       "      <th>3</th>\n",
       "      <td>-0.110705</td>\n",
       "      <td>0.050615</td>\n",
       "      <td>0.084110</td>\n",
       "      <td>-0.020984</td>\n",
       "      <td>0.000926</td>\n",
       "      <td>-0.188462</td>\n",
       "      <td>-0.001429</td>\n",
       "      <td>0.249623</td>\n",
       "      <td>-0.062227</td>\n",
       "      <td>-0.005478</td>\n",
       "      <td>0.046304</td>\n",
       "      <td>0.098845</td>\n",
       "      <td>0.085991</td>\n",
       "      <td>-0.073479</td>\n",
       "      <td>0.049795</td>\n",
       "      <td>-0.114890</td>\n",
       "      <td>onnet_mou_6</td>\n",
       "    </tr>\n",
       "    <tr>\n",
       "      <th>4</th>\n",
       "      <td>-0.116117</td>\n",
       "      <td>0.059803</td>\n",
       "      <td>0.100101</td>\n",
       "      <td>-0.022340</td>\n",
       "      <td>-0.005000</td>\n",
       "      <td>-0.194968</td>\n",
       "      <td>0.029470</td>\n",
       "      <td>0.260804</td>\n",
       "      <td>-0.061730</td>\n",
       "      <td>-0.091508</td>\n",
       "      <td>0.008269</td>\n",
       "      <td>0.028497</td>\n",
       "      <td>0.078039</td>\n",
       "      <td>-0.039861</td>\n",
       "      <td>0.020302</td>\n",
       "      <td>-0.119391</td>\n",
       "      <td>onnet_mou_7</td>\n",
       "    </tr>\n",
       "    <tr>\n",
       "      <th>5</th>\n",
       "      <td>-0.107730</td>\n",
       "      <td>0.071644</td>\n",
       "      <td>0.099829</td>\n",
       "      <td>-0.022908</td>\n",
       "      <td>-0.003092</td>\n",
       "      <td>-0.178798</td>\n",
       "      <td>0.052028</td>\n",
       "      <td>0.235163</td>\n",
       "      <td>-0.052207</td>\n",
       "      <td>-0.129029</td>\n",
       "      <td>-0.015405</td>\n",
       "      <td>-0.006035</td>\n",
       "      <td>0.076506</td>\n",
       "      <td>-0.011801</td>\n",
       "      <td>-0.007710</td>\n",
       "      <td>-0.108818</td>\n",
       "      <td>onnet_mou_8</td>\n",
       "    </tr>\n",
       "    <tr>\n",
       "      <th>6</th>\n",
       "      <td>-0.128716</td>\n",
       "      <td>0.120114</td>\n",
       "      <td>0.077352</td>\n",
       "      <td>0.000364</td>\n",
       "      <td>-0.032293</td>\n",
       "      <td>0.089085</td>\n",
       "      <td>-0.012101</td>\n",
       "      <td>-0.211852</td>\n",
       "      <td>0.036704</td>\n",
       "      <td>0.132225</td>\n",
       "      <td>0.042308</td>\n",
       "      <td>0.115419</td>\n",
       "      <td>-0.045233</td>\n",
       "      <td>0.017824</td>\n",
       "      <td>0.032315</td>\n",
       "      <td>0.019623</td>\n",
       "      <td>offnet_mou_6</td>\n",
       "    </tr>\n",
       "    <tr>\n",
       "      <th>7</th>\n",
       "      <td>-0.135787</td>\n",
       "      <td>0.132160</td>\n",
       "      <td>0.098108</td>\n",
       "      <td>0.008366</td>\n",
       "      <td>-0.037891</td>\n",
       "      <td>0.100461</td>\n",
       "      <td>0.032131</td>\n",
       "      <td>-0.229082</td>\n",
       "      <td>0.044677</td>\n",
       "      <td>0.031160</td>\n",
       "      <td>-0.026510</td>\n",
       "      <td>0.022282</td>\n",
       "      <td>-0.068903</td>\n",
       "      <td>0.080808</td>\n",
       "      <td>-0.012175</td>\n",
       "      <td>0.030939</td>\n",
       "      <td>offnet_mou_7</td>\n",
       "    </tr>\n",
       "    <tr>\n",
       "      <th>8</th>\n",
       "      <td>-0.121342</td>\n",
       "      <td>0.145662</td>\n",
       "      <td>0.089168</td>\n",
       "      <td>0.001112</td>\n",
       "      <td>-0.027804</td>\n",
       "      <td>0.094148</td>\n",
       "      <td>0.059207</td>\n",
       "      <td>-0.210002</td>\n",
       "      <td>0.047367</td>\n",
       "      <td>-0.029310</td>\n",
       "      <td>-0.051576</td>\n",
       "      <td>-0.024058</td>\n",
       "      <td>-0.064031</td>\n",
       "      <td>0.090577</td>\n",
       "      <td>-0.047673</td>\n",
       "      <td>0.022617</td>\n",
       "      <td>offnet_mou_8</td>\n",
       "    </tr>\n",
       "    <tr>\n",
       "      <th>9</th>\n",
       "      <td>-0.018817</td>\n",
       "      <td>0.032263</td>\n",
       "      <td>0.007489</td>\n",
       "      <td>0.157728</td>\n",
       "      <td>0.270293</td>\n",
       "      <td>-0.069025</td>\n",
       "      <td>0.047694</td>\n",
       "      <td>-0.052848</td>\n",
       "      <td>0.021700</td>\n",
       "      <td>-0.000729</td>\n",
       "      <td>0.002252</td>\n",
       "      <td>-0.038445</td>\n",
       "      <td>-0.008886</td>\n",
       "      <td>0.056195</td>\n",
       "      <td>-0.000275</td>\n",
       "      <td>0.009775</td>\n",
       "      <td>roam_ic_mou_6</td>\n",
       "    </tr>\n",
       "  </tbody>\n",
       "</table>\n",
       "</div>"
      ],
      "text/plain": [
       "        PC1       PC2       PC3       PC4       PC5       PC6       PC7  \\\n",
       "0 -0.071608  0.181649  0.073388  0.023440  0.029876 -0.011283 -0.053877   \n",
       "1 -0.075848  0.203329  0.101500  0.027376  0.031417 -0.004705  0.020146   \n",
       "2 -0.054998  0.210972  0.088945  0.015902  0.030417  0.001962  0.067316   \n",
       "3 -0.110705  0.050615  0.084110 -0.020984  0.000926 -0.188462 -0.001429   \n",
       "4 -0.116117  0.059803  0.100101 -0.022340 -0.005000 -0.194968  0.029470   \n",
       "5 -0.107730  0.071644  0.099829 -0.022908 -0.003092 -0.178798  0.052028   \n",
       "6 -0.128716  0.120114  0.077352  0.000364 -0.032293  0.089085 -0.012101   \n",
       "7 -0.135787  0.132160  0.098108  0.008366 -0.037891  0.100461  0.032131   \n",
       "8 -0.121342  0.145662  0.089168  0.001112 -0.027804  0.094148  0.059207   \n",
       "9 -0.018817  0.032263  0.007489  0.157728  0.270293 -0.069025  0.047694   \n",
       "\n",
       "        PC8       PC9      PC10      PC11      PC12      PC13      PC14  \\\n",
       "0  0.003440  0.069421  0.124842  0.121830  0.178930  0.050723 -0.144494   \n",
       "1 -0.002850  0.086122 -0.073414  0.009772 -0.006150  0.008098 -0.092961   \n",
       "2 -0.012433  0.094224 -0.156234 -0.037602 -0.086543  0.021781 -0.064453   \n",
       "3  0.249623 -0.062227 -0.005478  0.046304  0.098845  0.085991 -0.073479   \n",
       "4  0.260804 -0.061730 -0.091508  0.008269  0.028497  0.078039 -0.039861   \n",
       "5  0.235163 -0.052207 -0.129029 -0.015405 -0.006035  0.076506 -0.011801   \n",
       "6 -0.211852  0.036704  0.132225  0.042308  0.115419 -0.045233  0.017824   \n",
       "7 -0.229082  0.044677  0.031160 -0.026510  0.022282 -0.068903  0.080808   \n",
       "8 -0.210002  0.047367 -0.029310 -0.051576 -0.024058 -0.064031  0.090577   \n",
       "9 -0.052848  0.021700 -0.000729  0.002252 -0.038445 -0.008886  0.056195   \n",
       "\n",
       "       PC15      PC16        Feature  \n",
       "0  0.008711  0.009645         arpu_6  \n",
       "1 -0.007768  0.029356         arpu_7  \n",
       "2 -0.021618  0.022136         arpu_8  \n",
       "3  0.049795 -0.114890    onnet_mou_6  \n",
       "4  0.020302 -0.119391    onnet_mou_7  \n",
       "5 -0.007710 -0.108818    onnet_mou_8  \n",
       "6  0.032315  0.019623   offnet_mou_6  \n",
       "7 -0.012175  0.030939   offnet_mou_7  \n",
       "8 -0.047673  0.022617   offnet_mou_8  \n",
       "9 -0.000275  0.009775  roam_ic_mou_6  "
      ]
     },
     "execution_count": 187,
     "metadata": {},
     "output_type": "execute_result"
    }
   ],
   "source": [
    "print(pca.components_)\n",
    "colnames = list(X_train.columns)\n",
    "# pcs_df = pd.DataFrame({'PC1':pca.components_[0],'PC2':pca.components_[1], 'Feature':colnames})\n",
    "# pcs_df.head(10)\n",
    "pcs_df = pd.DataFrame({'PC1':pca.components_[0],'PC2':pca.components_[1], \n",
    "                       'PC3':pca.components_[2],'PC4':pca.components_[3],\n",
    "                       'PC5':pca.components_[4],'PC6':pca.components_[5],\n",
    "                       'PC7':pca.components_[6],'PC8':pca.components_[7],\n",
    "                       'PC9':pca.components_[8],'PC10':pca.components_[9],\n",
    "                       'PC11':pca.components_[10],'PC12':pca.components_[11],'PC13':pca.components_[12],\n",
    "                       'PC14':pca.components_[13],'PC15':pca.components_[14],'PC16':pca.components_[15],\n",
    "                       'Feature':colnames})\n",
    "pcs_df.head(10)"
   ]
  },
  {
   "cell_type": "code",
   "execution_count": 188,
   "metadata": {},
   "outputs": [
    {
     "data": {
      "image/png": "[encoded data removed]",
      "text/plain": [
       "<Figure size 720x576 with 1 Axes>"
      ]
     },
     "metadata": {
      "needs_background": "light"
     },
     "output_type": "display_data"
    }
   ],
   "source": [
    "%matplotlib inline\n",
    "fig = plt.figure(figsize = (10,8))\n",
    "plt.plot(np.cumsum(pca.explained_variance_ratio_))\n",
    "plt.xlabel('number of components')\n",
    "plt.ylabel('cumulative explained variance')\n",
    "plt.show()"
   ]
  },
  {
   "cell_type": "markdown",
   "metadata": {},
   "source": [
    "As we can see 74 components explain 95% of variance in the data"
   ]
  },
  {
   "cell_type": "code",
   "execution_count": 189,
   "metadata": {},
   "outputs": [
    {
     "data": {
      "text/plain": [
       "74"
      ]
     },
     "execution_count": 189,
     "metadata": {},
     "output_type": "execute_result"
    }
   ],
   "source": [
    "#PCA explaining 95% of the variance\n",
    "pca = PCA(0.95,random_state=42)\n",
    "pca.fit(X_train)\n",
    "#Number of PC features required to explain 90% of the variance\n",
    "pca.n_components_"
   ]
  },
  {
   "cell_type": "code",
   "execution_count": 190,
   "metadata": {},
   "outputs": [
    {
     "data": {
      "text/plain": [
       "(20967, 74)"
      ]
     },
     "execution_count": 190,
     "metadata": {},
     "output_type": "execute_result"
    }
   ],
   "source": [
    "from sklearn.decomposition import IncrementalPCA\n",
    "pca_final = IncrementalPCA(n_components=74)\n",
    "\n",
    "df_train_pca = pca_final.fit_transform(X_train)\n",
    "df_train_pca.shape"
   ]
  },
  {
   "cell_type": "code",
   "execution_count": 191,
   "metadata": {},
   "outputs": [
    {
     "data": {
      "text/plain": [
       "(8986, 74)"
      ]
     },
     "execution_count": 191,
     "metadata": {},
     "output_type": "execute_result"
    }
   ],
   "source": [
    "#Applying selected components to the test data\n",
    "df_test_pca = pca_final.transform(X_test)\n",
    "df_test_pca.shape"
   ]
  },
  {
   "cell_type": "markdown",
   "metadata": {},
   "source": [
    "### LogisticRegression model with PCA\n",
    "\n",
    "- Now lets do the modeling with selected 74 pca feature\n",
    "- We also needs to do the class imbalance with class_width = balanced"
   ]
  },
  {
   "cell_type": "code",
   "execution_count": 192,
   "metadata": {},
   "outputs": [],
   "source": [
    "#Training the model on the train data\n",
    "from sklearn.linear_model import LogisticRegression\n",
    "from sklearn import metrics\n",
    "\n",
    "learner_pca = LogisticRegression(class_weight='balanced')\n",
    "model_pca = learner_pca.fit(df_train_pca,y_train)"
   ]
  },
  {
   "cell_type": "markdown",
   "metadata": {},
   "source": [
    "- Making prediction on the test data"
   ]
  },
  {
   "cell_type": "code",
   "execution_count": 193,
   "metadata": {},
   "outputs": [
    {
     "data": {
      "text/plain": [
       "'0.91'"
      ]
     },
     "execution_count": 193,
     "metadata": {},
     "output_type": "execute_result"
    }
   ],
   "source": [
    "pred_probs_test = model_pca.predict_proba(df_test_pca)[:,1]\n",
    "\"{:2.2}\".format(metrics.roc_auc_score(y_test, pred_probs_test))"
   ]
  },
  {
   "cell_type": "code",
   "execution_count": 195,
   "metadata": {},
   "outputs": [],
   "source": [
    "#Making prediction on the test data\n",
    "pred_test = model_pca.predict_proba(df_test_pca)\n",
    "y_pred_default = model_pca.predict(df_test_pca)"
   ]
  },
  {
   "cell_type": "code",
   "execution_count": 196,
   "metadata": {},
   "outputs": [
    {
     "name": "stdout",
     "output_type": "stream",
     "text": [
      "[[6958 1347]\n",
      " [ 107  574]]\n",
      "0.8381927442688627\n"
     ]
    }
   ],
   "source": [
    "# print(classification_report(y_test,y_pred_default))\n",
    "print(confusion_matrix(y_test,y_pred_default))\n",
    "print(accuracy_score(y_test,y_pred_default))"
   ]
  },
  {
   "cell_type": "code",
   "execution_count": 197,
   "metadata": {},
   "outputs": [],
   "source": [
    "# Converting y_pred to a dataframe which is an array\n",
    "y_pred_df = pd.DataFrame(pred_test)\n",
    "# Converting to column dataframe\n",
    "y_pred_1 = y_pred_df.iloc[:,[1]]\n",
    "\n",
    "# Removing index for both dataframes to append them side by side \n",
    "y_pred_1.reset_index(drop=True, inplace=True)"
   ]
  },
  {
   "cell_type": "code",
   "execution_count": 198,
   "metadata": {},
   "outputs": [],
   "source": [
    "# Converting y_pred to a dataframe which is an array\n",
    "y_pred_df = pd.DataFrame(pred_test)\n",
    "# Converting to column dataframe\n",
    "y_pred_1 = y_pred_df.iloc[:,[1]]\n",
    "\n",
    "# Removing index for both dataframes to append them side by side \n",
    "y_pred_1.reset_index(drop=True, inplace=True)\n",
    "y_test.reset_index(drop=True, inplace=True)\n",
    "# Appending y_test_df and y_pred_1\n",
    "y_pred_final = pd.concat([y_test,y_pred_1],axis=1)\n",
    "\n",
    "# Renaming the column \n",
    "y_pred_final= y_pred_final.rename(columns={ 1 : 'churn_prob'})"
   ]
  },
  {
   "cell_type": "markdown",
   "metadata": {},
   "source": [
    "#### Hyper parameter tuning - logistic regression with PCA"
   ]
  },
  {
   "cell_type": "code",
   "execution_count": 199,
   "metadata": {},
   "outputs": [
    {
     "name": "stdout",
     "output_type": "stream",
     "text": [
      "ROC_AUC score:  0.9090997497217411\n"
     ]
    }
   ],
   "source": [
    "from sklearn.metrics import roc_curve, auc\n",
    "fpr, tpr, thresholds =roc_curve(y_pred_final.churn,y_pred_final.churn_prob)\n",
    "roc_auc = auc(fpr, tpr)\n",
    "print('ROC_AUC score: ',roc_auc)"
   ]
  },
  {
   "cell_type": "code",
   "execution_count": 200,
   "metadata": {},
   "outputs": [],
   "source": [
    "#ROC Curve\n",
    "def draw_roc( actual, probs ):\n",
    "    fpr, tpr, thresholds = metrics.roc_curve( actual, probs,\n",
    "                                              drop_intermediate = False )\n",
    "    auc_score = metrics.roc_auc_score( actual, probs )\n",
    "    plt.figure(figsize=(6, 6))\n",
    "    plt.plot( fpr, tpr, label='ROC curve (area = %0.2f)' % auc_score )\n",
    "    plt.plot([0, 1], [0, 1], 'k--')\n",
    "    plt.xlim([0.0, 1.0])\n",
    "    plt.ylim([0.0, 1.05])\n",
    "    plt.xlabel('False Positive Rate or [1 - True Negative Rate]')\n",
    "    plt.ylabel('True Positive Rate')\n",
    "    plt.title('Receiver operating characteristic example')\n",
    "    plt.legend(loc=\"lower right\")\n",
    "    plt.show()\n",
    "\n",
    "    return fpr, tpr, thresholds"
   ]
  },
  {
   "cell_type": "code",
   "execution_count": 201,
   "metadata": {},
   "outputs": [
    {
     "data": {
      "image/png": "[encoded data removed]",
      "text/plain": [
       "<Figure size 432x432 with 1 Axes>"
      ]
     },
     "metadata": {
      "needs_background": "light"
     },
     "output_type": "display_data"
    },
    {
     "data": {
      "text/plain": [
       "(array([0.        , 0.        , 0.        , ..., 0.99975918, 0.99987959,\n",
       "        1.        ]),\n",
       " array([0.00146843, 0.00293686, 0.00440529, ..., 1.        , 1.        ,\n",
       "        1.        ]),\n",
       " array([9.98719659e-01, 9.98287059e-01, 9.98256874e-01, ...,\n",
       "        1.16843398e-05, 1.11335821e-05, 1.20919105e-06]))"
      ]
     },
     "execution_count": 201,
     "metadata": {},
     "output_type": "execute_result"
    }
   ],
   "source": [
    "draw_roc(y_pred_final.churn, y_pred_final.churn_prob)"
   ]
  },
  {
   "cell_type": "code",
   "execution_count": 203,
   "metadata": {},
   "outputs": [
    {
     "data": {
      "text/html": [
       "<div>\n",
       "<style scoped>\n",
       "    .dataframe tbody tr th:only-of-type {\n",
       "        vertical-align: middle;\n",
       "    }\n",
       "\n",
       "    .dataframe tbody tr th {\n",
       "        vertical-align: top;\n",
       "    }\n",
       "\n",
       "    .dataframe thead th {\n",
       "        text-align: right;\n",
       "    }\n",
       "</style>\n",
       "<table border=\"1\" class=\"dataframe\">\n",
       "  <thead>\n",
       "    <tr style=\"text-align: right;\">\n",
       "      <th></th>\n",
       "      <th>churn</th>\n",
       "      <th>churn_prob</th>\n",
       "      <th>0.0</th>\n",
       "      <th>0.1</th>\n",
       "      <th>0.2</th>\n",
       "      <th>0.3</th>\n",
       "      <th>0.4</th>\n",
       "      <th>0.5</th>\n",
       "      <th>0.6</th>\n",
       "      <th>0.7</th>\n",
       "      <th>0.8</th>\n",
       "      <th>0.9</th>\n",
       "    </tr>\n",
       "  </thead>\n",
       "  <tbody>\n",
       "    <tr>\n",
       "      <th>0</th>\n",
       "      <td>0</td>\n",
       "      <td>0.006832</td>\n",
       "      <td>1</td>\n",
       "      <td>0</td>\n",
       "      <td>0</td>\n",
       "      <td>0</td>\n",
       "      <td>0</td>\n",
       "      <td>0</td>\n",
       "      <td>0</td>\n",
       "      <td>0</td>\n",
       "      <td>0</td>\n",
       "      <td>0</td>\n",
       "    </tr>\n",
       "    <tr>\n",
       "      <th>1</th>\n",
       "      <td>0</td>\n",
       "      <td>0.049687</td>\n",
       "      <td>1</td>\n",
       "      <td>0</td>\n",
       "      <td>0</td>\n",
       "      <td>0</td>\n",
       "      <td>0</td>\n",
       "      <td>0</td>\n",
       "      <td>0</td>\n",
       "      <td>0</td>\n",
       "      <td>0</td>\n",
       "      <td>0</td>\n",
       "    </tr>\n",
       "    <tr>\n",
       "      <th>2</th>\n",
       "      <td>0</td>\n",
       "      <td>0.013469</td>\n",
       "      <td>1</td>\n",
       "      <td>0</td>\n",
       "      <td>0</td>\n",
       "      <td>0</td>\n",
       "      <td>0</td>\n",
       "      <td>0</td>\n",
       "      <td>0</td>\n",
       "      <td>0</td>\n",
       "      <td>0</td>\n",
       "      <td>0</td>\n",
       "    </tr>\n",
       "    <tr>\n",
       "      <th>3</th>\n",
       "      <td>0</td>\n",
       "      <td>0.253107</td>\n",
       "      <td>1</td>\n",
       "      <td>1</td>\n",
       "      <td>1</td>\n",
       "      <td>0</td>\n",
       "      <td>0</td>\n",
       "      <td>0</td>\n",
       "      <td>0</td>\n",
       "      <td>0</td>\n",
       "      <td>0</td>\n",
       "      <td>0</td>\n",
       "    </tr>\n",
       "    <tr>\n",
       "      <th>4</th>\n",
       "      <td>0</td>\n",
       "      <td>0.515866</td>\n",
       "      <td>1</td>\n",
       "      <td>1</td>\n",
       "      <td>1</td>\n",
       "      <td>1</td>\n",
       "      <td>1</td>\n",
       "      <td>1</td>\n",
       "      <td>0</td>\n",
       "      <td>0</td>\n",
       "      <td>0</td>\n",
       "      <td>0</td>\n",
       "    </tr>\n",
       "  </tbody>\n",
       "</table>\n",
       "</div>"
      ],
      "text/plain": [
       "   churn  churn_prob  0.0  0.1  0.2  0.3  0.4  0.5  0.6  0.7  0.8  0.9\n",
       "0      0    0.006832    1    0    0    0    0    0    0    0    0    0\n",
       "1      0    0.049687    1    0    0    0    0    0    0    0    0    0\n",
       "2      0    0.013469    1    0    0    0    0    0    0    0    0    0\n",
       "3      0    0.253107    1    1    1    0    0    0    0    0    0    0\n",
       "4      0    0.515866    1    1    1    1    1    1    0    0    0    0"
      ]
     },
     "execution_count": 203,
     "metadata": {},
     "output_type": "execute_result"
    }
   ],
   "source": [
    "# Let's create columns with different probability cutoffs \n",
    "numbers = [float(x)/10 for x in range(10)]\n",
    "for i in numbers:\n",
    "    y_pred_final[i]= y_pred_final.churn_prob.map( lambda x: 1 if x > i else 0)\n",
    "y_pred_final.head()\n"
   ]
  },
  {
   "cell_type": "markdown",
   "metadata": {},
   "source": [
    "- Now let's calculate accuracy sensitivity and specificity for various probability cutoffs."
   ]
  },
  {
   "cell_type": "code",
   "execution_count": 204,
   "metadata": {},
   "outputs": [
    {
     "name": "stdout",
     "output_type": "stream",
     "text": [
      "     prob  accuracy     sensi     speci\n",
      "0.0   0.0  0.075785  0.000000  1.000000\n",
      "0.1   0.1  0.412864  0.366526  0.977974\n",
      "0.2   0.2  0.580570  0.550030  0.953010\n",
      "0.3   0.3  0.690407  0.671042  0.926579\n",
      "0.4   0.4  0.772980  0.763757  0.885463\n",
      "0.5   0.5  0.838193  0.837809  0.842878\n",
      "0.6   0.6  0.880258  0.888983  0.773862\n",
      "0.7   0.7  0.908191  0.924985  0.703377\n",
      "0.8   0.8  0.928556  0.957375  0.577093\n",
      "0.9   0.9  0.939350  0.983745  0.397944\n"
     ]
    }
   ],
   "source": [
    "# Now let's calculate accuracy sensitivity and specificity for various probability cutoffs.\n",
    "cutoff_df = pd.DataFrame( columns = ['prob','accuracy','sensi','speci'])\n",
    "from sklearn.metrics import confusion_matrix\n",
    "num = [0.0,0.1,0.2,0.3,0.4,0.5,0.6,0.7,0.8,0.9]\n",
    "for i in num:\n",
    "    cm1 = metrics.confusion_matrix( y_pred_final.churn, y_pred_final[i] )\n",
    "    total1=sum(sum(cm1))\n",
    "    accuracy = (cm1[0,0]+cm1[1,1])/total1\n",
    "    sensi = cm1[0,0]/(cm1[0,0]+cm1[0,1])\n",
    "    speci = cm1[1,1]/(cm1[1,0]+cm1[1,1])\n",
    "    cutoff_df.loc[i] =[ i ,accuracy,sensi,speci]\n",
    "print(cutoff_df)"
   ]
  },
  {
   "cell_type": "code",
   "execution_count": 205,
   "metadata": {},
   "outputs": [
    {
     "data": {
      "text/plain": [
       "<matplotlib.axes._subplots.AxesSubplot at 0x60dc03860>"
      ]
     },
     "execution_count": 205,
     "metadata": {},
     "output_type": "execute_result"
    },
    {
     "data": {
      "image/png": "[encoded data removed]",
      "text/plain": [
       "<Figure size 432x288 with 1 Axes>"
      ]
     },
     "metadata": {
      "needs_background": "light"
     },
     "output_type": "display_data"
    }
   ],
   "source": [
    "# Let's plot accuracy sensitivity and specificity for various probabilities.\n",
    "cutoff_df.plot.line(x='prob', y=['accuracy','sensi','speci'])"
   ]
  },
  {
   "cell_type": "code",
   "execution_count": 210,
   "metadata": {},
   "outputs": [
    {
     "name": "stdout",
     "output_type": "stream",
     "text": [
      "Threshold:  [0.5043684085587782]\n"
     ]
    }
   ],
   "source": [
    "## Finidng the optimal cutoff\n",
    "import sys\n",
    "def Find_Optimal_Cutoff(target, predicted):\n",
    "\n",
    "    fpr, tpr, threshold = roc_curve(target, predicted)\n",
    "    i = np.arange(len(tpr)) \n",
    "    roc = pd.DataFrame({'tf' : pd.Series(tpr-(1-fpr), index=i), 'threshold' : pd.Series(threshold, index=i)})\n",
    "    roc_t = roc.iloc[(roc.tf-0).abs().argsort()[:1]]\n",
    "\n",
    "    return list(roc_t['threshold'])\n",
    "\n",
    "# Find optimal probability threshold\n",
    "threshold = Find_Optimal_Cutoff(y_pred_final.churn,y_pred_final.churn_prob)\n",
    "print('Threshold: ',threshold)"
   ]
  },
  {
   "cell_type": "markdown",
   "metadata": {},
   "source": [
    "Creating new column 'predicted' with 1 if Churn_Prob>0.50 else 0"
   ]
  },
  {
   "cell_type": "code",
   "execution_count": 211,
   "metadata": {},
   "outputs": [
    {
     "data": {
      "text/plain": [
       "0    8305\n",
       "1     681\n",
       "Name: churn, dtype: int64"
      ]
     },
     "execution_count": 211,
     "metadata": {},
     "output_type": "execute_result"
    }
   ],
   "source": [
    "# Creating new column 'predicted' with 1 if Churn_Prob>0.49 else 0\n",
    "y_pred_final['pred_churn'] = y_pred_final.churn_prob.map( lambda x: 1 if x > 0.49 else 0)\n",
    "y_pred_final.churn.value_counts()"
   ]
  },
  {
   "cell_type": "code",
   "execution_count": 212,
   "metadata": {},
   "outputs": [
    {
     "data": {
      "text/plain": [
       "array([[6905, 1400],\n",
       "       [ 104,  577]], dtype=int64)"
      ]
     },
     "execution_count": 212,
     "metadata": {},
     "output_type": "execute_result"
    }
   ],
   "source": [
    "# Confusion matrix \n",
    "confusion = metrics.confusion_matrix( y_pred_final.churn, y_pred_final.pred_churn )\n",
    "confusion"
   ]
  },
  {
   "cell_type": "markdown",
   "metadata": {},
   "source": [
    "#### Logistic Regression model matrics wit PCA"
   ]
  },
  {
   "cell_type": "code",
   "execution_count": 213,
   "metadata": {},
   "outputs": [
    {
     "name": "stdout",
     "output_type": "stream",
     "text": [
      "Accuracy Score on test data:  0.8381927442688627\n",
      "Sensitivity:  0.8472834067547724\n",
      "Specificity:  0.831426851294401\n",
      "false postive rate:  0.16857314870559903\n",
      "positive predictive value:  0.29185634800202326\n",
      "Negative predictive value:  0.985161934655443\n",
      "Misclassification Rate:  0.16737146672601824\n"
     ]
    }
   ],
   "source": [
    "TP = confusion[1,1] # true positive \n",
    "TN = confusion[0,0] # true negatives\n",
    "FP = confusion[0,1] # false positives\n",
    "FN = confusion[1,0] # false negatives\n",
    "\n",
    "print('Accuracy Score on test data: ', accuracy_score(y_test,y_pred_default))\n",
    "\n",
    "# Let's see the sensitivity of our logistic regression model\n",
    "print('Sensitivity: ', TP / float(TP+FN))\n",
    "\n",
    "# Let us calculate specificity\n",
    "print('Specificity: ',TN / float(TN+FP))\n",
    "\n",
    "# Calculate false postive rate - predicting churn when customer does not have churned\n",
    "print('false postive rate: ',FP/ float(TN+FP))\n",
    "\n",
    "# positive predictive value \n",
    "print('positive predictive value: ', TP / float(TP+FP))\n",
    "\n",
    "# Negative predictive value\n",
    "print('Negative predictive value: ',TN / float(TN+ FN))\n",
    "\n",
    "## Misclassification rate\n",
    "\n",
    "print('Misclassification Rate: ',(FN+FP)/(TP+TN+FP+FN))"
   ]
  },
  {
   "cell_type": "markdown",
   "metadata": {},
   "source": [
    "#### As we can see Above LogisticRegression giving good Accuracy with PCA and with RFE "
   ]
  },
  {
   "cell_type": "markdown",
   "metadata": {},
   "source": [
    "#### With PCA"
   ]
  },
  {
   "cell_type": "markdown",
   "metadata": {},
   "source": [
    "- Accuracy Score on test data:  0.8381927442688627\n",
    "- Sensitivity:  0.8472834067547724\n",
    "- Specificity:  0.831426851294401\n",
    "- false postive rate:  0.16857314870559903\n",
    "- positive predictive value:  0.29185634800202326\n",
    "- Negative predictive value:  0.985161934655443\n",
    "- Misclassification Rate:  0.16737146672601824"
   ]
  },
  {
   "cell_type": "markdown",
   "metadata": {},
   "source": [
    "#### With RFE"
   ]
  },
  {
   "cell_type": "markdown",
   "metadata": {},
   "source": [
    "- Accuracy Score :  0.8141553527709771\n",
    "- Sensitivity:  0.8355359765051396\n",
    "- Specificity:  0.8049367850692354\n",
    "- false postive rate:  0.1950632149307646\n",
    "- positive predictive value:  0.25993604385564184\n",
    "- Negative predictive value:  0.9835221421215242"
   ]
  },
  {
   "cell_type": "markdown",
   "metadata": {},
   "source": [
    "## DecisionTreeClassifier With PCA"
   ]
  },
  {
   "cell_type": "code",
   "execution_count": 214,
   "metadata": {},
   "outputs": [
    {
     "data": {
      "text/plain": [
       "DecisionTreeClassifier(class_weight='balanced', criterion='gini', max_depth=5,\n",
       "            max_features=None, max_leaf_nodes=None,\n",
       "            min_impurity_decrease=0.0, min_impurity_split=None,\n",
       "            min_samples_leaf=1, min_samples_split=2,\n",
       "            min_weight_fraction_leaf=0.0, presort=False, random_state=None,\n",
       "            splitter='best')"
      ]
     },
     "execution_count": 214,
     "metadata": {},
     "output_type": "execute_result"
    }
   ],
   "source": [
    "# Importing decision tree classifier from sklearn library\n",
    "from sklearn.tree import DecisionTreeClassifier\n",
    "\n",
    "# Fitting the decision tree with default hyperparameters, apart from\n",
    "# max_depth which is 5 so that we can plot and read the tree.\n",
    "dt_default = DecisionTreeClassifier(max_depth=5, class_weight='balanced')\n",
    "dt_default.fit(df_train_pca,y_train)"
   ]
  },
  {
   "cell_type": "code",
   "execution_count": 215,
   "metadata": {},
   "outputs": [
    {
     "name": "stdout",
     "output_type": "stream",
     "text": [
      "             precision    recall  f1-score   support\n",
      "\n",
      "          0       0.97      0.75      0.84      8305\n",
      "          1       0.20      0.76      0.31       681\n",
      "\n",
      "avg / total       0.92      0.75      0.80      8986\n",
      "\n",
      "[[6193 2112]\n",
      " [ 165  516]]\n",
      "Acuracy Score 0.7466058312931226\n"
     ]
    }
   ],
   "source": [
    "# Let's check the evaluation metrics of our default model\n",
    "\n",
    "# Importing classification report and confusion matrix from sklearn metrics\n",
    "from sklearn.metrics import classification_report, confusion_matrix, accuracy_score\n",
    "\n",
    "# Making predictions\n",
    "y_pred_default = dt_default.predict(df_test_pca)\n",
    "\n",
    "# from sklearn.metrics import classification_report,confusion_matrix, accuracy_score\n",
    "print(classification_report(y_test,y_pred_default))\n",
    "print(confusion_matrix(y_test,y_pred_default))\n",
    "print('Acuracy Score', accuracy_score(y_test,y_pred_default))"
   ]
  },
  {
   "cell_type": "code",
   "execution_count": 216,
   "metadata": {},
   "outputs": [
    {
     "name": "stdout",
     "output_type": "stream",
     "text": [
      "Acuracy Score 0.7466058312931226\n",
      "Sensitivity:  0.7577092511013216\n",
      "Specificity:  0.7456953642384105\n",
      "false postive rate:  0.2543046357615894\n",
      "positive predictive value:  0.1963470319634703\n",
      "Negative predictive value:  0.9740484429065744\n",
      "Misclassification Rate:  0.25339416870687737\n"
     ]
    }
   ],
   "source": [
    "confusion_tree = confusion_matrix(y_test,y_pred_default)\n",
    "TP = confusion_tree[1,1] # true positive \n",
    "TN = confusion_tree[0,0] # true negatives\n",
    "FP = confusion_tree[0,1] # false positives\n",
    "FN = confusion_tree[1,0] # false negatives\n",
    "\n",
    "print('Acuracy Score', accuracy_score(y_test,y_pred_default))\n",
    "\n",
    "# Let's see the sensitivity of our logistic regression model\n",
    "print('Sensitivity: ', TP / float(TP+FN))\n",
    "\n",
    "# Let us calculate specificity\n",
    "print('Specificity: ',TN / float(TN+FP))\n",
    "\n",
    "# Calculate false postive rate - predicting churn when customer does not have churned\n",
    "print('false postive rate: ',FP/ float(TN+FP))\n",
    "\n",
    "# positive predictive value \n",
    "print('positive predictive value: ', TP / float(TP+FP))\n",
    "\n",
    "# Negative predictive value\n",
    "print('Negative predictive value: ',TN / float(TN+ FN))\n",
    "\n",
    "## Misclassification rate\n",
    "\n",
    "print('Misclassification Rate: ',(FN+FP)/(TP+TN+FP+FN))"
   ]
  },
  {
   "cell_type": "markdown",
   "metadata": {},
   "source": [
    "### Hyperparameter tuning"
   ]
  },
  {
   "cell_type": "code",
   "execution_count": 217,
   "metadata": {},
   "outputs": [
    {
     "data": {
      "text/plain": [
       "GridSearchCV(cv=5, error_score='raise',\n",
       "       estimator=DecisionTreeClassifier(class_weight='balanced', criterion='gini',\n",
       "            max_depth=None, max_features=None, max_leaf_nodes=None,\n",
       "            min_impurity_decrease=0.0, min_impurity_split=None,\n",
       "            min_samples_leaf=1, min_samples_split=2,\n",
       "            min_weight_fraction_leaf=0.0, presort=False, random_state=100,\n",
       "            splitter='best'),\n",
       "       fit_params=None, iid=True, n_jobs=1,\n",
       "       param_grid={'max_depth': range(1, 40)}, pre_dispatch='2*n_jobs',\n",
       "       refit=True, return_train_score='warn', scoring='accuracy',\n",
       "       verbose=0)"
      ]
     },
     "execution_count": 217,
     "metadata": {},
     "output_type": "execute_result"
    }
   ],
   "source": [
    "########## lets tune hyper parameterss\n",
    "# GridSearchCV to find optimal max_depth\n",
    "from sklearn.model_selection import KFold\n",
    "from sklearn.model_selection import GridSearchCV\n",
    "\n",
    "\n",
    "# specify number of folds for k-fold CV\n",
    "n_folds = 5\n",
    "\n",
    "# parameters to build the model on\n",
    "parameters = {'max_depth': range(1, 40)}\n",
    "\n",
    "# instantiate the model\n",
    "dtree = DecisionTreeClassifier(criterion = \"gini\", class_weight='balanced', random_state = 100)\n",
    "\n",
    "# fit tree on training data\n",
    "tree = GridSearchCV(dtree, parameters, \n",
    "                    cv=n_folds, \n",
    "                   scoring=\"accuracy\")\n",
    "tree.fit(df_train_pca,y_train)"
   ]
  },
  {
   "cell_type": "code",
   "execution_count": 218,
   "metadata": {},
   "outputs": [
    {
     "data": {
      "text/html": [
       "<div>\n",
       "<style scoped>\n",
       "    .dataframe tbody tr th:only-of-type {\n",
       "        vertical-align: middle;\n",
       "    }\n",
       "\n",
       "    .dataframe tbody tr th {\n",
       "        vertical-align: top;\n",
       "    }\n",
       "\n",
       "    .dataframe thead th {\n",
       "        text-align: right;\n",
       "    }\n",
       "</style>\n",
       "<table border=\"1\" class=\"dataframe\">\n",
       "  <thead>\n",
       "    <tr style=\"text-align: right;\">\n",
       "      <th></th>\n",
       "      <th>mean_fit_time</th>\n",
       "      <th>std_fit_time</th>\n",
       "      <th>mean_score_time</th>\n",
       "      <th>std_score_time</th>\n",
       "      <th>param_max_depth</th>\n",
       "      <th>params</th>\n",
       "      <th>split0_test_score</th>\n",
       "      <th>split1_test_score</th>\n",
       "      <th>split2_test_score</th>\n",
       "      <th>split3_test_score</th>\n",
       "      <th>...</th>\n",
       "      <th>mean_test_score</th>\n",
       "      <th>std_test_score</th>\n",
       "      <th>rank_test_score</th>\n",
       "      <th>split0_train_score</th>\n",
       "      <th>split1_train_score</th>\n",
       "      <th>split2_train_score</th>\n",
       "      <th>split3_train_score</th>\n",
       "      <th>split4_train_score</th>\n",
       "      <th>mean_train_score</th>\n",
       "      <th>std_train_score</th>\n",
       "    </tr>\n",
       "  </thead>\n",
       "  <tbody>\n",
       "    <tr>\n",
       "      <th>0</th>\n",
       "      <td>0.687221</td>\n",
       "      <td>0.025831</td>\n",
       "      <td>0.006868</td>\n",
       "      <td>0.006116</td>\n",
       "      <td>1</td>\n",
       "      <td>{'max_depth': 1}</td>\n",
       "      <td>0.578922</td>\n",
       "      <td>0.587983</td>\n",
       "      <td>0.616742</td>\n",
       "      <td>0.601479</td>\n",
       "      <td>...</td>\n",
       "      <td>0.594076</td>\n",
       "      <td>0.013513</td>\n",
       "      <td>39</td>\n",
       "      <td>0.586061</td>\n",
       "      <td>0.571395</td>\n",
       "      <td>0.617146</td>\n",
       "      <td>0.623465</td>\n",
       "      <td>0.582330</td>\n",
       "      <td>0.596079</td>\n",
       "      <td>0.020457</td>\n",
       "    </tr>\n",
       "    <tr>\n",
       "      <th>1</th>\n",
       "      <td>1.195357</td>\n",
       "      <td>0.035809</td>\n",
       "      <td>0.009375</td>\n",
       "      <td>0.007655</td>\n",
       "      <td>2</td>\n",
       "      <td>{'max_depth': 2}</td>\n",
       "      <td>0.802814</td>\n",
       "      <td>0.800191</td>\n",
       "      <td>0.830909</td>\n",
       "      <td>0.814930</td>\n",
       "      <td>...</td>\n",
       "      <td>0.821863</td>\n",
       "      <td>0.022153</td>\n",
       "      <td>31</td>\n",
       "      <td>0.811662</td>\n",
       "      <td>0.804865</td>\n",
       "      <td>0.820198</td>\n",
       "      <td>0.827292</td>\n",
       "      <td>0.858293</td>\n",
       "      <td>0.824462</td>\n",
       "      <td>0.018540</td>\n",
       "    </tr>\n",
       "    <tr>\n",
       "      <th>2</th>\n",
       "      <td>1.939506</td>\n",
       "      <td>0.083188</td>\n",
       "      <td>0.012500</td>\n",
       "      <td>0.006250</td>\n",
       "      <td>3</td>\n",
       "      <td>{'max_depth': 3}</td>\n",
       "      <td>0.623510</td>\n",
       "      <td>0.660467</td>\n",
       "      <td>0.692344</td>\n",
       "      <td>0.697830</td>\n",
       "      <td>...</td>\n",
       "      <td>0.664616</td>\n",
       "      <td>0.027658</td>\n",
       "      <td>38</td>\n",
       "      <td>0.633339</td>\n",
       "      <td>0.673642</td>\n",
       "      <td>0.686241</td>\n",
       "      <td>0.714558</td>\n",
       "      <td>0.653452</td>\n",
       "      <td>0.672246</td>\n",
       "      <td>0.027767</td>\n",
       "    </tr>\n",
       "    <tr>\n",
       "      <th>3</th>\n",
       "      <td>2.572165</td>\n",
       "      <td>0.307166</td>\n",
       "      <td>0.009445</td>\n",
       "      <td>0.005829</td>\n",
       "      <td>4</td>\n",
       "      <td>{'max_depth': 4}</td>\n",
       "      <td>0.767287</td>\n",
       "      <td>0.779685</td>\n",
       "      <td>0.734796</td>\n",
       "      <td>0.788218</td>\n",
       "      <td>...</td>\n",
       "      <td>0.755854</td>\n",
       "      <td>0.029525</td>\n",
       "      <td>36</td>\n",
       "      <td>0.778096</td>\n",
       "      <td>0.785071</td>\n",
       "      <td>0.734649</td>\n",
       "      <td>0.798617</td>\n",
       "      <td>0.716585</td>\n",
       "      <td>0.762604</td>\n",
       "      <td>0.031435</td>\n",
       "    </tr>\n",
       "    <tr>\n",
       "      <th>4</th>\n",
       "      <td>2.733979</td>\n",
       "      <td>0.107400</td>\n",
       "      <td>0.009377</td>\n",
       "      <td>0.007656</td>\n",
       "      <td>5</td>\n",
       "      <td>{'max_depth': 5}</td>\n",
       "      <td>0.756319</td>\n",
       "      <td>0.761087</td>\n",
       "      <td>0.772955</td>\n",
       "      <td>0.743859</td>\n",
       "      <td>...</td>\n",
       "      <td>0.752707</td>\n",
       "      <td>0.014959</td>\n",
       "      <td>37</td>\n",
       "      <td>0.774161</td>\n",
       "      <td>0.772968</td>\n",
       "      <td>0.773817</td>\n",
       "      <td>0.754382</td>\n",
       "      <td>0.749314</td>\n",
       "      <td>0.764928</td>\n",
       "      <td>0.010807</td>\n",
       "    </tr>\n",
       "  </tbody>\n",
       "</table>\n",
       "<p>5 rows × 21 columns</p>\n",
       "</div>"
      ],
      "text/plain": [
       "   mean_fit_time  std_fit_time  mean_score_time  std_score_time  \\\n",
       "0       0.687221      0.025831         0.006868        0.006116   \n",
       "1       1.195357      0.035809         0.009375        0.007655   \n",
       "2       1.939506      0.083188         0.012500        0.006250   \n",
       "3       2.572165      0.307166         0.009445        0.005829   \n",
       "4       2.733979      0.107400         0.009377        0.007656   \n",
       "\n",
       "  param_max_depth            params  split0_test_score  split1_test_score  \\\n",
       "0               1  {'max_depth': 1}           0.578922           0.587983   \n",
       "1               2  {'max_depth': 2}           0.802814           0.800191   \n",
       "2               3  {'max_depth': 3}           0.623510           0.660467   \n",
       "3               4  {'max_depth': 4}           0.767287           0.779685   \n",
       "4               5  {'max_depth': 5}           0.756319           0.761087   \n",
       "\n",
       "   split2_test_score  split3_test_score       ...         mean_test_score  \\\n",
       "0           0.616742           0.601479       ...                0.594076   \n",
       "1           0.830909           0.814930       ...                0.821863   \n",
       "2           0.692344           0.697830       ...                0.664616   \n",
       "3           0.734796           0.788218       ...                0.755854   \n",
       "4           0.772955           0.743859       ...                0.752707   \n",
       "\n",
       "   std_test_score  rank_test_score  split0_train_score  split1_train_score  \\\n",
       "0        0.013513               39            0.586061            0.571395   \n",
       "1        0.022153               31            0.811662            0.804865   \n",
       "2        0.027658               38            0.633339            0.673642   \n",
       "3        0.029525               36            0.778096            0.785071   \n",
       "4        0.014959               37            0.774161            0.772968   \n",
       "\n",
       "   split2_train_score  split3_train_score  split4_train_score  \\\n",
       "0            0.617146            0.623465            0.582330   \n",
       "1            0.820198            0.827292            0.858293   \n",
       "2            0.686241            0.714558            0.653452   \n",
       "3            0.734649            0.798617            0.716585   \n",
       "4            0.773817            0.754382            0.749314   \n",
       "\n",
       "   mean_train_score  std_train_score  \n",
       "0          0.596079         0.020457  \n",
       "1          0.824462         0.018540  \n",
       "2          0.672246         0.027767  \n",
       "3          0.762604         0.031435  \n",
       "4          0.764928         0.010807  \n",
       "\n",
       "[5 rows x 21 columns]"
      ]
     },
     "execution_count": 218,
     "metadata": {},
     "output_type": "execute_result"
    }
   ],
   "source": [
    "# scores of GridSearch CV\n",
    "scores = tree.cv_results_\n",
    "pd.DataFrame(scores).head()"
   ]
  },
  {
   "cell_type": "code",
   "execution_count": 221,
   "metadata": {},
   "outputs": [
    {
     "data": {
      "text/plain": [
       "GridSearchCV(cv=5, error_score='raise',\n",
       "       estimator=DecisionTreeClassifier(class_weight=None, criterion='gini', max_depth=None,\n",
       "            max_features=None, max_leaf_nodes=None,\n",
       "            min_impurity_decrease=0.0, min_impurity_split=None,\n",
       "            min_samples_leaf=1, min_samples_split=2,\n",
       "            min_weight_fraction_leaf=0.0, presort=False, random_state=None,\n",
       "            splitter='best'),\n",
       "       fit_params=None, iid=True, n_jobs=-1,\n",
       "       param_grid={'max_depth': range(5, 20, 5), 'min_samples_leaf': range(25, 200, 50), 'min_samples_split': range(25, 200, 50), 'criterion': ['gini', 'entropy']},\n",
       "       pre_dispatch='2*n_jobs', refit=True, return_train_score='warn',\n",
       "       scoring=None, verbose=0)"
      ]
     },
     "execution_count": 221,
     "metadata": {},
     "output_type": "execute_result"
    }
   ],
   "source": [
    "#Optimising dtree params according to PCA\n",
    "nfolds=5\n",
    "params_grid = {'max_depth':range(5,20,5),\n",
    "               'min_samples_leaf': range(25,200,50),\n",
    "               'min_samples_split': range(25,200,50),\n",
    "               'criterion':['gini','entropy']}\n",
    "dtree_grid_pca = DecisionTreeClassifier()\n",
    "grid_model_pca = GridSearchCV(dtree_grid_pca,cv=nfolds,param_grid=params_grid, n_jobs=-1)\n",
    "grid_model_pca.fit(df_train_pca,y_train)"
   ]
  },
  {
   "cell_type": "code",
   "execution_count": 268,
   "metadata": {
    "scrolled": false
   },
   "outputs": [
    {
     "name": "stdout",
     "output_type": "stream",
     "text": [
      "{'criterion': 'entropy', 'max_depth': 5, 'min_samples_leaf': 25, 'min_samples_split': 25}\n"
     ]
    }
   ],
   "source": [
    "# printing the optimal accuracy score and hyperparameters\n",
    "print(grid_model_pca.best_params_)"
   ]
  },
  {
   "cell_type": "code",
   "execution_count": 228,
   "metadata": {},
   "outputs": [],
   "source": [
    "dtree_optimal = DecisionTreeClassifier(max_depth=15,class_weight='balanced',random_state = 100,min_samples_leaf=25, min_samples_split=25,criterion='entropy')\n",
    "dtree_optimal.fit(df_train_pca,y_train)\n",
    "y_pred_tree_opt = dtree_optimal.predict(df_test_pca)"
   ]
  },
  {
   "cell_type": "code",
   "execution_count": 229,
   "metadata": {},
   "outputs": [
    {
     "data": {
      "text/plain": [
       "array([[6827, 1478],\n",
       "       [ 246,  435]], dtype=int64)"
      ]
     },
     "execution_count": 229,
     "metadata": {},
     "output_type": "execute_result"
    }
   ],
   "source": [
    "confusion_tree_hyper=confusion_matrix(y_test,y_pred_tree_opt)\n",
    "confusion_tree_hyper"
   ]
  },
  {
   "cell_type": "code",
   "execution_count": 230,
   "metadata": {},
   "outputs": [
    {
     "name": "stdout",
     "output_type": "stream",
     "text": [
      "Sensitivity:  0.6387665198237885\n",
      "Specificity:  0.8220349187236604\n",
      "false postive rate:  0.17796508127633956\n",
      "positive predictive value:  0.22739153162571876\n",
      "Negative predictive value:  0.9652198501343136\n",
      "Misclassification Rate:  0.19185399510349432\n"
     ]
    }
   ],
   "source": [
    "TP = confusion_tree_hyper[1,1] # true positive \n",
    "TN = confusion_tree_hyper[0,0] # true negatives\n",
    "FP = confusion_tree_hyper[0,1] # false positives\n",
    "FN = confusion_tree_hyper[1,0] # false negatives\n",
    "\n",
    "print('Acuracy Score', accuracy_score(y_test,y_pred_tree_opt))\n",
    "# Let's see the sensitivity of our logistic regression model\n",
    "print('Sensitivity: ', TP / float(TP+FN))\n",
    "\n",
    "# Let us calculate specificity\n",
    "print('Specificity: ',TN / float(TN+FP))\n",
    "\n",
    "# Calculate false postive rate - predicting churn when customer does not have churned\n",
    "print('false postive rate: ',FP/ float(TN+FP))\n",
    "\n",
    "# positive predictive value \n",
    "print('positive predictive value: ', TP / float(TP+FP))\n",
    "\n",
    "# Negative predictive value\n",
    "print('Negative predictive value: ',TN / float(TN+ FN))\n",
    "\n",
    "## Misclassification rate\n",
    "\n",
    "print('Misclassification Rate: ',(FN+FP)/(TP+TN+FP+FN))"
   ]
  },
  {
   "cell_type": "markdown",
   "metadata": {},
   "source": [
    "### RandomForestClassifier with PCA"
   ]
  },
  {
   "cell_type": "code",
   "execution_count": 243,
   "metadata": {},
   "outputs": [
    {
     "data": {
      "text/plain": [
       "RandomForestClassifier(bootstrap=True, class_weight='balanced',\n",
       "            criterion='gini', max_depth=None, max_features='auto',\n",
       "            max_leaf_nodes=None, min_impurity_decrease=0.0,\n",
       "            min_impurity_split=None, min_samples_leaf=1,\n",
       "            min_samples_split=2, min_weight_fraction_leaf=0.0,\n",
       "            n_estimators=10, n_jobs=1, oob_score=False, random_state=None,\n",
       "            verbose=0, warm_start=False)"
      ]
     },
     "execution_count": 243,
     "metadata": {},
     "output_type": "execute_result"
    }
   ],
   "source": [
    "# Importing library\n",
    "from sklearn.ensemble import RandomForestClassifier\n",
    "\n",
    "rfc = RandomForestClassifier(class_weight='balanced')\n",
    "\n",
    "rfc.fit(df_train_pca,y_train)"
   ]
  },
  {
   "cell_type": "code",
   "execution_count": 244,
   "metadata": {},
   "outputs": [],
   "source": [
    "# Making predictions\n",
    "y_pred_default = rfc.predict(df_test_pca)"
   ]
  },
  {
   "cell_type": "code",
   "execution_count": 245,
   "metadata": {},
   "outputs": [
    {
     "data": {
      "text/plain": [
       "array([[8252,   53],\n",
       "       [ 544,  137]], dtype=int64)"
      ]
     },
     "execution_count": 245,
     "metadata": {},
     "output_type": "execute_result"
    }
   ],
   "source": [
    "confusion_rf = confusion_matrix(y_test,y_pred_default)\n",
    "confusion_rf"
   ]
  },
  {
   "cell_type": "code",
   "execution_count": 246,
   "metadata": {
    "scrolled": true
   },
   "outputs": [
    {
     "name": "stdout",
     "output_type": "stream",
     "text": [
      "Sensitivity:  0.2011747430249633\n",
      "Specificity:  0.9936183022275737\n",
      "false postive rate:  0.006381697772426249\n",
      "positive predictive value:  0.7210526315789474\n",
      "Negative predictive value:  0.9381537062301046\n",
      "Misclassification Rate:  0.06643667927887825\n"
     ]
    }
   ],
   "source": [
    "TN = confusion_rf[0,0] # true positive \n",
    "TP = confusion_rf[1,1] # true negatives\n",
    "FP = confusion_rf[0,1] # false positives\n",
    "FN = confusion_rf[1,0] # false negatives\n",
    "\n",
    "# Let's see the sensitivity of our logistic regression model\n",
    "print('Sensitivity: ', TP / float(TP+FN))\n",
    "\n",
    "# Let us calculate specificity\n",
    "print('Specificity: ',TN / float(TN+FP))\n",
    "\n",
    "# Calculate false postive rate - predicting churn when customer does not have churned\n",
    "print('false postive rate: ',FP/ float(TN+FP))\n",
    "\n",
    "# positive predictive value \n",
    "print('positive predictive value: ', TP / float(TP+FP))\n",
    "\n",
    "# Negative predictive value\n",
    "print('Negative predictive value: ',TN / float(TN+ FN))\n",
    "\n",
    "## Misclassification rate\n",
    "\n",
    "print('Misclassification Rate: ',(FN+FP)/(TP+TN+FP+FN))"
   ]
  },
  {
   "cell_type": "code",
   "execution_count": 251,
   "metadata": {},
   "outputs": [],
   "source": [
    "def plot(param,param_value,scoring,scores):\n",
    "    plt.figure()\n",
    "    plt.plot(scores[param_value],\n",
    "             scores[\"mean_train_score\"], \n",
    "             label=\"training accuracy\")\n",
    "    plt.plot(scores[param_value], \n",
    "             scores[\"mean_test_score\"], \n",
    "             label=\"test accuracy\")\n",
    "    plt.xlabel(param)\n",
    "    plt.ylabel(scoring)\n",
    "    plt.legend()\n",
    "    plt.show()"
   ]
  },
  {
   "cell_type": "markdown",
   "metadata": {},
   "source": [
    "### Hyper-parameter Tuning for RandomForest"
   ]
  },
  {
   "cell_type": "code",
   "execution_count": 249,
   "metadata": {},
   "outputs": [
    {
     "data": {
      "text/plain": [
       "GridSearchCV(cv=5, error_score='raise',\n",
       "       estimator=RandomForestClassifier(bootstrap=True, class_weight='balanced',\n",
       "            criterion='gini', max_depth=None, max_features='auto',\n",
       "            max_leaf_nodes=None, min_impurity_decrease=0.0,\n",
       "            min_impurity_split=None, min_samples_leaf=1,\n",
       "            min_samples_split=2, min_weight_fraction_leaf=0.0,\n",
       "            n_estimators=10, n_jobs=1, oob_score=False, random_state=None,\n",
       "            verbose=0, warm_start=False),\n",
       "       fit_params=None, iid=True, n_jobs=-1,\n",
       "       param_grid={'max_depth': range(2, 20, 5)}, pre_dispatch='2*n_jobs',\n",
       "       refit=True, return_train_score='warn', scoring='accuracy',\n",
       "       verbose=0)"
      ]
     },
     "execution_count": 249,
     "metadata": {},
     "output_type": "execute_result"
    }
   ],
   "source": [
    "#Lets do some hyper parameter tuning \n",
    "# GridSearchCV to find optimal n_estimators\n",
    "from sklearn.model_selection import KFold\n",
    "from sklearn.model_selection import GridSearchCV\n",
    "\n",
    "# specify number of folds for k-fold CV\n",
    "n_folds = 5\n",
    "# parameters to build the model on\n",
    "parameters = {'max_depth': range(2, 20, 5)}\n",
    "\n",
    "# instantiate the model\n",
    "rf_with_pca = RandomForestClassifier(class_weight='balanced')\n",
    "\n",
    "\n",
    "# fit tree on training data\n",
    "rf_with_pca = GridSearchCV(rf_with_pca, parameters, \n",
    "                    cv=n_folds, \n",
    "                   scoring=\"accuracy\", n_jobs=-1)\n",
    "rf_with_pca.fit(df_train_pca, y_train)"
   ]
  },
  {
   "cell_type": "code",
   "execution_count": 252,
   "metadata": {},
   "outputs": [
    {
     "data": {
      "image/png": "[encoded data removed]",
      "text/plain": [
       "<Figure size 432x288 with 1 Axes>"
      ]
     },
     "metadata": {
      "needs_background": "light"
     },
     "output_type": "display_data"
    },
    {
     "name": "stdout",
     "output_type": "stream",
     "text": [
      "{'max_depth': 17}\n"
     ]
    }
   ],
   "source": [
    "plot(\"max_depth\",\"param_max_depth\",\"accuracy\",rf_with_pca.cv_results_)\n",
    "print(rf_with_pca.best_params_)"
   ]
  },
  {
   "cell_type": "code",
   "execution_count": 253,
   "metadata": {},
   "outputs": [
    {
     "name": "stdout",
     "output_type": "stream",
     "text": [
      "Fitting 5 folds for each of 10 candidates, totalling 50 fits\n"
     ]
    },
    {
     "name": "stderr",
     "output_type": "stream",
     "text": [
      "[Parallel(n_jobs=1)]: Done  50 out of  50 | elapsed:  2.8min finished\n"
     ]
    },
    {
     "data": {
      "text/plain": [
       "GridSearchCV(cv=StratifiedKFold(n_splits=5, random_state=None, shuffle=False),\n",
       "       error_score='raise',\n",
       "       estimator=RandomForestClassifier(bootstrap=True, class_weight='balanced',\n",
       "            criterion='gini', max_depth=None, max_features='auto',\n",
       "            max_leaf_nodes=None, min_impurity_decrease=0.0,\n",
       "            min_impurity_split=None, min_samples_leaf=1,\n",
       "            min_samples_split=2, min_weight_fraction_leaf=0.0,\n",
       "            n_estimators=10, n_jobs=1, oob_score=False, random_state=4,\n",
       "            verbose=0, warm_start=False),\n",
       "       fit_params=None, iid=True, n_jobs=1,\n",
       "       param_grid={'min_samples_leaf': range(5, 100, 10)},\n",
       "       pre_dispatch='2*n_jobs', refit=True, return_train_score='warn',\n",
       "       scoring='accuracy', verbose=1)"
      ]
     },
     "execution_count": 253,
     "metadata": {},
     "output_type": "execute_result"
    }
   ],
   "source": [
    "parameters = {'min_samples_leaf': range(5, 100, 10)}\n",
    "\n",
    "rfc = RandomForestClassifier(class_weight='balanced',random_state=4)\n",
    "\n",
    "rf_with_pca = GridSearchCV(rfc, \n",
    "                   parameters, \n",
    "                   cv=StratifiedKFold(n_splits=5), \n",
    "                   scoring=\"accuracy\",\n",
    "                   verbose = 1)\n",
    "\n",
    "rf_with_pca.fit(df_train_pca, y_train)"
   ]
  },
  {
   "cell_type": "code",
   "execution_count": 254,
   "metadata": {},
   "outputs": [
    {
     "data": {
      "image/png": "[encoded data removed]",
      "text/plain": [
       "<Figure size 432x288 with 1 Axes>"
      ]
     },
     "metadata": {
      "needs_background": "light"
     },
     "output_type": "display_data"
    },
    {
     "name": "stdout",
     "output_type": "stream",
     "text": [
      "{'min_samples_leaf': 5}\n"
     ]
    }
   ],
   "source": [
    "plot(\"min_samples_leaf\",\"param_min_samples_leaf\",\"accuracy\",rf_with_pca.cv_results_)\n",
    "print(rf_with_pca.best_params_)"
   ]
  },
  {
   "cell_type": "code",
   "execution_count": 255,
   "metadata": {},
   "outputs": [],
   "source": [
    "# Create the parameter grid based on the results of random search \n",
    "param_grid = {\n",
    "    'max_depth': [8,10],\n",
    "    'min_samples_leaf': range(100, 200, 100),\n",
    "    'min_samples_split': range(200, 400, 100),\n",
    "    'n_estimators': range(200, 400, 100), \n",
    "    'max_features': [8, 10, 12]\n",
    "}\n",
    "# Create a based model\n",
    "rf = RandomForestClassifier(class_weight='balanced')\n",
    "\n",
    "# Instantiate the grid search model\n",
    "grid_search = GridSearchCV(estimator = rf, param_grid = param_grid,refit='recall_score' ,\n",
    "                          cv = 5, n_jobs=-1, verbose = 1)"
   ]
  },
  {
   "cell_type": "code",
   "execution_count": null,
   "metadata": {},
   "outputs": [],
   "source": [
    "# Fit the grid search to the data\n",
    "grid_search.fit(df_train_pca, y_train)"
   ]
  },
  {
   "cell_type": "code",
   "execution_count": 258,
   "metadata": {},
   "outputs": [
    {
     "name": "stdout",
     "output_type": "stream",
     "text": [
      "We can get accuracy of 0.892831592502504 using {'max_depth': 10, 'max_features': 8, 'min_samples_leaf': 100, 'min_samples_split': 200, 'n_estimators': 200}\n"
     ]
    }
   ],
   "source": [
    "# printing the optimal accuracy score and hyperparameters\n",
    "print('We can get accuracy of',grid_search.best_score_,'using',grid_search.best_params_)"
   ]
  },
  {
   "cell_type": "code",
   "execution_count": 262,
   "metadata": {},
   "outputs": [],
   "source": [
    "# model with the best hyperparameters\n",
    "from sklearn.ensemble import RandomForestClassifier\n",
    "rfc = RandomForestClassifier(bootstrap=True, class_weight='balanced',\n",
    "                             max_depth=10,\n",
    "                             min_samples_leaf=100, \n",
    "                             min_samples_split=200,\n",
    "                             max_features=8,\n",
    "                             n_estimators=200)"
   ]
  },
  {
   "cell_type": "code",
   "execution_count": 263,
   "metadata": {},
   "outputs": [
    {
     "data": {
      "text/plain": [
       "RandomForestClassifier(bootstrap=True, class_weight='balanced',\n",
       "            criterion='gini', max_depth=10, max_features=8,\n",
       "            max_leaf_nodes=None, min_impurity_decrease=0.0,\n",
       "            min_impurity_split=None, min_samples_leaf=100,\n",
       "            min_samples_split=200, min_weight_fraction_leaf=0.0,\n",
       "            n_estimators=200, n_jobs=1, oob_score=False, random_state=None,\n",
       "            verbose=0, warm_start=False)"
      ]
     },
     "execution_count": 263,
     "metadata": {},
     "output_type": "execute_result"
    }
   ],
   "source": [
    "# fit\n",
    "rfc.fit(df_train_pca,y_train)"
   ]
  },
  {
   "cell_type": "code",
   "execution_count": 264,
   "metadata": {},
   "outputs": [],
   "source": [
    "# predict\n",
    "y_pred_default = rfc.predict(df_test_pca)"
   ]
  },
  {
   "cell_type": "code",
   "execution_count": 265,
   "metadata": {},
   "outputs": [
    {
     "data": {
      "text/plain": [
       "array([[7538,  767],\n",
       "       [ 208,  473]], dtype=int64)"
      ]
     },
     "execution_count": 265,
     "metadata": {},
     "output_type": "execute_result"
    }
   ],
   "source": [
    "# Confusion Matrix\n",
    "confusion_rf_hyper=confusion_matrix(y_test,y_pred_default)\n",
    "confusion_rf_hyper"
   ]
  },
  {
   "cell_type": "code",
   "execution_count": 266,
   "metadata": {},
   "outputs": [
    {
     "name": "stdout",
     "output_type": "stream",
     "text": [
      "accuracy_score:   0.8914978855998219\n"
     ]
    }
   ],
   "source": [
    "print('accuracy_score:  ',accuracy_score(y_test,y_pred_default))"
   ]
  },
  {
   "cell_type": "code",
   "execution_count": 267,
   "metadata": {},
   "outputs": [
    {
     "name": "stdout",
     "output_type": "stream",
     "text": [
      "Accuracy Score:   0.8914978855998219\n",
      "Sensitivity:  0.6945668135095447\n",
      "Specificity:  0.9076459963877183\n",
      "false postive rate:  0.09235400361228176\n",
      "positive predictive value:  0.3814516129032258\n",
      "Negative predictive value:  0.973147430932094\n",
      "Misclassification Rate:  0.10850211440017805\n"
     ]
    }
   ],
   "source": [
    "TN = confusion_rf_hyper[0,0] # true positive \n",
    "TP = confusion_rf_hyper[1,1] # true negatives\n",
    "FP = confusion_rf_hyper[0,1] # false positives\n",
    "FN = confusion_rf_hyper[1,0] # false negatives\n",
    "\n",
    "print('Accuracy Score:  ',accuracy_score(y_test,y_pred_default))\n",
    "\n",
    "# Let's see the sensitivity of our logistic regression model\n",
    "print('Sensitivity: ', TP / float(TP+FN))\n",
    "\n",
    "# Let us calculate specificity\n",
    "print('Specificity: ',TN / float(TN+FP))\n",
    "\n",
    "# Calculate false postive rate - predicting churn when customer does not have churned\n",
    "print('false postive rate: ',FP/ float(TN+FP))\n",
    "\n",
    "# positive predictive value \n",
    "print('positive predictive value: ', TP / float(TP+FP))\n",
    "\n",
    "# Negative predictive value\n",
    "print('Negative predictive value: ',TN / float(TN+ FN))\n",
    "\n",
    "## Misclassification rate\n",
    "\n",
    "print('Misclassification Rate: ',(FN+FP)/(TP+TN+FP+FN))"
   ]
  },
  {
   "cell_type": "markdown",
   "metadata": {},
   "source": [
    "\n",
    "#### Recomendation for Model Selection\n",
    "\n",
    "- Logistic Regression and Random Forest performed better than Decision Tree for customer churn analysis for this particular dataset, using PCA.\n",
    "- LogisticRegression is the best model 84.7% Sensitivity\n",
    "- Accuracy of RandomForest is highest with 89%\n",
    "\n",
    "#### LogisticRegression\n",
    "\n",
    "- Accuracy Score on test data: 0.8381927442688627(with PCA)\n",
    "- Sensitivity: 0.8472834067547724(with PCA)\n",
    "\n",
    "- Accuracy Score : 0.8141553527709771(With RFE)\n",
    "- Sensitivity: 0.8355359765051396(With RFE)\n",
    "\n",
    "#### RandomForest\n",
    "\n",
    "- Accuracy Score:   0.8914978855998219(with PCA)\n",
    "- Sensitivity:  0.6945668135095447(with PCA)\n",
    "\n",
    "#### DecisionTree\n",
    "\n",
    "- Sensitivity:  0.6387665198237885 (with PCA)\n",
    "- Acuracy Score 0.746605831293122(with PCA)"
   ]
  },
  {
   "cell_type": "code",
   "execution_count": 288,
   "metadata": {
    "scrolled": true
   },
   "outputs": [],
   "source": [
    "#\n",
    "imp=rfc.feature_importances_\n",
    "names=X_train.columns.values\n",
    "imp,names=zip(*sorted(zip(imp,names)))\n",
    "\n",
    "df_1=pd.DataFrame({\"Variable\":names,\"importance\":imp})\n",
    "df_2 = df_1.sort_values(by=\"importance\",axis=0,ascending=False)\n",
    "df_2 = df_2.reset_index(drop=True)\n"
   ]
  },
  {
   "cell_type": "code",
   "execution_count": 289,
   "metadata": {},
   "outputs": [
    {
     "data": {
      "text/html": [
       "<div>\n",
       "<style scoped>\n",
       "    .dataframe tbody tr th:only-of-type {\n",
       "        vertical-align: middle;\n",
       "    }\n",
       "\n",
       "    .dataframe tbody tr th {\n",
       "        vertical-align: top;\n",
       "    }\n",
       "\n",
       "    .dataframe thead th {\n",
       "        text-align: right;\n",
       "    }\n",
       "</style>\n",
       "<table border=\"1\" class=\"dataframe\">\n",
       "  <thead>\n",
       "    <tr style=\"text-align: right;\">\n",
       "      <th></th>\n",
       "      <th>Variable</th>\n",
       "      <th>importance</th>\n",
       "    </tr>\n",
       "  </thead>\n",
       "  <tbody>\n",
       "    <tr>\n",
       "      <th>0</th>\n",
       "      <td>roam_ic_mou_6</td>\n",
       "      <td>0.085784</td>\n",
       "    </tr>\n",
       "    <tr>\n",
       "      <th>1</th>\n",
       "      <td>offnet_mou_6</td>\n",
       "      <td>0.078057</td>\n",
       "    </tr>\n",
       "    <tr>\n",
       "      <th>2</th>\n",
       "      <td>arpu_7</td>\n",
       "      <td>0.076798</td>\n",
       "    </tr>\n",
       "    <tr>\n",
       "      <th>3</th>\n",
       "      <td>roam_ic_mou_8</td>\n",
       "      <td>0.049904</td>\n",
       "    </tr>\n",
       "    <tr>\n",
       "      <th>4</th>\n",
       "      <td>loc_ic_t2t_mou_8</td>\n",
       "      <td>0.048452</td>\n",
       "    </tr>\n",
       "    <tr>\n",
       "      <th>5</th>\n",
       "      <td>roam_ic_mou_7</td>\n",
       "      <td>0.043533</td>\n",
       "    </tr>\n",
       "    <tr>\n",
       "      <th>6</th>\n",
       "      <td>onnet_mou_6</td>\n",
       "      <td>0.043451</td>\n",
       "    </tr>\n",
       "    <tr>\n",
       "      <th>7</th>\n",
       "      <td>arpu_6</td>\n",
       "      <td>0.039554</td>\n",
       "    </tr>\n",
       "    <tr>\n",
       "      <th>8</th>\n",
       "      <td>loc_og_t2t_mou_7</td>\n",
       "      <td>0.038057</td>\n",
       "    </tr>\n",
       "    <tr>\n",
       "      <th>9</th>\n",
       "      <td>loc_og_t2f_mou_6</td>\n",
       "      <td>0.035824</td>\n",
       "    </tr>\n",
       "  </tbody>\n",
       "</table>\n",
       "</div>"
      ],
      "text/plain": [
       "           Variable  importance\n",
       "0     roam_ic_mou_6    0.085784\n",
       "1      offnet_mou_6    0.078057\n",
       "2            arpu_7    0.076798\n",
       "3     roam_ic_mou_8    0.049904\n",
       "4  loc_ic_t2t_mou_8    0.048452\n",
       "5     roam_ic_mou_7    0.043533\n",
       "6       onnet_mou_6    0.043451\n",
       "7            arpu_6    0.039554\n",
       "8  loc_og_t2t_mou_7    0.038057\n",
       "9  loc_og_t2f_mou_6    0.035824"
      ]
     },
     "execution_count": 289,
     "metadata": {},
     "output_type": "execute_result"
    }
   ],
   "source": [
    "df_2[0:10]"
   ]
  },
  {
   "cell_type": "markdown",
   "metadata": {},
   "source": [
    "#### Driver variables identified by RandomForest\n",
    "\n",
    "1. roam_ic_mou_6\n",
    "2. offnet_mou_6\n",
    "3. arpu_7\n",
    "4. roam_ic_mou_8\n",
    "5. loc_ic_t2t_mou_8\n",
    "6. roam_ic_mou_7\n",
    "7. onnet_mou_6\n",
    "8. arpu_6\n",
    "9. loc_og_t2t_mou_7\n",
    "10. loc_og_t2f_mou_6\n",
    "\n",
    "#### Chosen Driver variables\n",
    "\n",
    "1. roam_og_mou_8\n",
    "2. total_rech_amt_8\n",
    "3. last_day_rch_amt_8\n",
    "4. av_rech_amt_data_8\n",
    "5. aon\n",
    "6. total_og_mou_8\n",
    "7. arpu_8\n",
    "8. vol_3g_mb_7\n",
    "9. max_rech_data_8\n",
    "10. loc_og_mou_8"
   ]
  },
  {
   "cell_type": "code",
   "execution_count": 293,
   "metadata": {
    "scrolled": false
   },
   "outputs": [
    {
     "data": {
      "image/png": "[encoded data removed]",
      "text/plain": [
       "<Figure size 432x288 with 1 Axes>"
      ]
     },
     "metadata": {
      "needs_background": "light"
     },
     "output_type": "display_data"
    },
    {
     "data": {
      "image/png": "[encoded data removed]",
      "text/plain": [
       "<Figure size 432x288 with 1 Axes>"
      ]
     },
     "metadata": {
      "needs_background": "light"
     },
     "output_type": "display_data"
    },
    {
     "data": {
      "image/png": "[encoded data removed]",
      "text/plain": [
       "<Figure size 432x288 with 1 Axes>"
      ]
     },
     "metadata": {
      "needs_background": "light"
     },
     "output_type": "display_data"
    },
    {
     "data": {
      "image/png": "[encoded data removed]",
      "text/plain": [
       "<Figure size 432x288 with 1 Axes>"
      ]
     },
     "metadata": {
      "needs_background": "light"
     },
     "output_type": "display_data"
    },
    {
     "data": {
      "image/png": "[encoded data removed]",
      "text/plain": [
       "<Figure size 432x288 with 1 Axes>"
      ]
     },
     "metadata": {
      "needs_background": "light"
     },
     "output_type": "display_data"
    },
    {
     "data": {
      "image/png": "[encoded data removed]",
      "text/plain": [
       "<Figure size 432x288 with 1 Axes>"
      ]
     },
     "metadata": {
      "needs_background": "light"
     },
     "output_type": "display_data"
    },
    {
     "data": {
      "image/png": "[encoded data removed]",
      "text/plain": [
       "<Figure size 432x288 with 1 Axes>"
      ]
     },
     "metadata": {
      "needs_background": "light"
     },
     "output_type": "display_data"
    },
    {
     "data": {
      "image/png": "[encoded data removed]",
      "text/plain": [
       "<Figure size 432x288 with 1 Axes>"
      ]
     },
     "metadata": {
      "needs_background": "light"
     },
     "output_type": "display_data"
    },
    {
     "data": {
      "image/png": "[encoded data removed]",
      "text/plain": [
       "<Figure size 432x288 with 1 Axes>"
      ]
     },
     "metadata": {
      "needs_background": "light"
     },
     "output_type": "display_data"
    }
   ],
   "source": [
    "churn_data_high_val_cust['churn'] = churn_data_high_val_cust['churn'].astype('object', copy = False)\n",
    "df_sample = churn_data_high_val_cust.groupby(['churn'])['arpu_6', 'arpu_7', 'arpu_8'].median()\n",
    "df_sample.plot.bar()\n",
    "plt.suptitle('Distribution of Arpu across months', fontsize=20)\n",
    "plt.show()\n",
    "\n",
    "df_sample = churn_data_high_val_cust.groupby(['churn'])['roam_ic_mou_6', 'roam_ic_mou_7', 'roam_ic_mou_8'].mean()\n",
    "df_sample.plot.bar()\n",
    "plt.suptitle('Roaming trend across months', fontsize=20)\n",
    "plt.show()\n",
    "\n",
    "df_sample = churn_data_high_val_cust.groupby(['churn'])['max_rech_amt_6', 'max_rech_amt_7', 'max_rech_amt_8'].mean()\n",
    "df_sample.plot.bar()\n",
    "plt.suptitle('Maximum Recharge Amount', fontsize=20)\n",
    "plt.show()\n",
    "\n",
    "\n",
    "df_sample = churn_data_high_val_cust.groupby(['churn'])['spl_og_mou_6', 'spl_og_mou_7', 'spl_og_mou_8'].median()\n",
    "df_sample.plot.bar()\n",
    "plt.suptitle('Special Outgoing Call trend across months', fontsize=20)\n",
    "plt.xlabel(\"Churn\")\n",
    "plt.ylabel(\"Average Special Outgoing Call\")\n",
    "plt.show()\n",
    "\n",
    "\n",
    "df_sample = churn_data_high_val_cust.groupby(['churn'])['std_ic_t2f_mou_6', 'std_ic_t2f_mou_7', 'std_ic_t2f_mou_8'].mean()\n",
    "df_sample.plot.bar()\n",
    "plt.suptitle('STD income Call trend across months', fontsize=20)\n",
    "plt.xlabel(\"Churn\")\n",
    "plt.ylabel(\"Average STD income Call volume\")\n",
    "plt.show()\n",
    "\n",
    "\n",
    "df_sample = churn_data_high_val_cust.groupby(['churn'])['loc_og_t2f_mou_6', 'loc_og_t2f_mou_7', 'loc_og_t2f_mou_8'].mean()\n",
    "df_sample.plot.bar()\n",
    "plt.suptitle('LOC out going trend across months', fontsize=20)\n",
    "plt.xlabel(\"Churn\")\n",
    "plt.ylabel(\"Average LOC out going\")\n",
    "plt.show()\n",
    "\n",
    "df_sample = churn_data_high_val_cust.groupby(['churn'])['loc_ic_t2f_mou_6', 'loc_ic_t2f_mou_7', 'loc_ic_t2f_mou_8'].mean()\n",
    "df_sample.plot.bar()\n",
    "plt.suptitle('LOC in coming trend across months', fontsize=20)\n",
    "plt.xlabel(\"Churn\")\n",
    "plt.ylabel(\"Average LOC in coming\")\n",
    "plt.show()\n",
    "\n",
    "df_sample = churn_data_high_val_cust.groupby(['churn'])['ic_others_6', 'ic_others_7', 'ic_others_8'].mean()\n",
    "df_sample.plot.bar()\n",
    "plt.suptitle('In coming call to Other trend across months', fontsize=20)\n",
    "plt.xlabel(\"Churn\")\n",
    "plt.ylabel(\"Average In coming call to Other\")\n",
    "plt.show()\n",
    "\n",
    "churn_data_high_val_cust['churn'] = churn_data_high_val_cust['churn'].astype('object', copy = False)\n",
    "df_sample = churn_data_high_val_cust.groupby(['churn'])['last_day_rch_amt_6', 'last_day_rch_amt_7', 'last_day_rch_amt_8'].median()\n",
    "df_sample.plot.bar()\n",
    "plt.suptitle('Distribution of Last Day Recharge Amount', fontsize=20)\n",
    "plt.xlabel(\"Churn\")\n",
    "plt.ylabel(\"Median Last Day Recharge Amount\")\n",
    "plt.show()\n"
   ]
  },
  {
   "cell_type": "markdown",
   "metadata": {},
   "source": [
    "#### Overall Conclusions"
   ]
  },
  {
   "cell_type": "markdown",
   "metadata": {},
   "source": [
    "1. Std Outgoing Calls and Revenue Per Customer are strong indicators of Churn.\n",
    "2. Local Incoming and Outgoing Calls for 8th Month and avg revenue in 8th Month are the most important columns to predict churn.\n",
    "3. Max Recharge Amount is a strong feature to predict churn.\n",
    "4. last_day_rch_amt_8 - Lower the last day recharge amount higher the churn rate. Focus on customers whos last day recharge amount has decrased. Specialy for customers without any recharge amount.\n",
    "5. roam_ic_mou_8 - Higher the incoming roaming amount, higher is the churn rate. Focus on customers whose incoming roaming amount has increased, because they are likely to churn."
   ]
  },
  {
   "cell_type": "markdown",
   "metadata": {},
   "source": [
    "#### Summary and Recommendations"
   ]
  },
  {
   "cell_type": "markdown",
   "metadata": {},
   "source": [
    "1. Offer discounted roaming outgoing packs\n",
    "2. Telecom company needs to pay attention to the roaming rates. They need to provide good offers to the customers who are using services from a roaming zone.\n",
    "3. The company needs to focus on the STD and ISD rates. Perhaps, the rates are too high. Provide them with some kind of STD and ISD packages\n",
    "4. Monitor the total recharge, offer additional talk time with additional validity on the recharges\n",
    "5. Give additional data on data pack recharges (for 7th month)\n",
    "6. Based on the usage / last recharge, if the usage is less compared to previous months, speak to the customer to know his concerns"
   ]
  },
  {
   "cell_type": "code",
   "execution_count": null,
   "metadata": {},
   "outputs": [],
   "source": []
  }
 ],
 "metadata": {
  "kernelspec": {
   "display_name": "Python 3",
   "language": "python",
   "name": "python3"
  }
 },
 "nbformat": 4,
 "nbformat_minor": 4
}
